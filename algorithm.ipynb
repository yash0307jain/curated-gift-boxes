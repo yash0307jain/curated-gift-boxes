{
 "cells": [
  {
   "cell_type": "code",
   "execution_count": 1,
   "id": "b8724e58",
   "metadata": {},
   "outputs": [],
   "source": [
    "import pickle\n",
    "import pandas as pd"
   ]
  },
  {
   "cell_type": "code",
   "execution_count": 2,
   "id": "b3b3146c",
   "metadata": {},
   "outputs": [
    {
     "data": {
      "text/plain": [
       "<966x342 sparse matrix of type '<class 'numpy.float64'>'\n",
       "\twith 2390 stored elements in Compressed Sparse Row format>"
      ]
     },
     "execution_count": 2,
     "metadata": {},
     "output_type": "execute_result"
    }
   ],
   "source": [
    "gift_matrix = pickle.load(open('gift_matrix.pkl', 'rb'))\n",
    "gift_matrix"
   ]
  },
  {
   "cell_type": "code",
   "execution_count": 3,
   "id": "4ab08711",
   "metadata": {},
   "outputs": [],
   "source": [
    "gift_pivot = pickle.load(open('gift_pivot.pkl', 'rb'))"
   ]
  },
  {
   "cell_type": "code",
   "execution_count": 4,
   "id": "51835395",
   "metadata": {},
   "outputs": [
    {
     "data": {
      "text/plain": [
       "(949, 342)"
      ]
     },
     "execution_count": 4,
     "metadata": {},
     "output_type": "execute_result"
    }
   ],
   "source": [
    "gift_pivot = pd.DataFrame(gift_pivot)\n",
    "gift_pivot.shape"
   ]
  },
  {
   "cell_type": "code",
   "execution_count": 5,
   "id": "ab688fe1",
   "metadata": {},
   "outputs": [],
   "source": [
    "from sklearn.neighbors import NearestNeighbors\n",
    "model = NearestNeighbors(algorithm='brute')"
   ]
  },
  {
   "cell_type": "code",
   "execution_count": 6,
   "id": "edbb1900",
   "metadata": {},
   "outputs": [
    {
     "data": {
      "text/plain": [
       "NearestNeighbors(algorithm='brute')"
      ]
     },
     "execution_count": 6,
     "metadata": {},
     "output_type": "execute_result"
    }
   ],
   "source": [
    "model.fit(gift_matrix)"
   ]
  },
  {
   "cell_type": "code",
   "execution_count": 12,
   "id": "e385b62e",
   "metadata": {},
   "outputs": [],
   "source": [
    "distance, suggestions = model.kneighbors(gift_pivot.iloc[0, :].values.reshape(1,-1))"
   ]
  },
  {
   "cell_type": "code",
   "execution_count": 13,
   "id": "8836cb3d",
   "metadata": {},
   "outputs": [
    {
     "data": {
      "text/plain": [
       "array([[0.        , 0.        , 4.4346    , 5.63055281, 5.74325692]])"
      ]
     },
     "execution_count": 13,
     "metadata": {},
     "output_type": "execute_result"
    }
   ],
   "source": [
    "distance"
   ]
  },
  {
   "cell_type": "code",
   "execution_count": 14,
   "id": "b1e1ec93",
   "metadata": {},
   "outputs": [
    {
     "data": {
      "text/plain": [
       "array([[  0, 789, 328,  28,  11]])"
      ]
     },
     "execution_count": 14,
     "metadata": {},
     "output_type": "execute_result"
    }
   ],
   "source": [
    "suggestions"
   ]
  },
  {
   "cell_type": "code",
   "execution_count": 16,
   "id": "7fbbe4c2",
   "metadata": {},
   "outputs": [
    {
     "name": "stdout",
     "output_type": "stream",
     "text": [
      "Index(['I’m more of a tea person 🍵$$$I prefer herbal/de-caffeinated teas✌$$$ Chocolates, Candies and baked treats 🍫 🍪 🍩 $$$  I do NOT have any allergies or dietary restrictions 👍 $$$ $$$Send 👍$$$Hard liquor (for example -- Whiskey, Bourbon, Rum, Tequila) 🥃$$$ 📸 I enjoy capturing pictures &amp; videos $$$  📱🏡 Smart home gadgets are so cool. I love them. $$$  🧘‍♀️🕯💆‍♀️🤸‍♂️I’m into health, wellness &amp; body care $$$  🐶 I have a pet dog $$$ $$$Send 👍$$$ I love being outdoors 🚶‍♀️ $$$ $$$Send 👍',\n",
      "       'I’m more of a tea person 🍵$$$I prefer herbal/de-caffeinated teas✌$$$ Savories and non-sweet snacks 🥓 🥕🥨 $$$  Chocolates, Candies and baked treats 🍫 🍪 🍩 $$$  Healthy Sweet Treats 🍯 $$$  I do NOT have any allergies or dietary restrictions 👍 $$$ $$$Send 👍$$$I do not drink alcohol ☝️$$$ 📸 I enjoy capturing pictures &amp; videos $$$  🎧 Can’t live without my Music $$$  📱🏡 Smart home gadgets are so cool. I love them. $$$  🧘‍♀️🕯💆‍♀️🤸‍♂️I’m into health, wellness &amp; body care $$$  $$$ $$$Have kid/s 3-13 years old$$$Send 👍$$$Oh yeah! 🤘',\n",
      "       'I don’t drink coffee or tea 🤭$$$ Chocolates, Candies and baked treats 🍫 🍪 🍩 $$$ $$$Send 👍$$$Red or White Wine 🍷🍾 (and similar drinks)$$$$$$Send 👍$$$$$$Send 👍',\n",
      "       'I’m more of a tea person 🍵$$$I prefer herbal/de-caffeinated teas✌$$$ Chocolates, Candies and baked treats 🍫 🍪 🍩 $$$ Shellfi $$$ $$$Hard liquor (for example -- Whiskey, Bourbon, Rum, Tequila) 🥃$$$ 📱🏡 Smart home gadgets are so cool. I love them. $$$  🧘‍♀️🕯💆‍♀️🤸‍♂️I’m into health, wellness &amp; body care $$$  🐶 I have a pet dog $$$ $$$ I love being outdoors 🚶‍♀️ $$$  $$$ ',\n",
      "       'I’m more of a tea person 🍵$$$I prefer herbal/de-caffeinated teas✌$$$ Chocolates, Candies and baked treats 🍫 🍪 🍩 $$$  Healthy Sweet Treats 🍯 $$$  I do NOT have any allergies or dietary restrictions 👍 $$$ $$$Send 👍$$$I do not drink alcohol ☝️$$$ $$$  📱🏡 Smart home gadgets are so cool. I love them. $$$  🧘‍♀️🕯💆‍♀️🤸‍♂️I’m into health, wellness &amp; body care $$$  $$$  🐶 I have a pet dog $$$ $$$Have kid/s Boy 10, 17, 12, Girl 10 years old$$$Send 👍$$$ I love being outdoors 🚶‍♀️ $$$  $$$ $$$Have kid/s SF 49ers, LA Lakers years old$$$Send 👍'],\n",
      "      dtype='object')\n"
     ]
    }
   ],
   "source": []
  },
  {
   "cell_type": "code",
   "execution_count": null,
   "id": "d7d2c81b",
   "metadata": {},
   "outputs": [],
   "source": []
  }
 ],
 "metadata": {
  "kernelspec": {
   "display_name": "Python 3 (ipykernel)",
   "language": "python",
   "name": "python3"
  },
  "language_info": {
   "codemirror_mode": {
    "name": "ipython",
    "version": 3
   },
   "file_extension": ".py",
   "mimetype": "text/x-python",
   "name": "python",
   "nbconvert_exporter": "python",
   "pygments_lexer": "ipython3",
   "version": "3.9.7"
  }
 },
 "nbformat": 4,
 "nbformat_minor": 5
}
