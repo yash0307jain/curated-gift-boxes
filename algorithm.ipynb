{
 "cells": [
  {
   "cell_type": "code",
   "execution_count": 1,
   "id": "d7d2c81b",
   "metadata": {},
   "outputs": [],
   "source": [
    "import time\n",
    "import warnings\n",
    "warnings.filterwarnings('ignore')\n",
    "\n",
    "# For loading the dataframe\n",
    "import pickle\n",
    "\n",
    "# For loading data and data manipulation\n",
    "import math\n",
    "import numpy as np\n",
    "import pandas as pd\n",
    "import matplotlib.pyplot as plt\n",
    "import seaborn as sns\n",
    "plt.style.use('fivethirtyeight')\n",
    "\n",
    "# For cleaning the text\n",
    "from nltk.corpus import stopwords\n",
    "from nltk import RegexpTokenizer\n",
    "from nltk.stem import WordNetLemmatizer\n",
    "\n",
    "# For converting them into vectors\n",
    "from sklearn.model_selection import train_test_split\n",
    "from sklearn.feature_extraction.text import TfidfVectorizer\n",
    "\n",
    "# To find the similarity distance between movies\n",
    "from sklearn.metrics.pairwise import cosine_similarity\n",
    "\n",
    "# For model building libraries\n",
    "from sklearn.linear_model import LogisticRegression\n",
    "from sklearn.svm import SVC\n",
    "from sklearn.naive_bayes import BernoulliNB, MultinomialNB\n",
    "from sklearn.tree import DecisionTreeClassifier\n",
    "from sklearn.neighbors import KNeighborsClassifier\n",
    "from sklearn.ensemble import RandomForestClassifier\n",
    "from sklearn.ensemble import AdaBoostClassifier\n",
    "from sklearn.ensemble import BaggingClassifier\n",
    "from sklearn.ensemble import ExtraTreesClassifier\n",
    "from sklearn.ensemble import GradientBoostingClassifier\n",
    "from sklearn.metrics import accuracy_score"
   ]
  },
  {
   "cell_type": "markdown",
   "id": "9bc7862e",
   "metadata": {},
   "source": [
    "# Loading the datasets"
   ]
  },
  {
   "cell_type": "code",
   "execution_count": 2,
   "id": "913b3037",
   "metadata": {},
   "outputs": [
    {
     "data": {
      "text/html": [
       "<div>\n",
       "<style scoped>\n",
       "    .dataframe tbody tr th:only-of-type {\n",
       "        vertical-align: middle;\n",
       "    }\n",
       "\n",
       "    .dataframe tbody tr th {\n",
       "        vertical-align: top;\n",
       "    }\n",
       "\n",
       "    .dataframe thead th {\n",
       "        text-align: right;\n",
       "    }\n",
       "</style>\n",
       "<table border=\"1\" class=\"dataframe\">\n",
       "  <thead>\n",
       "    <tr style=\"text-align: right;\">\n",
       "      <th></th>\n",
       "      <th>Preferences</th>\n",
       "      <th>Category</th>\n",
       "    </tr>\n",
       "  </thead>\n",
       "  <tbody>\n",
       "    <tr>\n",
       "      <th>0</th>\n",
       "      <td>I’m more of a tea person 🍵$$$I prefer herbal/d...</td>\n",
       "      <td>decaf</td>\n",
       "    </tr>\n",
       "    <tr>\n",
       "      <th>1</th>\n",
       "      <td>I’m more of a tea person 🍵$$$I prefer herbal/d...</td>\n",
       "      <td>sweet</td>\n",
       "    </tr>\n",
       "    <tr>\n",
       "      <th>2</th>\n",
       "      <td>I don’t drink coffee or tea 🤭$$$ Chocolates, C...</td>\n",
       "      <td>hard liquor accessory liquoraccessory</td>\n",
       "    </tr>\n",
       "    <tr>\n",
       "      <th>3</th>\n",
       "      <td>I don’t drink coffee or tea 🤭$$$ Chocolates, C...</td>\n",
       "      <td>sweet</td>\n",
       "    </tr>\n",
       "    <tr>\n",
       "      <th>4</th>\n",
       "      <td>I'm a coffee person ☕️$$$I like coffee but I d...</td>\n",
       "      <td>wine accessory liquoraccessory</td>\n",
       "    </tr>\n",
       "  </tbody>\n",
       "</table>\n",
       "</div>"
      ],
      "text/plain": [
       "                                         Preferences  \\\n",
       "0  I’m more of a tea person 🍵$$$I prefer herbal/d...   \n",
       "1  I’m more of a tea person 🍵$$$I prefer herbal/d...   \n",
       "2  I don’t drink coffee or tea 🤭$$$ Chocolates, C...   \n",
       "3  I don’t drink coffee or tea 🤭$$$ Chocolates, C...   \n",
       "4  I'm a coffee person ☕️$$$I like coffee but I d...   \n",
       "\n",
       "                                Category  \n",
       "0                                  decaf  \n",
       "1                                  sweet  \n",
       "2  hard liquor accessory liquoraccessory  \n",
       "3                                  sweet  \n",
       "4         wine accessory liquoraccessory  "
      ]
     },
     "execution_count": 2,
     "metadata": {},
     "output_type": "execute_result"
    }
   ],
   "source": [
    "df_predict = pickle.load(open(\"eda_data/predict.pkl\", \"rb\"))\n",
    "df_predict.head()"
   ]
  },
  {
   "cell_type": "markdown",
   "id": "98e8adfa",
   "metadata": {},
   "source": [
    "# Clean the preference"
   ]
  },
  {
   "cell_type": "code",
   "execution_count": 3,
   "id": "95982183",
   "metadata": {},
   "outputs": [],
   "source": [
    "# Creating object of tokenizer and lemmatizer\n",
    "tokenizer = RegexpTokenizer(r\"\\w+\")\n",
    "lemmatizer = WordNetLemmatizer()"
   ]
  },
  {
   "cell_type": "code",
   "execution_count": 4,
   "id": "6fba9603",
   "metadata": {},
   "outputs": [],
   "source": [
    "# Function to clean the Preference column\n",
    "def clean(row):\n",
    "    # convert into lower character\n",
    "    row = row.lower()\n",
    "    # split string into words\n",
    "    words = tokenizer.tokenize(row)\n",
    "    # remove stop words and apply lemmatization\n",
    "    words = [lemmatizer.lemmatize(word.strip()) for word in words if word not in stopwords.words('english')]\n",
    "    # convert word into string again and return\n",
    "    return ' '.join(words)"
   ]
  },
  {
   "cell_type": "code",
   "execution_count": 5,
   "id": "1cba2caa",
   "metadata": {},
   "outputs": [
    {
     "name": "stdout",
     "output_type": "stream",
     "text": [
      "CPU times: user 5.29 s, sys: 859 ms, total: 6.15 s\n",
      "Wall time: 6.15 s\n"
     ]
    }
   ],
   "source": [
    "%%time\n",
    "# Applying clean preference function to transform the text\n",
    "df_predict['Preference_Clean'] = df_predict['Preferences'].apply(clean)"
   ]
  },
  {
   "cell_type": "code",
   "execution_count": 6,
   "id": "e766ecf5",
   "metadata": {},
   "outputs": [
    {
     "data": {
      "text/html": [
       "<div>\n",
       "<style scoped>\n",
       "    .dataframe tbody tr th:only-of-type {\n",
       "        vertical-align: middle;\n",
       "    }\n",
       "\n",
       "    .dataframe tbody tr th {\n",
       "        vertical-align: top;\n",
       "    }\n",
       "\n",
       "    .dataframe thead th {\n",
       "        text-align: right;\n",
       "    }\n",
       "</style>\n",
       "<table border=\"1\" class=\"dataframe\">\n",
       "  <thead>\n",
       "    <tr style=\"text-align: right;\">\n",
       "      <th></th>\n",
       "      <th>Preferences</th>\n",
       "      <th>Category</th>\n",
       "      <th>Preference_Clean</th>\n",
       "    </tr>\n",
       "  </thead>\n",
       "  <tbody>\n",
       "    <tr>\n",
       "      <th>0</th>\n",
       "      <td>I’m more of a tea person 🍵$$$I prefer herbal/d...</td>\n",
       "      <td>decaf</td>\n",
       "      <td>tea person prefer herbal de caffeinated tea ch...</td>\n",
       "    </tr>\n",
       "    <tr>\n",
       "      <th>1</th>\n",
       "      <td>I’m more of a tea person 🍵$$$I prefer herbal/d...</td>\n",
       "      <td>sweet</td>\n",
       "      <td>tea person prefer herbal de caffeinated tea ch...</td>\n",
       "    </tr>\n",
       "    <tr>\n",
       "      <th>2</th>\n",
       "      <td>I don’t drink coffee or tea 🤭$$$ Chocolates, C...</td>\n",
       "      <td>hard liquor accessory liquoraccessory</td>\n",
       "      <td>drink coffee tea chocolate candy baked treat s...</td>\n",
       "    </tr>\n",
       "    <tr>\n",
       "      <th>3</th>\n",
       "      <td>I don’t drink coffee or tea 🤭$$$ Chocolates, C...</td>\n",
       "      <td>sweet</td>\n",
       "      <td>drink coffee tea chocolate candy baked treat s...</td>\n",
       "    </tr>\n",
       "    <tr>\n",
       "      <th>4</th>\n",
       "      <td>I'm a coffee person ☕️$$$I like coffee but I d...</td>\n",
       "      <td>wine accessory liquoraccessory</td>\n",
       "      <td>coffee person like coffee like brew chocolate ...</td>\n",
       "    </tr>\n",
       "  </tbody>\n",
       "</table>\n",
       "</div>"
      ],
      "text/plain": [
       "                                         Preferences  \\\n",
       "0  I’m more of a tea person 🍵$$$I prefer herbal/d...   \n",
       "1  I’m more of a tea person 🍵$$$I prefer herbal/d...   \n",
       "2  I don’t drink coffee or tea 🤭$$$ Chocolates, C...   \n",
       "3  I don’t drink coffee or tea 🤭$$$ Chocolates, C...   \n",
       "4  I'm a coffee person ☕️$$$I like coffee but I d...   \n",
       "\n",
       "                                Category  \\\n",
       "0                                  decaf   \n",
       "1                                  sweet   \n",
       "2  hard liquor accessory liquoraccessory   \n",
       "3                                  sweet   \n",
       "4         wine accessory liquoraccessory   \n",
       "\n",
       "                                    Preference_Clean  \n",
       "0  tea person prefer herbal de caffeinated tea ch...  \n",
       "1  tea person prefer herbal de caffeinated tea ch...  \n",
       "2  drink coffee tea chocolate candy baked treat s...  \n",
       "3  drink coffee tea chocolate candy baked treat s...  \n",
       "4  coffee person like coffee like brew chocolate ...  "
      ]
     },
     "execution_count": 6,
     "metadata": {},
     "output_type": "execute_result"
    }
   ],
   "source": [
    "df_predict.head()"
   ]
  },
  {
   "cell_type": "markdown",
   "id": "9cbc34cb",
   "metadata": {},
   "source": [
    "# Split the data into train and test"
   ]
  },
  {
   "cell_type": "code",
   "execution_count": 7,
   "id": "b6eabb0f",
   "metadata": {},
   "outputs": [
    {
     "data": {
      "text/plain": [
       "((2014,), (2014,))"
      ]
     },
     "execution_count": 7,
     "metadata": {},
     "output_type": "execute_result"
    }
   ],
   "source": [
    "X = df_predict['Preference_Clean']\n",
    "y = df_predict['Category']\n",
    "\n",
    "X.shape, y.shape"
   ]
  },
  {
   "cell_type": "code",
   "execution_count": 8,
   "id": "1beb9702",
   "metadata": {},
   "outputs": [
    {
     "data": {
      "text/plain": [
       "((1611,), (403,), (1611,), (403,))"
      ]
     },
     "execution_count": 8,
     "metadata": {},
     "output_type": "execute_result"
    }
   ],
   "source": [
    "X_train, X_test, y_train, y_test = train_test_split(X, y, test_size=0.2, random_state=42)\n",
    "\n",
    "X_train.shape, X_test.shape, y_train.shape, y_test.shape"
   ]
  },
  {
   "cell_type": "markdown",
   "id": "1135b1ca",
   "metadata": {},
   "source": [
    "# Converting feature into vectors"
   ]
  },
  {
   "cell_type": "code",
   "execution_count": 9,
   "id": "24ebfd7b",
   "metadata": {},
   "outputs": [],
   "source": [
    "tfidf_predict = TfidfVectorizer(max_features=3000, stop_words='english')"
   ]
  },
  {
   "cell_type": "code",
   "execution_count": 10,
   "id": "05ac22b4",
   "metadata": {},
   "outputs": [],
   "source": [
    "X_train_vec = tfidf_predict.fit_transform(X_train).toarray()\n",
    "X_test_vec = tfidf_predict.transform(X_test).toarray()"
   ]
  },
  {
   "cell_type": "code",
   "execution_count": 11,
   "id": "c352b020",
   "metadata": {},
   "outputs": [
    {
     "data": {
      "text/plain": [
       "(1611, 560)"
      ]
     },
     "execution_count": 11,
     "metadata": {},
     "output_type": "execute_result"
    }
   ],
   "source": [
    "X_train_vec.shape"
   ]
  },
  {
   "cell_type": "markdown",
   "id": "064ce98d",
   "metadata": {},
   "source": [
    "# Creating a model"
   ]
  },
  {
   "cell_type": "code",
   "execution_count": 12,
   "id": "e6af3acd",
   "metadata": {},
   "outputs": [
    {
     "data": {
      "text/plain": [
       "<AxesSubplot:>"
      ]
     },
     "execution_count": 12,
     "metadata": {},
     "output_type": "execute_result"
    },
    {
     "data": {
      "image/png": "[encoded data removed]",
      "text/plain": [
       "<Figure size 864x504 with 1 Axes>"
      ]
     },
     "metadata": {},
     "output_type": "display_data"
    }
   ],
   "source": [
    "# Checking for the best value of n_neighbours in KNN\n",
    "accuracy_knn = []\n",
    "for i in range(1, 100):\n",
    "    knn = KNeighborsClassifier(n_neighbors=i)\n",
    "    knn.fit(X_train_vec, y_train)\n",
    "    y_pred = knn.predict(X_test_vec)\n",
    "    accuracy_knn.append(accuracy_score(y_test, y_pred))\n",
    "    \n",
    "pd.DataFrame(accuracy_knn).plot(figsize=(12,7))"
   ]
  },
  {
   "cell_type": "markdown",
   "id": "559d79c5",
   "metadata": {},
   "source": [
    "### Increase the model performance:\n",
    "* **Logic 1:** Initially, I am splitting the ProductTag with comma's and treat them as seperate category, so there were 39 ProductTag after splitting, and I am getting the best accuracy of **18 percent**\n",
    "* **Logic 2:** After that I found out there were some ProductTag which were redundant with a difference of upper and lower character, so after converting all categories to lower character, and I am getting the best accuracy of around **20 percent**\n",
    "* **Logic 3:** Then to improve further I remove the ProductTag that has less than 50 records, and I am getting the best accuracy of **23 percent**\n",
    "* **Logic 4:** So, before I was spliting the ProductTag with comma's and treat them as a seperate category, but after removing that logic, I was directly using ProductTag with just string cleaning, and I am getting the best accuracy of around **40.9 percent**\n",
    "* **Logic 5:** After Logic 4, I was only removing the ProductTag that has less than 30 records, and I am getting the best accuracy of **33.99 percent**"
   ]
  },
  {
   "cell_type": "code",
   "execution_count": 13,
   "id": "c6b021f1",
   "metadata": {},
   "outputs": [],
   "source": [
    "svc = SVC(kernel='sigmoid', gamma=1.0, probability=True)\n",
    "knc = KNeighborsClassifier(n_neighbors=64)\n",
    "bnb = BernoulliNB()\n",
    "mnb = MultinomialNB()\n",
    "dtc = DecisionTreeClassifier(max_depth=5)\n",
    "lrc = LogisticRegression(solver='liblinear', penalty='l1')\n",
    "rfc = RandomForestClassifier(n_estimators=50, random_state=2)\n",
    "abc = AdaBoostClassifier(n_estimators=50, random_state=2)\n",
    "bc = BaggingClassifier(n_estimators=50, random_state=2)\n",
    "etc = ExtraTreesClassifier(n_estimators=50, random_state=2)\n",
    "gbdt = GradientBoostingClassifier(n_estimators=50,random_state=2)"
   ]
  },
  {
   "cell_type": "code",
   "execution_count": 14,
   "id": "503db8cb",
   "metadata": {},
   "outputs": [
    {
     "name": "stdout",
     "output_type": "stream",
     "text": [
      "CPU times: user 17.1 s, sys: 1.41 s, total: 18.5 s\n",
      "Wall time: 15.5 s\n"
     ]
    }
   ],
   "source": [
    "%%time\n",
    "model_perf = []\n",
    "classifiers = [svc, knc, bnb, mnb, dtc, lrc, rfc, abc, bc, etc, gbdt]\n",
    "for classifier in classifiers:\n",
    "    classifier.fit(X_train_vec, y_train)\n",
    "    y_pred = classifier.predict(X_test_vec)\n",
    "    accuracy = accuracy_score(y_test, y_pred)\n",
    "    model_perf.append({'Model': classifier, 'Accuracy': accuracy})"
   ]
  },
  {
   "cell_type": "markdown",
   "id": "873c29f1",
   "metadata": {},
   "source": [
    "### Model performance"
   ]
  },
  {
   "cell_type": "code",
   "execution_count": 15,
   "id": "8895f89c",
   "metadata": {},
   "outputs": [
    {
     "data": {
      "text/html": [
       "<div>\n",
       "<style scoped>\n",
       "    .dataframe tbody tr th:only-of-type {\n",
       "        vertical-align: middle;\n",
       "    }\n",
       "\n",
       "    .dataframe tbody tr th {\n",
       "        vertical-align: top;\n",
       "    }\n",
       "\n",
       "    .dataframe thead th {\n",
       "        text-align: right;\n",
       "    }\n",
       "</style>\n",
       "<table border=\"1\" class=\"dataframe\">\n",
       "  <thead>\n",
       "    <tr style=\"text-align: right;\">\n",
       "      <th></th>\n",
       "      <th>Model</th>\n",
       "      <th>Accuracy</th>\n",
       "    </tr>\n",
       "  </thead>\n",
       "  <tbody>\n",
       "    <tr>\n",
       "      <th>0</th>\n",
       "      <td>SVC(gamma=1.0, kernel='sigmoid', probability=T...</td>\n",
       "      <td>0.325062</td>\n",
       "    </tr>\n",
       "    <tr>\n",
       "      <th>1</th>\n",
       "      <td>KNeighborsClassifier(n_neighbors=64)</td>\n",
       "      <td>0.332506</td>\n",
       "    </tr>\n",
       "    <tr>\n",
       "      <th>2</th>\n",
       "      <td>BernoulliNB()</td>\n",
       "      <td>0.258065</td>\n",
       "    </tr>\n",
       "    <tr>\n",
       "      <th>3</th>\n",
       "      <td>MultinomialNB()</td>\n",
       "      <td>0.215881</td>\n",
       "    </tr>\n",
       "    <tr>\n",
       "      <th>4</th>\n",
       "      <td>DecisionTreeClassifier(max_depth=5)</td>\n",
       "      <td>0.285360</td>\n",
       "    </tr>\n",
       "    <tr>\n",
       "      <th>5</th>\n",
       "      <td>LogisticRegression(penalty='l1', solver='libli...</td>\n",
       "      <td>0.339950</td>\n",
       "    </tr>\n",
       "    <tr>\n",
       "      <th>6</th>\n",
       "      <td>(DecisionTreeClassifier(max_features='auto', r...</td>\n",
       "      <td>0.047146</td>\n",
       "    </tr>\n",
       "    <tr>\n",
       "      <th>7</th>\n",
       "      <td>(DecisionTreeClassifier(max_depth=1, random_st...</td>\n",
       "      <td>0.183623</td>\n",
       "    </tr>\n",
       "    <tr>\n",
       "      <th>8</th>\n",
       "      <td>(DecisionTreeClassifier(random_state=114693939...</td>\n",
       "      <td>0.039702</td>\n",
       "    </tr>\n",
       "    <tr>\n",
       "      <th>9</th>\n",
       "      <td>(ExtraTreeClassifier(random_state=1872583848),...</td>\n",
       "      <td>0.037221</td>\n",
       "    </tr>\n",
       "    <tr>\n",
       "      <th>10</th>\n",
       "      <td>([DecisionTreeRegressor(criterion='friedman_ms...</td>\n",
       "      <td>0.094293</td>\n",
       "    </tr>\n",
       "  </tbody>\n",
       "</table>\n",
       "</div>"
      ],
      "text/plain": [
       "                                                Model  Accuracy\n",
       "0   SVC(gamma=1.0, kernel='sigmoid', probability=T...  0.325062\n",
       "1                KNeighborsClassifier(n_neighbors=64)  0.332506\n",
       "2                                       BernoulliNB()  0.258065\n",
       "3                                     MultinomialNB()  0.215881\n",
       "4                 DecisionTreeClassifier(max_depth=5)  0.285360\n",
       "5   LogisticRegression(penalty='l1', solver='libli...  0.339950\n",
       "6   (DecisionTreeClassifier(max_features='auto', r...  0.047146\n",
       "7   (DecisionTreeClassifier(max_depth=1, random_st...  0.183623\n",
       "8   (DecisionTreeClassifier(random_state=114693939...  0.039702\n",
       "9   (ExtraTreeClassifier(random_state=1872583848),...  0.037221\n",
       "10  ([DecisionTreeRegressor(criterion='friedman_ms...  0.094293"
      ]
     },
     "execution_count": 15,
     "metadata": {},
     "output_type": "execute_result"
    }
   ],
   "source": [
    "df_model_perf = pd.DataFrame(model_perf)\n",
    "df_model_perf"
   ]
  },
  {
   "cell_type": "code",
   "execution_count": 16,
   "id": "838915c9",
   "metadata": {},
   "outputs": [
    {
     "data": {
      "image/png": "[encoded data removed]",
      "text/plain": [
       "<Figure size 864x504 with 1 Axes>"
      ]
     },
     "metadata": {},
     "output_type": "display_data"
    }
   ],
   "source": [
    "# Plot for the model performance\n",
    "plt.figure(figsize=(12,7))\n",
    "plt.bar(list(map(str, df_model_perf['Model'])), list(df_model_perf['Accuracy']))\n",
    "plt.title('Model performance using accuracy')\n",
    "plt.xlabel('Algorithms')\n",
    "plt.xticks(rotation='vertical')\n",
    "plt.ylabel('Percentange on the scale of 0 to 1')\n",
    "plt.show()"
   ]
  },
  {
   "cell_type": "markdown",
   "id": "109348b8",
   "metadata": {},
   "source": [
    "# Picking the Support Vector Machine for prediction"
   ]
  },
  {
   "cell_type": "code",
   "execution_count": 17,
   "id": "fe46d43e",
   "metadata": {},
   "outputs": [
    {
     "data": {
      "text/plain": [
       "(2014, 569)"
      ]
     },
     "execution_count": 17,
     "metadata": {},
     "output_type": "execute_result"
    }
   ],
   "source": [
    "# converting all the records into vectors\n",
    "X_vec = tfidf_predict.fit_transform(X).toarray()\n",
    "X_vec.shape"
   ]
  },
  {
   "cell_type": "code",
   "execution_count": 18,
   "id": "94cfb27e",
   "metadata": {},
   "outputs": [
    {
     "data": {
      "text/plain": [
       "SVC(gamma=1.0, kernel='sigmoid', probability=True)"
      ]
     },
     "execution_count": 18,
     "metadata": {},
     "output_type": "execute_result"
    }
   ],
   "source": [
    "# training the SVC\n",
    "svc = SVC(kernel='sigmoid', gamma=1.0, probability=True)\n",
    "svc.fit(X_vec, y)"
   ]
  },
  {
   "cell_type": "markdown",
   "id": "3bbe7071",
   "metadata": {},
   "source": [
    "# Creating recommendation model"
   ]
  },
  {
   "cell_type": "code",
   "execution_count": 19,
   "id": "15ad7a33",
   "metadata": {},
   "outputs": [
    {
     "data": {
      "text/html": [
       "<div>\n",
       "<style scoped>\n",
       "    .dataframe tbody tr th:only-of-type {\n",
       "        vertical-align: middle;\n",
       "    }\n",
       "\n",
       "    .dataframe tbody tr th {\n",
       "        vertical-align: top;\n",
       "    }\n",
       "\n",
       "    .dataframe thead th {\n",
       "        text-align: right;\n",
       "    }\n",
       "</style>\n",
       "<table border=\"1\" class=\"dataframe\">\n",
       "  <thead>\n",
       "    <tr style=\"text-align: right;\">\n",
       "      <th></th>\n",
       "      <th>ProductId</th>\n",
       "      <th>ProductName</th>\n",
       "      <th>ProductTag</th>\n",
       "      <th>Rating</th>\n",
       "      <th>Cost</th>\n",
       "      <th>Price</th>\n",
       "      <th>Tag</th>\n",
       "    </tr>\n",
       "  </thead>\n",
       "  <tbody>\n",
       "    <tr>\n",
       "      <th>0</th>\n",
       "      <td>245</td>\n",
       "      <td>Guatemalan Signature Roast Ground Coffee</td>\n",
       "      <td>coffee, ground</td>\n",
       "      <td>4.4427</td>\n",
       "      <td>13.78</td>\n",
       "      <td>25.99</td>\n",
       "      <td>guatemalan signature roast ground coffee coffe...</td>\n",
       "    </tr>\n",
       "    <tr>\n",
       "      <th>1</th>\n",
       "      <td>278</td>\n",
       "      <td>Los Gigantes Colombia (Coffee Beans)</td>\n",
       "      <td>coffee, artisanal</td>\n",
       "      <td>4.3185</td>\n",
       "      <td>10.75</td>\n",
       "      <td>20.00</td>\n",
       "      <td>los gigantes colombia coffee bean coffee artis...</td>\n",
       "    </tr>\n",
       "    <tr>\n",
       "      <th>2</th>\n",
       "      <td>351</td>\n",
       "      <td>Rowkin Bit Charge Stereo (Silver)</td>\n",
       "      <td>music</td>\n",
       "      <td>4.0000</td>\n",
       "      <td>64.00</td>\n",
       "      <td>102.99</td>\n",
       "      <td>rowkin bit charge stereo silver music</td>\n",
       "    </tr>\n",
       "    <tr>\n",
       "      <th>3</th>\n",
       "      <td>424</td>\n",
       "      <td>Chocolate Fruit and Nut Dragee Sampler</td>\n",
       "      <td>sweet</td>\n",
       "      <td>4.4643</td>\n",
       "      <td>21.00</td>\n",
       "      <td>35.00</td>\n",
       "      <td>chocolate fruit nut dragee sampler sweet</td>\n",
       "    </tr>\n",
       "    <tr>\n",
       "      <th>4</th>\n",
       "      <td>700</td>\n",
       "      <td>Pro Lens Kit for Phone Camera</td>\n",
       "      <td>photography</td>\n",
       "      <td>4.3588</td>\n",
       "      <td>24.50</td>\n",
       "      <td>42.99</td>\n",
       "      <td>pro lens kit phone camera photography</td>\n",
       "    </tr>\n",
       "  </tbody>\n",
       "</table>\n",
       "</div>"
      ],
      "text/plain": [
       "   ProductId                               ProductName         ProductTag  \\\n",
       "0        245  Guatemalan Signature Roast Ground Coffee     coffee, ground   \n",
       "1        278      Los Gigantes Colombia (Coffee Beans)  coffee, artisanal   \n",
       "2        351         Rowkin Bit Charge Stereo (Silver)              music   \n",
       "3        424    Chocolate Fruit and Nut Dragee Sampler              sweet   \n",
       "4        700             Pro Lens Kit for Phone Camera        photography   \n",
       "\n",
       "   Rating   Cost   Price                                                Tag  \n",
       "0  4.4427  13.78   25.99  guatemalan signature roast ground coffee coffe...  \n",
       "1  4.3185  10.75   20.00  los gigantes colombia coffee bean coffee artis...  \n",
       "2  4.0000  64.00  102.99              rowkin bit charge stereo silver music  \n",
       "3  4.4643  21.00   35.00           chocolate fruit nut dragee sampler sweet  \n",
       "4  4.3588  24.50   42.99              pro lens kit phone camera photography  "
      ]
     },
     "execution_count": 19,
     "metadata": {},
     "output_type": "execute_result"
    }
   ],
   "source": [
    "df_recommend = pickle.load(open(\"eda_data/recommendation.pkl\", 'rb'))\n",
    "df_recommend.head()"
   ]
  },
  {
   "cell_type": "markdown",
   "id": "2dc4ed09",
   "metadata": {},
   "source": [
    "### Converting tags column into vectors"
   ]
  },
  {
   "cell_type": "code",
   "execution_count": 20,
   "id": "d02e335e",
   "metadata": {},
   "outputs": [],
   "source": [
    "tfidf_recommend = TfidfVectorizer(max_features=5000, stop_words='english')"
   ]
  },
  {
   "cell_type": "code",
   "execution_count": 21,
   "id": "be5822c5",
   "metadata": {},
   "outputs": [
    {
     "data": {
      "text/plain": [
       "array([[0., 0., 0., ..., 0., 0., 0.],\n",
       "       [0., 0., 0., ..., 0., 0., 0.],\n",
       "       [0., 0., 0., ..., 0., 0., 0.],\n",
       "       ...,\n",
       "       [0., 0., 0., ..., 0., 0., 0.],\n",
       "       [0., 0., 0., ..., 0., 0., 0.],\n",
       "       [0., 0., 0., ..., 0., 0., 0.]])"
      ]
     },
     "execution_count": 21,
     "metadata": {},
     "output_type": "execute_result"
    }
   ],
   "source": [
    "recommend_vec = tfidf_recommend.fit_transform(df_recommend['Tag']).toarray()\n",
    "recommend_vec"
   ]
  },
  {
   "cell_type": "code",
   "execution_count": 22,
   "id": "5b70be76",
   "metadata": {},
   "outputs": [
    {
     "data": {
      "text/plain": [
       "(341, 781)"
      ]
     },
     "execution_count": 22,
     "metadata": {},
     "output_type": "execute_result"
    }
   ],
   "source": [
    "recommend_vec.shape"
   ]
  },
  {
   "cell_type": "markdown",
   "id": "85742f35",
   "metadata": {},
   "source": [
    "### Calculate the cosine distance between the vectors, and the values of matrix represent the percentage of similarity between tags"
   ]
  },
  {
   "cell_type": "code",
   "execution_count": 23,
   "id": "3df935af",
   "metadata": {},
   "outputs": [
    {
     "data": {
      "text/plain": [
       "array([[1.        , 0.25549427, 0.        , ..., 0.        , 0.        ,\n",
       "        0.        ],\n",
       "       [0.25549427, 1.        , 0.        , ..., 0.        , 0.        ,\n",
       "        0.        ],\n",
       "       [0.        , 0.        , 1.        , ..., 0.        , 0.        ,\n",
       "        0.        ],\n",
       "       ...,\n",
       "       [0.        , 0.        , 0.        , ..., 1.        , 0.        ,\n",
       "        0.        ],\n",
       "       [0.        , 0.        , 0.        , ..., 0.        , 1.        ,\n",
       "        0.87744968],\n",
       "       [0.        , 0.        , 0.        , ..., 0.        , 0.87744968,\n",
       "        1.        ]])"
      ]
     },
     "execution_count": 23,
     "metadata": {},
     "output_type": "execute_result"
    }
   ],
   "source": [
    "similarity = cosine_similarity(recommend_vec)\n",
    "similarity"
   ]
  },
  {
   "cell_type": "code",
   "execution_count": 24,
   "id": "5258cad4",
   "metadata": {},
   "outputs": [
    {
     "data": {
      "text/plain": [
       "(341, 341)"
      ]
     },
     "execution_count": 24,
     "metadata": {},
     "output_type": "execute_result"
    }
   ],
   "source": [
    "similarity.shape"
   ]
  },
  {
   "cell_type": "markdown",
   "id": "18dbbeb3",
   "metadata": {},
   "source": [
    "### Recommender function that will give the recommended movies closest to the given one"
   ]
  },
  {
   "cell_type": "code",
   "execution_count": 25,
   "id": "bbc61551",
   "metadata": {},
   "outputs": [],
   "source": [
    "def recommender(product):\n",
    "    product_index = df_recommend[df_recommend['ProductName'] == product].index[0]\n",
    "    similarity_percentage = similarity[product_index]\n",
    "    recommended_product = sorted(list(enumerate(similarity_percentage)), reverse=True, key=lambda x:x[1])[1:6]\n",
    "    \n",
    "    products = []\n",
    "    for index in recommended_product:\n",
    "        products.append(df_recommend.iloc[index[0]]['ProductName'])\n",
    "        \n",
    "    return products"
   ]
  },
  {
   "cell_type": "code",
   "execution_count": 26,
   "id": "741afbc7",
   "metadata": {},
   "outputs": [
    {
     "data": {
      "text/plain": [
       "['Vanilla Bean Shortbread Cookies',\n",
       " 'The Luxe Collection Cocoa Shortbread',\n",
       " 'Chocolate Cacao Nib Shortbread',\n",
       " 'Original Speculoos Cookies- 4.8oz',\n",
       " 'The Luxe Collection Almond Butter Cookies']"
      ]
     },
     "execution_count": 26,
     "metadata": {},
     "output_type": "execute_result"
    }
   ],
   "source": [
    "recommender(\"Pecan Shortbread cookies\")"
   ]
  },
  {
   "cell_type": "markdown",
   "id": "4e7e6dcc",
   "metadata": {},
   "source": [
    "# Pipeline that recommends products on the basis of preference\n",
    "* Logistic Regression and Support Vector Machine have the same accuracy\n",
    "* So first predicting with the Logistic Regression\n",
    "* And then try with the Support Vector Machine\n",
    "* And getting better results with Support Vector Machine"
   ]
  },
  {
   "cell_type": "markdown",
   "id": "52903786",
   "metadata": {},
   "source": [
    "### Gift boxes with 20 percent profit atleast\n",
    "**NOTE: Margin should be atleast 20 percent** "
   ]
  },
  {
   "cell_type": "code",
   "execution_count": 27,
   "id": "eb874351",
   "metadata": {},
   "outputs": [],
   "source": [
    "def margin_percentage(price, cost):\n",
    "    total_amount_charged = price\n",
    "    total_cost = cost\n",
    "    shipping_fees = 9.5\n",
    "    strip_fee = ((total_amount_charged * 2.9) / 100) + 0.3\n",
    "    \n",
    "    margin = total_amount_charged - total_cost - shipping_fees - strip_fee\n",
    "    margin_percentage = ((margin * 100) / total_amount_charged)\n",
    "\n",
    "    return margin_percentage"
   ]
  },
  {
   "cell_type": "code",
   "execution_count": 28,
   "id": "7dc78d3c",
   "metadata": {},
   "outputs": [],
   "source": [
    "def product_group(product_price, order_price):\n",
    "    # converting dictionary into 2D array\n",
    "    product_list = [product_price[category] for category in product_price]\n",
    "    \n",
    "    # finding the max number of products in any sub array\n",
    "    max_groups = 0\n",
    "    for product in product_list:\n",
    "        if max_groups < len(product):\n",
    "            max_groups = len(product)\n",
    "    \n",
    "    # creating groups of products \n",
    "    groups = []\n",
    "    for i in range(max_groups):\n",
    "        temp_group = []\n",
    "        for j in range(len(product_list)):\n",
    "            if len(product_list[j]) > i:\n",
    "                temp_group.append(product_list[j][i])\n",
    "            else:\n",
    "                temp_group.append(product_list[j][len(product_list[j])-1])\n",
    "        groups.append(temp_group)\n",
    "    \n",
    "    # creating box of products maintaining 20 percent margin\n",
    "    boxes = []\n",
    "    for group in groups:\n",
    "        ids = ''\n",
    "        cost = 0.0\n",
    "        price = 0.0\n",
    "        margin_satisfy = False\n",
    "        \n",
    "        for product in group:\n",
    "            ids += str(product[0]) + ','\n",
    "            cost += product[1]\n",
    "            price += product[2]\n",
    "            if margin_percentage(price, cost) >= 20:\n",
    "                margin_satisfy = True\n",
    "                break\n",
    "\n",
    "        if margin_satisfy:\n",
    "            ids = ids[:len(ids) - 1]\n",
    "            box = [ids, price]\n",
    "            boxes.append(box)\n",
    "    \n",
    "    return sorted(boxes, key=lambda x: x[1], reverse=True)[:3]"
   ]
  },
  {
   "cell_type": "code",
   "execution_count": 29,
   "id": "b1dfa403",
   "metadata": {},
   "outputs": [],
   "source": [
    "def product_category(preds):\n",
    "    # fecthing all the products which has category as product\n",
    "    df_product = pd.DataFrame(columns=['ProductId', 'ProductName', 'ProductTag', 'Rating', 'Cost', 'Price'])\n",
    "    product_dic = {}\n",
    "    for pred in preds:\n",
    "        # adding pred as key in dic\n",
    "        product_dic[pred]= []\n",
    "        \n",
    "        # fetching products on the basis of category\n",
    "        df_temp = df_recommend[df_recommend['ProductTag'].apply(lambda product_tag: pred in clean(product_tag))]\n",
    "        # filtering products with more than 4 category\n",
    "        df_temp = df_temp[df_temp['Rating'] > 4]\n",
    "        # sorting products on the basis of price\n",
    "        df_temp = df_temp.sort_values(by=['Price'], ascending=False)\n",
    "        # top price product\n",
    "        top_price_product = df_temp.iloc[0]['ProductName']\n",
    "        \n",
    "        # assinging top price product item into df_product dataframe\n",
    "        df_product.loc[len(df_product.index)] = df_temp.iloc[0]\n",
    "        # fetching product id, cost and price of the top price product\n",
    "        dic_value = list(df_temp.iloc[0][['ProductId', 'Cost', 'Price']].values)\n",
    "        # storing dic_value into the product_dic\n",
    "        product_dic[pred].append(dic_value)\n",
    "        \n",
    "        # recommend products on the bsis of top price product\n",
    "        product_recommendations = recommender(top_price_product)\n",
    "        \n",
    "        for product in product_recommendations:\n",
    "            # fetching product with product name\n",
    "            df_temp = df_recommend[df_recommend['ProductName'] == product]\n",
    "            # filtering if product has more than 4 category\n",
    "            df_temp = df_temp[df_temp['Rating'] > 4]\n",
    "            \n",
    "            # checking after filtering df_temp has any record or not\n",
    "            if df_temp.shape[0] != 0:\n",
    "                # assinging item into df_product dataframe\n",
    "                df_product.loc[len(df_product.index)] = df_temp.iloc[0]\n",
    "                # fetching product id, cost and price\n",
    "                dic_value = list(df_temp.iloc[0][['ProductId', 'Cost', 'Price']].values)\n",
    "                # storing dic_value into the product_dic\n",
    "                product_dic[pred].append(dic_value)\n",
    "\n",
    "    return product_dic"
   ]
  },
  {
   "cell_type": "code",
   "execution_count": 30,
   "id": "c6caad72",
   "metadata": {},
   "outputs": [],
   "source": [
    "def gift_boxes(pref, order_price):\n",
    "    # creating a dataframe\n",
    "    df = pd.DataFrame({\"Preference\": [pref]})\n",
    "    \n",
    "    # cleaning the preference\n",
    "    df['Preference_Clean'] = df['Preference'].apply(clean)\n",
    "    \n",
    "    # transform the preference into vectors\n",
    "    df_vec = tfidf_predict.transform(df['Preference_Clean']).toarray()\n",
    "    \n",
    "    # predict the category\n",
    "    pred = svc.predict(df_vec)[0]\n",
    "    \n",
    "    # predict probability\n",
    "    pred_prob = svc.predict_proba(df_vec)[0]\n",
    "    \n",
    "    # dictionary of category with its probability\n",
    "    category_prob = {}\n",
    "    for i in range(len(pred_prob)):\n",
    "        category_prob[svc.classes_[i]] = pred_prob[i]\n",
    "    \n",
    "    # sort the dictionary to get the max two\n",
    "    category_prob_sort = dict(sorted(category_prob.items(), key=lambda item: item[1], reverse=True))\n",
    "    \n",
    "    # taking the categories which has a predicted percentage of more than or equal to 10 percent\n",
    "    preds = []\n",
    "    for category in category_prob_sort.keys():\n",
    "        if category_prob_sort[category] >= 0.1:\n",
    "            preds.append(category)\n",
    "        if len(preds) > 3:\n",
    "            break\n",
    "    \n",
    "    # fetching products on the basis of category\n",
    "    products_price = product_category(preds)\n",
    "    \n",
    "    return product_group(products_price, order_price)"
   ]
  },
  {
   "cell_type": "markdown",
   "id": "e1953651",
   "metadata": {},
   "source": [
    "# Check with test data"
   ]
  },
  {
   "cell_type": "code",
   "execution_count": 31,
   "id": "a203652f",
   "metadata": {},
   "outputs": [
    {
     "data": {
      "text/html": [
       "<div>\n",
       "<style scoped>\n",
       "    .dataframe tbody tr th:only-of-type {\n",
       "        vertical-align: middle;\n",
       "    }\n",
       "\n",
       "    .dataframe tbody tr th {\n",
       "        vertical-align: top;\n",
       "    }\n",
       "\n",
       "    .dataframe thead th {\n",
       "        text-align: right;\n",
       "    }\n",
       "</style>\n",
       "<table border=\"1\" class=\"dataframe\">\n",
       "  <thead>\n",
       "    <tr style=\"text-align: right;\">\n",
       "      <th></th>\n",
       "      <th>Unnamed: 0</th>\n",
       "      <th>OrderID</th>\n",
       "      <th>OrderPrice</th>\n",
       "      <th>Preferences</th>\n",
       "    </tr>\n",
       "  </thead>\n",
       "  <tbody>\n",
       "    <tr>\n",
       "      <th>0</th>\n",
       "      <td>1001</td>\n",
       "      <td>171888537</td>\n",
       "      <td>40</td>\n",
       "      <td>I'm a coffee person ☕️$$$I love to make pour o...</td>\n",
       "    </tr>\n",
       "    <tr>\n",
       "      <th>1</th>\n",
       "      <td>1002</td>\n",
       "      <td>171888536</td>\n",
       "      <td>40</td>\n",
       "      <td>I'm a coffee person ☕️$$$I love to make pour o...</td>\n",
       "    </tr>\n",
       "    <tr>\n",
       "      <th>2</th>\n",
       "      <td>1003</td>\n",
       "      <td>171888535</td>\n",
       "      <td>40</td>\n",
       "      <td>I don’t drink coffee or tea 🤭$$$ Chocolates, C...</td>\n",
       "    </tr>\n",
       "    <tr>\n",
       "      <th>3</th>\n",
       "      <td>1004</td>\n",
       "      <td>171888533</td>\n",
       "      <td>30</td>\n",
       "      <td>I'm a coffee person ☕️$$$I love to make pour o...</td>\n",
       "    </tr>\n",
       "    <tr>\n",
       "      <th>4</th>\n",
       "      <td>1005</td>\n",
       "      <td>171888532</td>\n",
       "      <td>50</td>\n",
       "      <td>I’m more of a tea person 🍵$$$Any specialty tea...</td>\n",
       "    </tr>\n",
       "  </tbody>\n",
       "</table>\n",
       "</div>"
      ],
      "text/plain": [
       "   Unnamed: 0    OrderID  OrderPrice  \\\n",
       "0        1001  171888537          40   \n",
       "1        1002  171888536          40   \n",
       "2        1003  171888535          40   \n",
       "3        1004  171888533          30   \n",
       "4        1005  171888532          50   \n",
       "\n",
       "                                         Preferences  \n",
       "0  I'm a coffee person ☕️$$$I love to make pour o...  \n",
       "1  I'm a coffee person ☕️$$$I love to make pour o...  \n",
       "2  I don’t drink coffee or tea 🤭$$$ Chocolates, C...  \n",
       "3  I'm a coffee person ☕️$$$I love to make pour o...  \n",
       "4  I’m more of a tea person 🍵$$$Any specialty tea...  "
      ]
     },
     "execution_count": 31,
     "metadata": {},
     "output_type": "execute_result"
    }
   ],
   "source": [
    "df_test_sample = pd.read_csv(\"data/test_input.csv\")\n",
    "df_test_sample.head()"
   ]
  },
  {
   "cell_type": "code",
   "execution_count": 32,
   "id": "207cd5f1",
   "metadata": {},
   "outputs": [
    {
     "data": {
      "text/html": [
       "<div>\n",
       "<style scoped>\n",
       "    .dataframe tbody tr th:only-of-type {\n",
       "        vertical-align: middle;\n",
       "    }\n",
       "\n",
       "    .dataframe tbody tr th {\n",
       "        vertical-align: top;\n",
       "    }\n",
       "\n",
       "    .dataframe thead th {\n",
       "        text-align: right;\n",
       "    }\n",
       "</style>\n",
       "<table border=\"1\" class=\"dataframe\">\n",
       "  <thead>\n",
       "    <tr style=\"text-align: right;\">\n",
       "      <th></th>\n",
       "      <th>OrderPrice</th>\n",
       "      <th>Preferences</th>\n",
       "    </tr>\n",
       "  </thead>\n",
       "  <tbody>\n",
       "    <tr>\n",
       "      <th>0</th>\n",
       "      <td>40</td>\n",
       "      <td>I'm a coffee person ☕️$$$I love to make pour o...</td>\n",
       "    </tr>\n",
       "    <tr>\n",
       "      <th>1</th>\n",
       "      <td>40</td>\n",
       "      <td>I'm a coffee person ☕️$$$I love to make pour o...</td>\n",
       "    </tr>\n",
       "    <tr>\n",
       "      <th>2</th>\n",
       "      <td>40</td>\n",
       "      <td>I don’t drink coffee or tea 🤭$$$ Chocolates, C...</td>\n",
       "    </tr>\n",
       "    <tr>\n",
       "      <th>3</th>\n",
       "      <td>30</td>\n",
       "      <td>I'm a coffee person ☕️$$$I love to make pour o...</td>\n",
       "    </tr>\n",
       "    <tr>\n",
       "      <th>4</th>\n",
       "      <td>50</td>\n",
       "      <td>I’m more of a tea person 🍵$$$Any specialty tea...</td>\n",
       "    </tr>\n",
       "  </tbody>\n",
       "</table>\n",
       "</div>"
      ],
      "text/plain": [
       "   OrderPrice                                        Preferences\n",
       "0          40  I'm a coffee person ☕️$$$I love to make pour o...\n",
       "1          40  I'm a coffee person ☕️$$$I love to make pour o...\n",
       "2          40  I don’t drink coffee or tea 🤭$$$ Chocolates, C...\n",
       "3          30  I'm a coffee person ☕️$$$I love to make pour o...\n",
       "4          50  I’m more of a tea person 🍵$$$Any specialty tea..."
      ]
     },
     "execution_count": 32,
     "metadata": {},
     "output_type": "execute_result"
    }
   ],
   "source": [
    "df_test_sample = df_test_sample[['OrderPrice', 'Preferences']]\n",
    "df_test_sample.head()"
   ]
  },
  {
   "cell_type": "code",
   "execution_count": 33,
   "id": "d36f2bb4",
   "metadata": {},
   "outputs": [
    {
     "name": "stdout",
     "output_type": "stream",
     "text": [
      "Preference: I'm a coffee person ☕️$$$I love to make pour over/specialty coffees from coffee beans 🙋‍♀️☕️$$$ Savories and non-sweet snacks 🥓 🥕🥨 $$$  Chocolates, Candies and baked treats 🍫 🍪 🍩 $$$  I do NOT have any allergies or dietary restrictions 👍 $$$ $$$Send 👍$$$I like everything 👍$$$ 📱🏡 Smart home gadgets are so cool. I love them. $$$  $$$ $$$Have kid/s Girl-2yrs boy-3mo years old$$$Send 👍$$$ I love being outdoors 🚶‍♀️ $$$ $$$Send 👍\n",
      "-\n",
      "Order Price: 40\n",
      "-\n",
      "Recommended Gift Boxes:--------------------------\n",
      "Gift Box: 1 => Product Id: (2132,424), Total Amount Charged: 57.0$\n",
      "Gift Box: 2 => Product Id: (2426,2999), Total Amount Charged: 52.0$\n",
      "Gift Box: 3 => Product Id: (1220,2241), Total Amount Charged: 33.7$\n",
      "\n",
      "================================================\n",
      "\n",
      "Preference: I'm a coffee person ☕️$$$I love to make pour over/specialty coffees from coffee beans 🙋‍♀️☕️$$$ Savories and non-sweet snacks 🥓 🥕🥨 $$$  Chocolates, Candies and baked treats 🍫 🍪 🍩 $$$ $$$Send 👍$$$Hard liquor (for example -- Whiskey, Bourbon, Rum, Tequila) 🥃$$$ 📱🏡 Smart home gadgets are so cool. I love them. $$$ $$$Send 👍$$$ I love being outdoors 🚶‍♀️ $$$  $$$ $$$Have kid/s LA Rams Dodgers and Lakers years old$$$Send 👍\n",
      "-\n",
      "Order Price: 40\n",
      "-\n",
      "Recommended Gift Boxes:--------------------------\n",
      "Gift Box: 1 => Product Id: (278,2241,4722), Total Amount Charged: 65.94$\n",
      "Gift Box: 2 => Product Id: (2132,424), Total Amount Charged: 57.0$\n",
      "Gift Box: 3 => Product Id: (2426,2999), Total Amount Charged: 52.0$\n",
      "\n",
      "================================================\n",
      "\n",
      "Preference: I don’t drink coffee or tea 🤭$$$ Chocolates, Candies and baked treats 🍫 🍪 🍩 $$$  Healthy Sweet Treats 🍯 $$$  I do NOT have any allergies or dietary restrictions 👍 $$$ $$$Send 👍$$$Red or White Wine 🍷🍾 (and similar drinks)$$$ 📸 I enjoy capturing pictures &amp; videos $$$  📱🏡 Smart home gadgets are so cool. I love them. $$$  🧘‍♀️🕯💆‍♀️🤸‍♂️I’m into health, wellness &amp; body care $$$  $$$  🐶 I have a pet dog $$$ $$$Have kid/s Boys teenagers years old$$$Send 👍$$$ I love being outdoors 🚶‍♀️ $$$ $$$Send 👍\n",
      "-\n",
      "Order Price: 40\n",
      "-\n",
      "Recommended Gift Boxes:--------------------------\n",
      "Gift Box: 1 => Product Id: (3168), Total Amount Charged: 103.0$\n",
      "Gift Box: 2 => Product Id: (3663,2080), Total Amount Charged: 95.5$\n",
      "Gift Box: 3 => Product Id: (2352,3641), Total Amount Charged: 38.46$\n",
      "\n",
      "================================================\n",
      "\n",
      "Preference: I'm a coffee person ☕️$$$I love to make pour over/specialty coffees from coffee beans 🙋‍♀️☕️$$$ Healthy Sweet Treats 🍯 $$$  I do NOT have any allergies or dietary restrictions 👍 $$$ $$$Send 👍$$$Hard liquor (for example -- Whiskey, Bourbon, Rum, Tequila) 🥃$$$ 📱🏡 Smart home gadgets are so cool. I love them. $$$  🧘‍♀️🕯💆‍♀️🤸‍♂️I’m into health, wellness &amp; body care $$$ $$$Send 👍$$$ I love being outdoors 🚶‍♀️ $$$ $$$Send 👍\n",
      "-\n",
      "Order Price: 30\n",
      "-\n",
      "Recommended Gift Boxes:--------------------------\n",
      "Gift Box: 1 => Product Id: (2132,2345,1840), Total Amount Charged: 109.0$\n",
      "Gift Box: 2 => Product Id: (278,4783,4722), Total Amount Charged: 65.99000000000001$\n",
      "Gift Box: 3 => Product Id: (2426,3641), Total Amount Charged: 40.0$\n",
      "\n",
      "================================================\n",
      "\n",
      "Preference: I’m more of a tea person 🍵$$$Any specialty tea is good for me 🍵$$$ Chocolates, Candies and baked treats 🍫 🍪 🍩 $$$ $$$Send 👍$$$Red or White Wine 🍷🍾 (and similar drinks)$$$ 🧘‍♀️🕯💆‍♀️🤸‍♂️I’m into health, wellness &amp; body care $$$  🐶 I have a pet dog $$$ $$$Send 👍$$$ I love being outdoors 🚶‍♀️ $$$ $$$Send 👍\n",
      "-\n",
      "Order Price: 50\n",
      "-\n",
      "Recommended Gift Boxes:--------------------------\n",
      "Gift Box: 1 => Product Id: (1826,424), Total Amount Charged: 68.0$\n",
      "Gift Box: 2 => Product Id: (1858,2241,2352), Total Amount Charged: 41.41$\n",
      "Gift Box: 3 => Product Id: (2994,3677), Total Amount Charged: 27.5$\n",
      "\n",
      "================================================\n",
      "\n",
      "Preference: I'm a coffee person ☕️$$$I like to brew regular ground coffee ☕️$$$ Chocolates, Candies and baked treats 🍫 🍪 🍩 $$$  I do NOT have any allergies or dietary restrictions 👍 $$$ $$$Send 👍$$$I do not drink alcohol ☝️$$$ 📱🏡 Smart home gadgets are so cool. I love them. $$$  $$$  🐶 I have a pet dog $$$ $$$Have kid/s Boy 15 Girl 13 years old$$$Send 👍$$$ I love being outdoors 🚶‍♀️ $$$  $$$ $$$Have kid/s Buckeyes years old$$$Send 👍\n",
      "-\n",
      "Order Price: 30\n",
      "-\n",
      "Recommended Gift Boxes:--------------------------\n",
      "Gift Box: 1 => Product Id: (245,424), Total Amount Charged: 60.989999999999995$\n",
      "Gift Box: 2 => Product Id: (4825,2999), Total Amount Charged: 43.95$\n",
      "Gift Box: 3 => Product Id: (1308,2241), Total Amount Charged: 33.7$\n",
      "\n",
      "================================================\n",
      "\n",
      "Preference: I'm a coffee person ☕️$$$I like to brew regular ground coffee ☕️$$$ Healthy Sweet Treats 🍯 $$$  I do NOT have any allergies or dietary restrictions 👍 $$$ $$$Send 👍$$$Hard liquor (for example -- Whiskey, Bourbon, Rum, Tequila) 🥃$$$ 📱🏡 Smart home gadgets are so cool. I love them. $$$ $$$Send 👍$$$ I have a thing for classic pens 🖋 $$$ $$$Send 👍\n",
      "-\n",
      "Order Price: 100\n",
      "-\n",
      "Recommended Gift Boxes:--------------------------\n",
      "Gift Box: 1 => Product Id: (245,2345,1840), Total Amount Charged: 112.99$\n",
      "Gift Box: 2 => Product Id: (1308,4783), Total Amount Charged: 33.75$\n",
      "Gift Box: 3 => Product Id: (2594,2080), Total Amount Charged: 33.5$\n",
      "\n",
      "================================================\n",
      "\n",
      "Preference: I don’t drink coffee or tea 🤭$$$ Savories and non-sweet snacks 🥓 🥕🥨 $$$ Peanuts $$$ $$$Send 👍$$$Red or White Wine 🍷🍾 (and similar drinks)$$$ 📸 I enjoy capturing pictures &amp; videos $$$  🧘‍♀️🕯💆‍♀️🤸‍♂️I’m into health, wellness &amp; body care $$$ $$$Send 👍$$$ I love being outdoors 🚶‍♀️ $$$ $$$Send 👍\n",
      "-\n",
      "Order Price: 50\n",
      "-\n",
      "Recommended Gift Boxes:--------------------------\n",
      "Gift Box: 1 => Product Id: (3663,2887), Total Amount Charged: 121.0$\n",
      "Gift Box: 2 => Product Id: (3168), Total Amount Charged: 103.0$\n",
      "Gift Box: 3 => Product Id: (2352,2887), Total Amount Charged: 61.46$\n",
      "\n",
      "================================================\n",
      "\n",
      "Preference: I’m more of a tea person 🍵$$$Any specialty tea is good for me 🍵$$$ Savories and non-sweet snacks 🥓 🥕🥨 $$$  I do NOT have any allergies or dietary restrictions 👍 $$$ $$$Send 👍$$$I like everything 👍$$$ 📸 I enjoy capturing pictures &amp; videos $$$  📱🏡 Smart home gadgets are so cool. I love them. $$$ $$$Send 👍$$$Oh yeah! 🤘$$$L\n",
      "-\n",
      "Order Price: 50\n",
      "-\n",
      "Recommended Gift Boxes:--------------------------\n",
      "Gift Box: 1 => Product Id: (1826,2887), Total Amount Charged: 74.0$\n",
      "Gift Box: 2 => Product Id: (2994,2887), Total Amount Charged: 59.0$\n",
      "Gift Box: 3 => Product Id: (1858,2887), Total Amount Charged: 49.0$\n",
      "\n",
      "================================================\n",
      "\n",
      "Preference: I'm a coffee person ☕️$$$I like to brew regular ground coffee ☕️$$$ Savories and non-sweet snacks 🥓 🥕🥨 $$$  Healthy Sweet Treats 🍯 $$$ $$$Send 👍$$$I like everything 👍$$$ 📸 I enjoy capturing pictures &amp; videos $$$  🐶 I have a pet dog $$$ $$$Send 👍$$$I hate being indoors (love being outdoors) 🚶‍♂$$$M\n",
      "-\n",
      "Order Price: 100\n",
      "-\n",
      "Recommended Gift Boxes:--------------------------\n",
      "Gift Box: 1 => Product Id: (245,3168), Total Amount Charged: 128.99$\n",
      "Gift Box: 2 => Product Id: (2594,3663), Total Amount Charged: 98.0$\n",
      "Gift Box: 3 => Product Id: (1308,2352), Total Amount Charged: 41.21$\n",
      "\n",
      "================================================\n",
      "\n"
     ]
    }
   ],
   "source": [
    "for i in range(0, 10):\n",
    "    preference = df_test_sample['Preferences'][i]\n",
    "    order_price = df_test_sample['OrderPrice'][i]\n",
    "\n",
    "    print(\"Preference:\", preference)\n",
    "    print(\"-\\nOrder Price:\", order_price)\n",
    "    print(\"-\\nRecommended Gift Boxes:--------------------------\")\n",
    "    gift_box = gift_boxes(preference, order_price)\n",
    "    for j in range(len(gift_box)):\n",
    "        print(f\"Gift Box: {j + 1} => Product Id: ({gift_box[j][0]}), Total Amount Charged: {gift_box[j][1]}$\") \n",
    "    print(\"\\n================================================\\n\")"
   ]
  }
 ],
 "metadata": {
  "kernelspec": {
   "display_name": "Python 3 (ipykernel)",
   "language": "python",
   "name": "python3"
  },
  "language_info": {
   "codemirror_mode": {
    "name": "ipython",
    "version": 3
   },
   "file_extension": ".py",
   "mimetype": "text/x-python",
   "name": "python",
   "nbconvert_exporter": "python",
   "pygments_lexer": "ipython3",
   "version": "3.9.7"
  }
 },
 "nbformat": 4,
 "nbformat_minor": 5
}
