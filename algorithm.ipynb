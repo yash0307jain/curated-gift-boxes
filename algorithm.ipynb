{
 "cells": [
  {
   "cell_type": "code",
   "execution_count": 1,
   "id": "d7d2c81b",
   "metadata": {},
   "outputs": [],
   "source": [
    "import time\n",
    "import warnings\n",
    "warnings.filterwarnings('ignore')\n",
    "\n",
    "# For loading the dataframe\n",
    "import pickle\n",
    "\n",
    "# For loading data and data manipulation\n",
    "import math\n",
    "import numpy as np\n",
    "import pandas as pd\n",
    "import matplotlib.pyplot as plt\n",
    "plt.style.use('fivethirtyeight')\n",
    "\n",
    "# For cleaning the text\n",
    "from nltk.corpus import stopwords\n",
    "from nltk import RegexpTokenizer\n",
    "from nltk.stem import WordNetLemmatizer\n",
    "\n",
    "# For converting them into vectors\n",
    "from sklearn.model_selection import train_test_split\n",
    "from sklearn.feature_extraction.text import TfidfVectorizer\n",
    "\n",
    "# To find the similarity distance between movies\n",
    "from sklearn.metrics.pairwise import cosine_similarity\n",
    "\n",
    "# For model building libraries\n",
    "from sklearn.linear_model import LogisticRegression\n",
    "from sklearn.svm import SVC\n",
    "from sklearn.naive_bayes import BernoulliNB, MultinomialNB\n",
    "from sklearn.tree import DecisionTreeClassifier\n",
    "from sklearn.neighbors import KNeighborsClassifier\n",
    "from sklearn.ensemble import RandomForestClassifier\n",
    "from sklearn.ensemble import AdaBoostClassifier\n",
    "from sklearn.ensemble import BaggingClassifier\n",
    "from sklearn.ensemble import ExtraTreesClassifier\n",
    "from sklearn.ensemble import GradientBoostingClassifier\n",
    "from sklearn.metrics import accuracy_score"
   ]
  },
  {
   "cell_type": "markdown",
   "id": "9bc7862e",
   "metadata": {},
   "source": [
    "# Loading the datasets"
   ]
  },
  {
   "cell_type": "code",
   "execution_count": 2,
   "id": "913b3037",
   "metadata": {},
   "outputs": [
    {
     "data": {
      "text/html": [
       "<div>\n",
       "<style scoped>\n",
       "    .dataframe tbody tr th:only-of-type {\n",
       "        vertical-align: middle;\n",
       "    }\n",
       "\n",
       "    .dataframe tbody tr th {\n",
       "        vertical-align: top;\n",
       "    }\n",
       "\n",
       "    .dataframe thead th {\n",
       "        text-align: right;\n",
       "    }\n",
       "</style>\n",
       "<table border=\"1\" class=\"dataframe\">\n",
       "  <thead>\n",
       "    <tr style=\"text-align: right;\">\n",
       "      <th></th>\n",
       "      <th>Preferences</th>\n",
       "      <th>Category</th>\n",
       "    </tr>\n",
       "  </thead>\n",
       "  <tbody>\n",
       "    <tr>\n",
       "      <th>0</th>\n",
       "      <td>I’m more of a tea person 🍵$$$I prefer herbal/d...</td>\n",
       "      <td>sweet</td>\n",
       "    </tr>\n",
       "    <tr>\n",
       "      <th>1</th>\n",
       "      <td>I don’t drink coffee or tea 🤭$$$ Chocolates, C...</td>\n",
       "      <td>hard liquor</td>\n",
       "    </tr>\n",
       "    <tr>\n",
       "      <th>2</th>\n",
       "      <td>I don’t drink coffee or tea 🤭$$$ Chocolates, C...</td>\n",
       "      <td>accessory</td>\n",
       "    </tr>\n",
       "    <tr>\n",
       "      <th>3</th>\n",
       "      <td>I don’t drink coffee or tea 🤭$$$ Chocolates, C...</td>\n",
       "      <td>liquoraccessory</td>\n",
       "    </tr>\n",
       "    <tr>\n",
       "      <th>4</th>\n",
       "      <td>I don’t drink coffee or tea 🤭$$$ Chocolates, C...</td>\n",
       "      <td>sweet</td>\n",
       "    </tr>\n",
       "  </tbody>\n",
       "</table>\n",
       "</div>"
      ],
      "text/plain": [
       "                                         Preferences         Category\n",
       "0  I’m more of a tea person 🍵$$$I prefer herbal/d...            sweet\n",
       "1  I don’t drink coffee or tea 🤭$$$ Chocolates, C...      hard liquor\n",
       "2  I don’t drink coffee or tea 🤭$$$ Chocolates, C...        accessory\n",
       "3  I don’t drink coffee or tea 🤭$$$ Chocolates, C...  liquoraccessory\n",
       "4  I don’t drink coffee or tea 🤭$$$ Chocolates, C...            sweet"
      ]
     },
     "execution_count": 2,
     "metadata": {},
     "output_type": "execute_result"
    }
   ],
   "source": [
    "df_predict = pickle.load(open(\"eda_data/predict.pkl\", \"rb\"))\n",
    "df_predict.head()"
   ]
  },
  {
   "cell_type": "markdown",
   "id": "5068cedf",
   "metadata": {},
   "source": [
    "# Clean the preference"
   ]
  },
  {
   "cell_type": "code",
   "execution_count": 3,
   "id": "95982183",
   "metadata": {},
   "outputs": [],
   "source": [
    "# Creating object of tokenizer and lemmatizer\n",
    "tokenizer = RegexpTokenizer(r\"\\w+\")\n",
    "lemmatizer = WordNetLemmatizer()"
   ]
  },
  {
   "cell_type": "code",
   "execution_count": 4,
   "id": "6fba9603",
   "metadata": {},
   "outputs": [],
   "source": [
    "# Function to clean the Preference column\n",
    "def clean_pref(row):\n",
    "    # convert into lower character\n",
    "    row = row.lower()\n",
    "    # split string into words\n",
    "    words = tokenizer.tokenize(row)\n",
    "    # remove stop words and apply lemmatization\n",
    "    words = [lemmatizer.lemmatize(word.strip()) for word in words if word not in stopwords.words('english')]\n",
    "    # convert word into string again and return\n",
    "    return ' '.join(words)"
   ]
  },
  {
   "cell_type": "code",
   "execution_count": 5,
   "id": "1cba2caa",
   "metadata": {},
   "outputs": [
    {
     "name": "stdout",
     "output_type": "stream",
     "text": [
      "CPU times: user 7.83 s, sys: 1.33 s, total: 9.17 s\n",
      "Wall time: 9.17 s\n"
     ]
    }
   ],
   "source": [
    "%%time\n",
    "# Applying clean preference function to transform the text\n",
    "df_predict['Preference_Clean'] = df_predict['Preferences'].apply(clean_pref)"
   ]
  },
  {
   "cell_type": "code",
   "execution_count": 6,
   "id": "e766ecf5",
   "metadata": {},
   "outputs": [
    {
     "data": {
      "text/html": [
       "<div>\n",
       "<style scoped>\n",
       "    .dataframe tbody tr th:only-of-type {\n",
       "        vertical-align: middle;\n",
       "    }\n",
       "\n",
       "    .dataframe tbody tr th {\n",
       "        vertical-align: top;\n",
       "    }\n",
       "\n",
       "    .dataframe thead th {\n",
       "        text-align: right;\n",
       "    }\n",
       "</style>\n",
       "<table border=\"1\" class=\"dataframe\">\n",
       "  <thead>\n",
       "    <tr style=\"text-align: right;\">\n",
       "      <th></th>\n",
       "      <th>Preferences</th>\n",
       "      <th>Category</th>\n",
       "      <th>Preference_Clean</th>\n",
       "    </tr>\n",
       "  </thead>\n",
       "  <tbody>\n",
       "    <tr>\n",
       "      <th>0</th>\n",
       "      <td>I’m more of a tea person 🍵$$$I prefer herbal/d...</td>\n",
       "      <td>sweet</td>\n",
       "      <td>tea person prefer herbal de caffeinated tea ch...</td>\n",
       "    </tr>\n",
       "    <tr>\n",
       "      <th>1</th>\n",
       "      <td>I don’t drink coffee or tea 🤭$$$ Chocolates, C...</td>\n",
       "      <td>hard liquor</td>\n",
       "      <td>drink coffee tea chocolate candy baked treat s...</td>\n",
       "    </tr>\n",
       "    <tr>\n",
       "      <th>2</th>\n",
       "      <td>I don’t drink coffee or tea 🤭$$$ Chocolates, C...</td>\n",
       "      <td>accessory</td>\n",
       "      <td>drink coffee tea chocolate candy baked treat s...</td>\n",
       "    </tr>\n",
       "    <tr>\n",
       "      <th>3</th>\n",
       "      <td>I don’t drink coffee or tea 🤭$$$ Chocolates, C...</td>\n",
       "      <td>liquoraccessory</td>\n",
       "      <td>drink coffee tea chocolate candy baked treat s...</td>\n",
       "    </tr>\n",
       "    <tr>\n",
       "      <th>4</th>\n",
       "      <td>I don’t drink coffee or tea 🤭$$$ Chocolates, C...</td>\n",
       "      <td>sweet</td>\n",
       "      <td>drink coffee tea chocolate candy baked treat s...</td>\n",
       "    </tr>\n",
       "  </tbody>\n",
       "</table>\n",
       "</div>"
      ],
      "text/plain": [
       "                                         Preferences         Category  \\\n",
       "0  I’m more of a tea person 🍵$$$I prefer herbal/d...            sweet   \n",
       "1  I don’t drink coffee or tea 🤭$$$ Chocolates, C...      hard liquor   \n",
       "2  I don’t drink coffee or tea 🤭$$$ Chocolates, C...        accessory   \n",
       "3  I don’t drink coffee or tea 🤭$$$ Chocolates, C...  liquoraccessory   \n",
       "4  I don’t drink coffee or tea 🤭$$$ Chocolates, C...            sweet   \n",
       "\n",
       "                                    Preference_Clean  \n",
       "0  tea person prefer herbal de caffeinated tea ch...  \n",
       "1  drink coffee tea chocolate candy baked treat s...  \n",
       "2  drink coffee tea chocolate candy baked treat s...  \n",
       "3  drink coffee tea chocolate candy baked treat s...  \n",
       "4  drink coffee tea chocolate candy baked treat s...  "
      ]
     },
     "execution_count": 6,
     "metadata": {},
     "output_type": "execute_result"
    }
   ],
   "source": [
    "df_predict.head()"
   ]
  },
  {
   "cell_type": "markdown",
   "id": "9cbc34cb",
   "metadata": {},
   "source": [
    "# Split the data into train and test"
   ]
  },
  {
   "cell_type": "code",
   "execution_count": 7,
   "id": "b6eabb0f",
   "metadata": {},
   "outputs": [
    {
     "data": {
      "text/plain": [
       "((3127,), (3127,))"
      ]
     },
     "execution_count": 7,
     "metadata": {},
     "output_type": "execute_result"
    }
   ],
   "source": [
    "X = df_predict['Preference_Clean']\n",
    "y = df_predict['Category']\n",
    "\n",
    "X.shape, y.shape"
   ]
  },
  {
   "cell_type": "code",
   "execution_count": 8,
   "id": "1beb9702",
   "metadata": {},
   "outputs": [
    {
     "data": {
      "text/plain": [
       "((2501,), (626,), (2501,), (626,))"
      ]
     },
     "execution_count": 8,
     "metadata": {},
     "output_type": "execute_result"
    }
   ],
   "source": [
    "X_train, X_test, y_train, y_test = train_test_split(X, y, test_size=0.2, random_state=42)\n",
    "\n",
    "X_train.shape, X_test.shape, y_train.shape, y_test.shape"
   ]
  },
  {
   "cell_type": "markdown",
   "id": "1135b1ca",
   "metadata": {},
   "source": [
    "# Converting feature into vectors"
   ]
  },
  {
   "cell_type": "code",
   "execution_count": 9,
   "id": "24ebfd7b",
   "metadata": {},
   "outputs": [],
   "source": [
    "tfidf_predict = TfidfVectorizer(max_features=3000, stop_words='english')"
   ]
  },
  {
   "cell_type": "code",
   "execution_count": 10,
   "id": "05ac22b4",
   "metadata": {},
   "outputs": [],
   "source": [
    "X_train_vec = tfidf_predict.fit_transform(X_train).toarray()\n",
    "X_test_vec = tfidf_predict.transform(X_test).toarray()"
   ]
  },
  {
   "cell_type": "code",
   "execution_count": 11,
   "id": "c352b020",
   "metadata": {},
   "outputs": [
    {
     "data": {
      "text/plain": [
       "(2501, 564)"
      ]
     },
     "execution_count": 11,
     "metadata": {},
     "output_type": "execute_result"
    }
   ],
   "source": [
    "X_train_vec.shape"
   ]
  },
  {
   "cell_type": "markdown",
   "id": "064ce98d",
   "metadata": {},
   "source": [
    "# Creating a model"
   ]
  },
  {
   "cell_type": "code",
   "execution_count": 12,
   "id": "8b5b350b",
   "metadata": {},
   "outputs": [
    {
     "data": {
      "text/plain": [
       "<AxesSubplot:>"
      ]
     },
     "execution_count": 12,
     "metadata": {},
     "output_type": "execute_result"
    },
    {
     "data": {
      "image/png": "[encoded data removed]",
      "text/plain": [
       "<Figure size 864x504 with 1 Axes>"
      ]
     },
     "metadata": {},
     "output_type": "display_data"
    }
   ],
   "source": [
    "# Checking for the best value of n_neighbours in KNN\n",
    "accuracy_knn = []\n",
    "for i in range(1, 100):\n",
    "    knn = KNeighborsClassifier(n_neighbors=i)\n",
    "    knn.fit(X_train_vec, y_train)\n",
    "    y_pred = knn.predict(X_test_vec)\n",
    "    accuracy_knn.append(accuracy_score(y_test, y_pred))\n",
    "    \n",
    "pd.DataFrame(accuracy_knn).plot(figsize=(12,7))"
   ]
  },
  {
   "cell_type": "markdown",
   "id": "84177074",
   "metadata": {},
   "source": [
    "### Increase the model performance:\n",
    "* Initially there were 39 categories, and I am getting the best accuracy of **18 percent**\n",
    "* After that I found out there were some categories which were redundant with a difference of upper and lower character, so after converting all categories to lower character, and I am getting the best accuracy of around **20 percent**\n",
    "* Then to improve further I remove the categories that has less than 50 records, and I am getting the best accuracy of **23 percent**"
   ]
  },
  {
   "cell_type": "code",
   "execution_count": 13,
   "id": "c6b021f1",
   "metadata": {},
   "outputs": [],
   "source": [
    "svc = SVC(kernel='sigmoid', gamma=1.0, probability=True)\n",
    "knc = KNeighborsClassifier(n_neighbors=80)\n",
    "bnb = BernoulliNB()\n",
    "mnb = MultinomialNB()\n",
    "dtc = DecisionTreeClassifier(max_depth=5)\n",
    "lrc = LogisticRegression(solver='liblinear', penalty='l1')\n",
    "rfc = RandomForestClassifier(n_estimators=50, random_state=2)\n",
    "abc = AdaBoostClassifier(n_estimators=50, random_state=2)\n",
    "bc = BaggingClassifier(n_estimators=50, random_state=2)\n",
    "etc = ExtraTreesClassifier(n_estimators=50, random_state=2)\n",
    "gbdt = GradientBoostingClassifier(n_estimators=50,random_state=2)"
   ]
  },
  {
   "cell_type": "code",
   "execution_count": 14,
   "id": "503db8cb",
   "metadata": {},
   "outputs": [
    {
     "name": "stdout",
     "output_type": "stream",
     "text": [
      "CPU times: user 29.1 s, sys: 1.55 s, total: 30.7 s\n",
      "Wall time: 27.4 s\n"
     ]
    }
   ],
   "source": [
    "%%time\n",
    "model_perf = []\n",
    "classifiers = [svc, knc, bnb, mnb, dtc, lrc, rfc, abc, bc, etc, gbdt]\n",
    "for classifier in classifiers:\n",
    "    classifier.fit(X_train_vec, y_train)\n",
    "    y_pred = classifier.predict(X_test_vec)\n",
    "    accuracy = accuracy_score(y_test, y_pred)\n",
    "    model_perf.append({'Model': classifier, 'Accuracy': accuracy})"
   ]
  },
  {
   "cell_type": "markdown",
   "id": "873c29f1",
   "metadata": {},
   "source": [
    "### Model performance"
   ]
  },
  {
   "cell_type": "code",
   "execution_count": 15,
   "id": "8895f89c",
   "metadata": {},
   "outputs": [
    {
     "data": {
      "text/html": [
       "<div>\n",
       "<style scoped>\n",
       "    .dataframe tbody tr th:only-of-type {\n",
       "        vertical-align: middle;\n",
       "    }\n",
       "\n",
       "    .dataframe tbody tr th {\n",
       "        vertical-align: top;\n",
       "    }\n",
       "\n",
       "    .dataframe thead th {\n",
       "        text-align: right;\n",
       "    }\n",
       "</style>\n",
       "<table border=\"1\" class=\"dataframe\">\n",
       "  <thead>\n",
       "    <tr style=\"text-align: right;\">\n",
       "      <th></th>\n",
       "      <th>Model</th>\n",
       "      <th>Accuracy</th>\n",
       "    </tr>\n",
       "  </thead>\n",
       "  <tbody>\n",
       "    <tr>\n",
       "      <th>0</th>\n",
       "      <td>SVC(gamma=1.0, kernel='sigmoid', probability=T...</td>\n",
       "      <td>0.230032</td>\n",
       "    </tr>\n",
       "    <tr>\n",
       "      <th>1</th>\n",
       "      <td>KNeighborsClassifier(n_neighbors=80)</td>\n",
       "      <td>0.182109</td>\n",
       "    </tr>\n",
       "    <tr>\n",
       "      <th>2</th>\n",
       "      <td>BernoulliNB()</td>\n",
       "      <td>0.194888</td>\n",
       "    </tr>\n",
       "    <tr>\n",
       "      <th>3</th>\n",
       "      <td>MultinomialNB()</td>\n",
       "      <td>0.166134</td>\n",
       "    </tr>\n",
       "    <tr>\n",
       "      <th>4</th>\n",
       "      <td>DecisionTreeClassifier(max_depth=5)</td>\n",
       "      <td>0.170927</td>\n",
       "    </tr>\n",
       "    <tr>\n",
       "      <th>5</th>\n",
       "      <td>LogisticRegression(penalty='l1', solver='libli...</td>\n",
       "      <td>0.230032</td>\n",
       "    </tr>\n",
       "    <tr>\n",
       "      <th>6</th>\n",
       "      <td>(DecisionTreeClassifier(max_features='auto', r...</td>\n",
       "      <td>0.015974</td>\n",
       "    </tr>\n",
       "    <tr>\n",
       "      <th>7</th>\n",
       "      <td>(DecisionTreeClassifier(max_depth=1, random_st...</td>\n",
       "      <td>0.188498</td>\n",
       "    </tr>\n",
       "    <tr>\n",
       "      <th>8</th>\n",
       "      <td>(DecisionTreeClassifier(random_state=114693939...</td>\n",
       "      <td>0.012780</td>\n",
       "    </tr>\n",
       "    <tr>\n",
       "      <th>9</th>\n",
       "      <td>(ExtraTreeClassifier(random_state=1872583848),...</td>\n",
       "      <td>0.020767</td>\n",
       "    </tr>\n",
       "    <tr>\n",
       "      <th>10</th>\n",
       "      <td>([DecisionTreeRegressor(criterion='friedman_ms...</td>\n",
       "      <td>0.059105</td>\n",
       "    </tr>\n",
       "  </tbody>\n",
       "</table>\n",
       "</div>"
      ],
      "text/plain": [
       "                                                Model  Accuracy\n",
       "0   SVC(gamma=1.0, kernel='sigmoid', probability=T...  0.230032\n",
       "1                KNeighborsClassifier(n_neighbors=80)  0.182109\n",
       "2                                       BernoulliNB()  0.194888\n",
       "3                                     MultinomialNB()  0.166134\n",
       "4                 DecisionTreeClassifier(max_depth=5)  0.170927\n",
       "5   LogisticRegression(penalty='l1', solver='libli...  0.230032\n",
       "6   (DecisionTreeClassifier(max_features='auto', r...  0.015974\n",
       "7   (DecisionTreeClassifier(max_depth=1, random_st...  0.188498\n",
       "8   (DecisionTreeClassifier(random_state=114693939...  0.012780\n",
       "9   (ExtraTreeClassifier(random_state=1872583848),...  0.020767\n",
       "10  ([DecisionTreeRegressor(criterion='friedman_ms...  0.059105"
      ]
     },
     "execution_count": 15,
     "metadata": {},
     "output_type": "execute_result"
    }
   ],
   "source": [
    "df_model_perf = pd.DataFrame(model_perf)\n",
    "df_model_perf"
   ]
  },
  {
   "cell_type": "code",
   "execution_count": 16,
   "id": "95401d4e",
   "metadata": {},
   "outputs": [
    {
     "data": {
      "image/png": "[encoded data removed]",
      "text/plain": [
       "<Figure size 864x504 with 1 Axes>"
      ]
     },
     "metadata": {},
     "output_type": "display_data"
    }
   ],
   "source": [
    "# Plot for the model performance\n",
    "plt.figure(figsize=(12,7))\n",
    "plt.bar(list(map(str, df_model_perf['Model'])), list(df_model_perf['Accuracy']))\n",
    "plt.title('Model performance using accuracy')\n",
    "plt.xlabel('Algorithms')\n",
    "plt.xticks(rotation='vertical')\n",
    "plt.ylabel('Percentange on the scale of 0 to 1')\n",
    "plt.show()"
   ]
  },
  {
   "cell_type": "markdown",
   "id": "3bbe7071",
   "metadata": {},
   "source": [
    "# Creating recommendation model"
   ]
  },
  {
   "cell_type": "code",
   "execution_count": 17,
   "id": "15ad7a33",
   "metadata": {},
   "outputs": [
    {
     "data": {
      "text/html": [
       "<div>\n",
       "<style scoped>\n",
       "    .dataframe tbody tr th:only-of-type {\n",
       "        vertical-align: middle;\n",
       "    }\n",
       "\n",
       "    .dataframe tbody tr th {\n",
       "        vertical-align: top;\n",
       "    }\n",
       "\n",
       "    .dataframe thead th {\n",
       "        text-align: right;\n",
       "    }\n",
       "</style>\n",
       "<table border=\"1\" class=\"dataframe\">\n",
       "  <thead>\n",
       "    <tr style=\"text-align: right;\">\n",
       "      <th></th>\n",
       "      <th>ProductId</th>\n",
       "      <th>ProductName</th>\n",
       "      <th>ProductTag</th>\n",
       "      <th>Rating</th>\n",
       "      <th>Cost</th>\n",
       "      <th>Price</th>\n",
       "      <th>Tag</th>\n",
       "    </tr>\n",
       "  </thead>\n",
       "  <tbody>\n",
       "    <tr>\n",
       "      <th>0</th>\n",
       "      <td>245</td>\n",
       "      <td>Guatemalan Signature Roast Ground Coffee</td>\n",
       "      <td>coffee, ground</td>\n",
       "      <td>4.4427</td>\n",
       "      <td>13.78</td>\n",
       "      <td>25.99</td>\n",
       "      <td>guatemalan signature roast ground coffee coffe...</td>\n",
       "    </tr>\n",
       "    <tr>\n",
       "      <th>1</th>\n",
       "      <td>278</td>\n",
       "      <td>Los Gigantes Colombia (Coffee Beans)</td>\n",
       "      <td>coffee, artisanal</td>\n",
       "      <td>4.3185</td>\n",
       "      <td>10.75</td>\n",
       "      <td>20.00</td>\n",
       "      <td>los gigantes colombia coffee bean coffee artis...</td>\n",
       "    </tr>\n",
       "    <tr>\n",
       "      <th>2</th>\n",
       "      <td>351</td>\n",
       "      <td>Rowkin Bit Charge Stereo (Silver)</td>\n",
       "      <td>music</td>\n",
       "      <td>4.0000</td>\n",
       "      <td>64.00</td>\n",
       "      <td>102.99</td>\n",
       "      <td>rowkin bit charge stereo silver music</td>\n",
       "    </tr>\n",
       "    <tr>\n",
       "      <th>3</th>\n",
       "      <td>424</td>\n",
       "      <td>Chocolate Fruit and Nut Dragee Sampler</td>\n",
       "      <td>sweet</td>\n",
       "      <td>4.4643</td>\n",
       "      <td>21.00</td>\n",
       "      <td>35.00</td>\n",
       "      <td>chocolate fruit nut dragee sampler sweet</td>\n",
       "    </tr>\n",
       "    <tr>\n",
       "      <th>4</th>\n",
       "      <td>700</td>\n",
       "      <td>Pro Lens Kit for Phone Camera</td>\n",
       "      <td>photography</td>\n",
       "      <td>4.3588</td>\n",
       "      <td>24.50</td>\n",
       "      <td>42.99</td>\n",
       "      <td>pro lens kit phone camera photography</td>\n",
       "    </tr>\n",
       "  </tbody>\n",
       "</table>\n",
       "</div>"
      ],
      "text/plain": [
       "   ProductId                               ProductName         ProductTag  \\\n",
       "0        245  Guatemalan Signature Roast Ground Coffee     coffee, ground   \n",
       "1        278      Los Gigantes Colombia (Coffee Beans)  coffee, artisanal   \n",
       "2        351         Rowkin Bit Charge Stereo (Silver)              music   \n",
       "3        424    Chocolate Fruit and Nut Dragee Sampler              sweet   \n",
       "4        700             Pro Lens Kit for Phone Camera        photography   \n",
       "\n",
       "   Rating   Cost   Price                                                Tag  \n",
       "0  4.4427  13.78   25.99  guatemalan signature roast ground coffee coffe...  \n",
       "1  4.3185  10.75   20.00  los gigantes colombia coffee bean coffee artis...  \n",
       "2  4.0000  64.00  102.99              rowkin bit charge stereo silver music  \n",
       "3  4.4643  21.00   35.00           chocolate fruit nut dragee sampler sweet  \n",
       "4  4.3588  24.50   42.99              pro lens kit phone camera photography  "
      ]
     },
     "execution_count": 17,
     "metadata": {},
     "output_type": "execute_result"
    }
   ],
   "source": [
    "df_recommend = pickle.load(open(\"eda_data/recommendation.pkl\", 'rb'))\n",
    "df_recommend.head()"
   ]
  },
  {
   "cell_type": "markdown",
   "id": "2dc4ed09",
   "metadata": {},
   "source": [
    "### Converting tags column into vectors"
   ]
  },
  {
   "cell_type": "code",
   "execution_count": 18,
   "id": "d02e335e",
   "metadata": {},
   "outputs": [],
   "source": [
    "tfidf_recommend = TfidfVectorizer(max_features=5000, stop_words='english')"
   ]
  },
  {
   "cell_type": "code",
   "execution_count": 19,
   "id": "be5822c5",
   "metadata": {},
   "outputs": [
    {
     "data": {
      "text/plain": [
       "array([[0., 0., 0., ..., 0., 0., 0.],\n",
       "       [0., 0., 0., ..., 0., 0., 0.],\n",
       "       [0., 0., 0., ..., 0., 0., 0.],\n",
       "       ...,\n",
       "       [0., 0., 0., ..., 0., 0., 0.],\n",
       "       [0., 0., 0., ..., 0., 0., 0.],\n",
       "       [0., 0., 0., ..., 0., 0., 0.]])"
      ]
     },
     "execution_count": 19,
     "metadata": {},
     "output_type": "execute_result"
    }
   ],
   "source": [
    "recommend_vec = tfidf_recommend.fit_transform(df_recommend['Tag']).toarray()\n",
    "recommend_vec"
   ]
  },
  {
   "cell_type": "code",
   "execution_count": 20,
   "id": "5b70be76",
   "metadata": {},
   "outputs": [
    {
     "data": {
      "text/plain": [
       "(341, 781)"
      ]
     },
     "execution_count": 20,
     "metadata": {},
     "output_type": "execute_result"
    }
   ],
   "source": [
    "recommend_vec.shape"
   ]
  },
  {
   "cell_type": "markdown",
   "id": "85742f35",
   "metadata": {},
   "source": [
    "### Calculate the cosine distance between the vectors, and the values of matrix represent the percentage of similarity between tags"
   ]
  },
  {
   "cell_type": "code",
   "execution_count": 21,
   "id": "3df935af",
   "metadata": {},
   "outputs": [
    {
     "data": {
      "text/plain": [
       "array([[1.        , 0.25549427, 0.        , ..., 0.        , 0.        ,\n",
       "        0.        ],\n",
       "       [0.25549427, 1.        , 0.        , ..., 0.        , 0.        ,\n",
       "        0.        ],\n",
       "       [0.        , 0.        , 1.        , ..., 0.        , 0.        ,\n",
       "        0.        ],\n",
       "       ...,\n",
       "       [0.        , 0.        , 0.        , ..., 1.        , 0.        ,\n",
       "        0.        ],\n",
       "       [0.        , 0.        , 0.        , ..., 0.        , 1.        ,\n",
       "        0.87744968],\n",
       "       [0.        , 0.        , 0.        , ..., 0.        , 0.87744968,\n",
       "        1.        ]])"
      ]
     },
     "execution_count": 21,
     "metadata": {},
     "output_type": "execute_result"
    }
   ],
   "source": [
    "similarity = cosine_similarity(recommend_vec)\n",
    "similarity"
   ]
  },
  {
   "cell_type": "code",
   "execution_count": 22,
   "id": "5258cad4",
   "metadata": {},
   "outputs": [
    {
     "data": {
      "text/plain": [
       "(341, 341)"
      ]
     },
     "execution_count": 22,
     "metadata": {},
     "output_type": "execute_result"
    }
   ],
   "source": [
    "similarity.shape"
   ]
  },
  {
   "cell_type": "markdown",
   "id": "18dbbeb3",
   "metadata": {},
   "source": [
    "### Recommender function that will give the recommended movies closest to the given one"
   ]
  },
  {
   "cell_type": "code",
   "execution_count": 23,
   "id": "bbc61551",
   "metadata": {},
   "outputs": [],
   "source": [
    "def recommender(product):\n",
    "    product_index = df_recommend[df_recommend['ProductName'] == product].index[0]\n",
    "    similarity_percentage = similarity[product_index]\n",
    "    recommended_product = sorted(list(enumerate(similarity_percentage)), reverse=True, key=lambda x:x[1])[1:6]\n",
    "    \n",
    "    products = []\n",
    "    for index in recommended_product:\n",
    "        products.append(df_recommend.iloc[index[0]]['ProductName'])\n",
    "        \n",
    "    return products"
   ]
  },
  {
   "cell_type": "code",
   "execution_count": 24,
   "id": "741afbc7",
   "metadata": {},
   "outputs": [
    {
     "data": {
      "text/plain": [
       "['Vanilla Bean Shortbread Cookies',\n",
       " 'The Luxe Collection Cocoa Shortbread',\n",
       " 'Chocolate Cacao Nib Shortbread',\n",
       " 'Original Speculoos Cookies- 4.8oz',\n",
       " 'The Luxe Collection Almond Butter Cookies']"
      ]
     },
     "execution_count": 24,
     "metadata": {},
     "output_type": "execute_result"
    }
   ],
   "source": [
    "recommender(\"Pecan Shortbread cookies\")"
   ]
  },
  {
   "cell_type": "markdown",
   "id": "4e7e6dcc",
   "metadata": {},
   "source": [
    "# Pipeline that recommends products on the basis of preference\n",
    "* Logistic Regression and Support Vector Machine have the same accuracy\n",
    "* So first predicting with the Logistic Regression\n",
    "* And then try with the Support Vector Machine\n",
    "* And getting better results with Support Vector Machine"
   ]
  },
  {
   "cell_type": "code",
   "execution_count": 25,
   "id": "c6caad72",
   "metadata": {},
   "outputs": [],
   "source": [
    "def pipeline(pref):\n",
    "    # creating a dataframe\n",
    "    df = pd.DataFrame({\"Preference\": [pref]})\n",
    "    \n",
    "    # cleaning the preference\n",
    "    df['Preference_Clean'] = df['Preference'].apply(clean_pref)\n",
    "    \n",
    "    # transform the preference into vectors\n",
    "    df_vec = tfidf_predict.transform(df['Preference_Clean']).toarray()\n",
    "    \n",
    "    # predict the category\n",
    "    pred = svc.predict(df_vec)[0]\n",
    "    print(\"Predicted Tag:\", pred)\n",
    "    \n",
    "    # predict probability\n",
    "    pred_prob = svc.predict_proba(df_vec)[0]\n",
    "    \n",
    "    # dictionary of category with its probability\n",
    "    category_prob = {}\n",
    "    for i in range(len(pred_prob)):\n",
    "        category_prob[svc.classes_[i]] = pred_prob[i]\n",
    "    \n",
    "    # sort the dictionary to get the max two\n",
    "    category_prob_sort = dict(sorted(category_prob.items(), key=lambda item: item[1], reverse=True))\n",
    "    pred_two = list(category_prob_sort.keys())[:2]\n",
    "    print(\"\\nProduct tag sorted:\", category_prob_sort)\n",
    "    \n",
    "    # fecthing all the products which has category as product\n",
    "    df_product = df_recommend[df_recommend['ProductTag'].apply(lambda product_tag: pred in product_tag.lower())]\n",
    "    df_product = df_product[['ProductId', 'ProductName', 'Cost', 'Price']]\n",
    "    \n",
    "    product_name = df_product.iloc[0]['ProductName']\n",
    "    print(\"\\nProduct Name:\", product_name)\n",
    "    \n",
    "    # recommend product similar to product name\n",
    "    print(\"\\nRecommended products:\")\n",
    "    print(\"--------------------------\")\n",
    "    recommends = recommender(product_name)\n",
    "    for recommend in recommends:\n",
    "        print(recommend)"
   ]
  },
  {
   "cell_type": "markdown",
   "id": "e1953651",
   "metadata": {},
   "source": [
    "# Check with test data"
   ]
  },
  {
   "cell_type": "code",
   "execution_count": 26,
   "id": "a203652f",
   "metadata": {},
   "outputs": [
    {
     "data": {
      "text/html": [
       "<div>\n",
       "<style scoped>\n",
       "    .dataframe tbody tr th:only-of-type {\n",
       "        vertical-align: middle;\n",
       "    }\n",
       "\n",
       "    .dataframe tbody tr th {\n",
       "        vertical-align: top;\n",
       "    }\n",
       "\n",
       "    .dataframe thead th {\n",
       "        text-align: right;\n",
       "    }\n",
       "</style>\n",
       "<table border=\"1\" class=\"dataframe\">\n",
       "  <thead>\n",
       "    <tr style=\"text-align: right;\">\n",
       "      <th></th>\n",
       "      <th>Unnamed: 0</th>\n",
       "      <th>OrderID</th>\n",
       "      <th>OrderPrice</th>\n",
       "      <th>Preferences</th>\n",
       "    </tr>\n",
       "  </thead>\n",
       "  <tbody>\n",
       "    <tr>\n",
       "      <th>0</th>\n",
       "      <td>1001</td>\n",
       "      <td>171888537</td>\n",
       "      <td>40</td>\n",
       "      <td>I'm a coffee person ☕️$$$I love to make pour o...</td>\n",
       "    </tr>\n",
       "    <tr>\n",
       "      <th>1</th>\n",
       "      <td>1002</td>\n",
       "      <td>171888536</td>\n",
       "      <td>40</td>\n",
       "      <td>I'm a coffee person ☕️$$$I love to make pour o...</td>\n",
       "    </tr>\n",
       "    <tr>\n",
       "      <th>2</th>\n",
       "      <td>1003</td>\n",
       "      <td>171888535</td>\n",
       "      <td>40</td>\n",
       "      <td>I don’t drink coffee or tea 🤭$$$ Chocolates, C...</td>\n",
       "    </tr>\n",
       "    <tr>\n",
       "      <th>3</th>\n",
       "      <td>1004</td>\n",
       "      <td>171888533</td>\n",
       "      <td>30</td>\n",
       "      <td>I'm a coffee person ☕️$$$I love to make pour o...</td>\n",
       "    </tr>\n",
       "    <tr>\n",
       "      <th>4</th>\n",
       "      <td>1005</td>\n",
       "      <td>171888532</td>\n",
       "      <td>50</td>\n",
       "      <td>I’m more of a tea person 🍵$$$Any specialty tea...</td>\n",
       "    </tr>\n",
       "  </tbody>\n",
       "</table>\n",
       "</div>"
      ],
      "text/plain": [
       "   Unnamed: 0    OrderID  OrderPrice  \\\n",
       "0        1001  171888537          40   \n",
       "1        1002  171888536          40   \n",
       "2        1003  171888535          40   \n",
       "3        1004  171888533          30   \n",
       "4        1005  171888532          50   \n",
       "\n",
       "                                         Preferences  \n",
       "0  I'm a coffee person ☕️$$$I love to make pour o...  \n",
       "1  I'm a coffee person ☕️$$$I love to make pour o...  \n",
       "2  I don’t drink coffee or tea 🤭$$$ Chocolates, C...  \n",
       "3  I'm a coffee person ☕️$$$I love to make pour o...  \n",
       "4  I’m more of a tea person 🍵$$$Any specialty tea...  "
      ]
     },
     "execution_count": 26,
     "metadata": {},
     "output_type": "execute_result"
    }
   ],
   "source": [
    "df_test_sample = pd.read_csv(\"data/test_input.csv\")\n",
    "df_test_sample.head()"
   ]
  },
  {
   "cell_type": "code",
   "execution_count": 27,
   "id": "207cd5f1",
   "metadata": {},
   "outputs": [
    {
     "data": {
      "text/html": [
       "<div>\n",
       "<style scoped>\n",
       "    .dataframe tbody tr th:only-of-type {\n",
       "        vertical-align: middle;\n",
       "    }\n",
       "\n",
       "    .dataframe tbody tr th {\n",
       "        vertical-align: top;\n",
       "    }\n",
       "\n",
       "    .dataframe thead th {\n",
       "        text-align: right;\n",
       "    }\n",
       "</style>\n",
       "<table border=\"1\" class=\"dataframe\">\n",
       "  <thead>\n",
       "    <tr style=\"text-align: right;\">\n",
       "      <th></th>\n",
       "      <th>OrderPrice</th>\n",
       "      <th>Preferences</th>\n",
       "    </tr>\n",
       "  </thead>\n",
       "  <tbody>\n",
       "    <tr>\n",
       "      <th>0</th>\n",
       "      <td>40</td>\n",
       "      <td>I'm a coffee person ☕️$$$I love to make pour o...</td>\n",
       "    </tr>\n",
       "    <tr>\n",
       "      <th>1</th>\n",
       "      <td>40</td>\n",
       "      <td>I'm a coffee person ☕️$$$I love to make pour o...</td>\n",
       "    </tr>\n",
       "    <tr>\n",
       "      <th>2</th>\n",
       "      <td>40</td>\n",
       "      <td>I don’t drink coffee or tea 🤭$$$ Chocolates, C...</td>\n",
       "    </tr>\n",
       "    <tr>\n",
       "      <th>3</th>\n",
       "      <td>30</td>\n",
       "      <td>I'm a coffee person ☕️$$$I love to make pour o...</td>\n",
       "    </tr>\n",
       "    <tr>\n",
       "      <th>4</th>\n",
       "      <td>50</td>\n",
       "      <td>I’m more of a tea person 🍵$$$Any specialty tea...</td>\n",
       "    </tr>\n",
       "  </tbody>\n",
       "</table>\n",
       "</div>"
      ],
      "text/plain": [
       "   OrderPrice                                        Preferences\n",
       "0          40  I'm a coffee person ☕️$$$I love to make pour o...\n",
       "1          40  I'm a coffee person ☕️$$$I love to make pour o...\n",
       "2          40  I don’t drink coffee or tea 🤭$$$ Chocolates, C...\n",
       "3          30  I'm a coffee person ☕️$$$I love to make pour o...\n",
       "4          50  I’m more of a tea person 🍵$$$Any specialty tea..."
      ]
     },
     "execution_count": 27,
     "metadata": {},
     "output_type": "execute_result"
    }
   ],
   "source": [
    "df_test_sample = df_test_sample[['OrderPrice', 'Preferences']]\n",
    "df_test_sample.head()"
   ]
  },
  {
   "cell_type": "code",
   "execution_count": 28,
   "id": "49756fa1",
   "metadata": {},
   "outputs": [
    {
     "data": {
      "text/plain": [
       "'I’m more of a tea person 🍵$$$Any specialty tea is good for me 🍵$$$ Savories and non-sweet snacks 🥓 🥕🥨 $$$  I do NOT have any allergies or dietary restrictions 👍 $$$ $$$Send 👍$$$I like everything 👍$$$ 📸 I enjoy capturing pictures &amp; videos $$$  📱🏡 Smart home gadgets are so cool. I love them. $$$ $$$Send 👍$$$Oh yeah! 🤘$$$L'"
      ]
     },
     "execution_count": 28,
     "metadata": {},
     "output_type": "execute_result"
    }
   ],
   "source": [
    "test_str = df_test_sample['Preferences'][8]\n",
    "test_str"
   ]
  },
  {
   "cell_type": "code",
   "execution_count": 29,
   "id": "87f3966d",
   "metadata": {},
   "outputs": [
    {
     "name": "stdout",
     "output_type": "stream",
     "text": [
      "Predicted Tag: tea\n",
      "\n",
      "Product tag sorted: {'tea': 0.42588783848708667, 'savoury': 0.14781177711792987, 'accessory': 0.08773956920488564, 'liquoraccessory': 0.08110777524534013, 'wine': 0.06499813220763796, 'photography': 0.05600967984492609, 'smart product': 0.045774758252465984, 'hard liquor': 0.023083567905095602, 'healthy treat': 0.022868299230430586, 'gadget': 0.016187766436995345, 'sweet': 0.011565775136013548, 'health and fitness': 0.010523704133353599, 'artisanal': 0.003119779946532976, 'coffee': 0.0019081163833161126, 'ground': 0.0014134604679896254}\n",
      "\n",
      "Product Name: Everyday English Breakfast Tea Pyramid Bags (TIN)\n",
      "\n",
      "Recommended products:\n",
      "--------------------------\n",
      "Relax Tea Pyramid Bags (TIN)\n",
      "Sleep Tea Pyramid Bags (TIN)\n",
      "Immunity Tea Pyramid Bags (TIN)\n",
      "English Breakfast - 20 Teabags in Signature Tea Tin\n",
      "Mini Signature Box (Five Pyramid Bags)\n"
     ]
    }
   ],
   "source": [
    "pipeline(test_str)"
   ]
  }
 ],
 "metadata": {
  "kernelspec": {
   "display_name": "Python 3 (ipykernel)",
   "language": "python",
   "name": "python3"
  },
  "language_info": {
   "codemirror_mode": {
    "name": "ipython",
    "version": 3
   },
   "file_extension": ".py",
   "mimetype": "text/x-python",
   "name": "python",
   "nbconvert_exporter": "python",
   "pygments_lexer": "ipython3",
   "version": "3.9.7"
  }
 },
 "nbformat": 4,
 "nbformat_minor": 5
}
