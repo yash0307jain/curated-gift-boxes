{
 "cells": [
  {
   "cell_type": "code",
   "execution_count": 24,
   "id": "d7d2c81b",
   "metadata": {},
   "outputs": [],
   "source": [
    "# For loading the dataframe\n",
    "import pickle\n",
    "\n",
    "# For loading data and data manipulation\n",
    "import math\n",
    "import numpy as np\n",
    "import pandas as pd\n",
    "import matplotlib.pyplot as plt\n",
    "plt.style.use('fivethirtyeight')\n",
    "\n",
    "# For cleaning the text\n",
    "from nltk.corpus import stopwords\n",
    "from nltk import RegexpTokenizer\n",
    "from nltk.stem import WordNetLemmatizer\n",
    "\n",
    "# For converting them into vectors\n",
    "from sklearn.model_selection import train_test_split\n",
    "from sklearn.feature_extraction.text import TfidfVectorizer\n",
    "\n",
    "# For model building libraries\n",
    "from sklearn.linear_model import LogisticRegression\n",
    "from sklearn.svm import SVC\n",
    "from sklearn.naive_bayes import BernoulliNB, MultinomialNB\n",
    "from sklearn.tree import DecisionTreeClassifier\n",
    "from sklearn.neighbors import KNeighborsClassifier\n",
    "from sklearn.ensemble import RandomForestClassifier\n",
    "from sklearn.ensemble import AdaBoostClassifier\n",
    "from sklearn.ensemble import BaggingClassifier\n",
    "from sklearn.ensemble import ExtraTreesClassifier\n",
    "from sklearn.ensemble import GradientBoostingClassifier\n",
    "from sklearn.metrics import accuracy_score, precision_score"
   ]
  },
  {
   "cell_type": "markdown",
   "id": "9bc7862e",
   "metadata": {},
   "source": [
    "# Loading the datasets"
   ]
  },
  {
   "cell_type": "code",
   "execution_count": 2,
   "id": "913b3037",
   "metadata": {},
   "outputs": [
    {
     "data": {
      "text/html": [
       "<div>\n",
       "<style scoped>\n",
       "    .dataframe tbody tr th:only-of-type {\n",
       "        vertical-align: middle;\n",
       "    }\n",
       "\n",
       "    .dataframe tbody tr th {\n",
       "        vertical-align: top;\n",
       "    }\n",
       "\n",
       "    .dataframe thead th {\n",
       "        text-align: right;\n",
       "    }\n",
       "</style>\n",
       "<table border=\"1\" class=\"dataframe\">\n",
       "  <thead>\n",
       "    <tr style=\"text-align: right;\">\n",
       "      <th></th>\n",
       "      <th>Preferences</th>\n",
       "      <th>Category</th>\n",
       "      <th>Category_Num</th>\n",
       "    </tr>\n",
       "  </thead>\n",
       "  <tbody>\n",
       "    <tr>\n",
       "      <th>0</th>\n",
       "      <td>I’m more of a tea person 🍵$$$I prefer herbal/d...</td>\n",
       "      <td>decaf</td>\n",
       "      <td>16</td>\n",
       "    </tr>\n",
       "    <tr>\n",
       "      <th>1</th>\n",
       "      <td>I’m more of a tea person 🍵$$$I prefer herbal/d...</td>\n",
       "      <td>sweet</td>\n",
       "      <td>3</td>\n",
       "    </tr>\n",
       "    <tr>\n",
       "      <th>2</th>\n",
       "      <td>I don’t drink coffee or tea 🤭$$$ Chocolates, C...</td>\n",
       "      <td>hard liquor</td>\n",
       "      <td>7</td>\n",
       "    </tr>\n",
       "    <tr>\n",
       "      <th>3</th>\n",
       "      <td>I don’t drink coffee or tea 🤭$$$ Chocolates, C...</td>\n",
       "      <td>accessory</td>\n",
       "      <td>1</td>\n",
       "    </tr>\n",
       "    <tr>\n",
       "      <th>4</th>\n",
       "      <td>I don’t drink coffee or tea 🤭$$$ Chocolates, C...</td>\n",
       "      <td>LiquorAccessory</td>\n",
       "      <td>0</td>\n",
       "    </tr>\n",
       "  </tbody>\n",
       "</table>\n",
       "</div>"
      ],
      "text/plain": [
       "                                         Preferences         Category  \\\n",
       "0  I’m more of a tea person 🍵$$$I prefer herbal/d...            decaf   \n",
       "1  I’m more of a tea person 🍵$$$I prefer herbal/d...            sweet   \n",
       "2  I don’t drink coffee or tea 🤭$$$ Chocolates, C...      hard liquor   \n",
       "3  I don’t drink coffee or tea 🤭$$$ Chocolates, C...        accessory   \n",
       "4  I don’t drink coffee or tea 🤭$$$ Chocolates, C...  LiquorAccessory   \n",
       "\n",
       "   Category_Num  \n",
       "0            16  \n",
       "1             3  \n",
       "2             7  \n",
       "3             1  \n",
       "4             0  "
      ]
     },
     "execution_count": 2,
     "metadata": {},
     "output_type": "execute_result"
    }
   ],
   "source": [
    "df_predict = pickle.load(open(\"eda_data/predict.pkl\", \"rb\"))\n",
    "df_predict.head()"
   ]
  },
  {
   "cell_type": "markdown",
   "id": "9eb156b4",
   "metadata": {},
   "source": [
    "# Clean the preference"
   ]
  },
  {
   "cell_type": "code",
   "execution_count": 3,
   "id": "0e7fbd19",
   "metadata": {},
   "outputs": [],
   "source": [
    "# Creating object of tokenizer and lemmatizer\n",
    "tokenizer = RegexpTokenizer(r\"\\w+\")\n",
    "lemmatizer = WordNetLemmatizer()"
   ]
  },
  {
   "cell_type": "code",
   "execution_count": 4,
   "id": "cbbb6b8d",
   "metadata": {},
   "outputs": [],
   "source": [
    "# Function to clean the Preference column\n",
    "def clean_pref(row):\n",
    "    # convert into lower character\n",
    "    row = row.lower()\n",
    "    # split string into words\n",
    "    words = tokenizer.tokenize(row)\n",
    "    # remove stop words and apply lemmatization\n",
    "    words = [lemmatizer.lemmatize(word.strip()) for word in words if word not in stopwords.words('english')]\n",
    "    # convert word into string again and return\n",
    "    return ' '.join(words)"
   ]
  },
  {
   "cell_type": "code",
   "execution_count": 5,
   "id": "b4f4d7b3",
   "metadata": {},
   "outputs": [
    {
     "name": "stdout",
     "output_type": "stream",
     "text": [
      "CPU times: user 9.22 s, sys: 1.6 s, total: 10.8 s\n",
      "Wall time: 10.8 s\n"
     ]
    }
   ],
   "source": [
    "%%time\n",
    "# Applying clean preference function to transform the text\n",
    "df_predict['Preference_Clean'] = df_predict['Preferences'].apply(clean_pref)"
   ]
  },
  {
   "cell_type": "code",
   "execution_count": 6,
   "id": "383ea684",
   "metadata": {},
   "outputs": [
    {
     "data": {
      "text/html": [
       "<div>\n",
       "<style scoped>\n",
       "    .dataframe tbody tr th:only-of-type {\n",
       "        vertical-align: middle;\n",
       "    }\n",
       "\n",
       "    .dataframe tbody tr th {\n",
       "        vertical-align: top;\n",
       "    }\n",
       "\n",
       "    .dataframe thead th {\n",
       "        text-align: right;\n",
       "    }\n",
       "</style>\n",
       "<table border=\"1\" class=\"dataframe\">\n",
       "  <thead>\n",
       "    <tr style=\"text-align: right;\">\n",
       "      <th></th>\n",
       "      <th>Preferences</th>\n",
       "      <th>Category</th>\n",
       "      <th>Category_Num</th>\n",
       "      <th>Preference_Clean</th>\n",
       "    </tr>\n",
       "  </thead>\n",
       "  <tbody>\n",
       "    <tr>\n",
       "      <th>0</th>\n",
       "      <td>I’m more of a tea person 🍵$$$I prefer herbal/d...</td>\n",
       "      <td>decaf</td>\n",
       "      <td>16</td>\n",
       "      <td>tea person prefer herbal de caffeinated tea ch...</td>\n",
       "    </tr>\n",
       "    <tr>\n",
       "      <th>1</th>\n",
       "      <td>I’m more of a tea person 🍵$$$I prefer herbal/d...</td>\n",
       "      <td>sweet</td>\n",
       "      <td>3</td>\n",
       "      <td>tea person prefer herbal de caffeinated tea ch...</td>\n",
       "    </tr>\n",
       "    <tr>\n",
       "      <th>2</th>\n",
       "      <td>I don’t drink coffee or tea 🤭$$$ Chocolates, C...</td>\n",
       "      <td>hard liquor</td>\n",
       "      <td>7</td>\n",
       "      <td>drink coffee tea chocolate candy baked treat s...</td>\n",
       "    </tr>\n",
       "    <tr>\n",
       "      <th>3</th>\n",
       "      <td>I don’t drink coffee or tea 🤭$$$ Chocolates, C...</td>\n",
       "      <td>accessory</td>\n",
       "      <td>1</td>\n",
       "      <td>drink coffee tea chocolate candy baked treat s...</td>\n",
       "    </tr>\n",
       "    <tr>\n",
       "      <th>4</th>\n",
       "      <td>I don’t drink coffee or tea 🤭$$$ Chocolates, C...</td>\n",
       "      <td>LiquorAccessory</td>\n",
       "      <td>0</td>\n",
       "      <td>drink coffee tea chocolate candy baked treat s...</td>\n",
       "    </tr>\n",
       "  </tbody>\n",
       "</table>\n",
       "</div>"
      ],
      "text/plain": [
       "                                         Preferences         Category  \\\n",
       "0  I’m more of a tea person 🍵$$$I prefer herbal/d...            decaf   \n",
       "1  I’m more of a tea person 🍵$$$I prefer herbal/d...            sweet   \n",
       "2  I don’t drink coffee or tea 🤭$$$ Chocolates, C...      hard liquor   \n",
       "3  I don’t drink coffee or tea 🤭$$$ Chocolates, C...        accessory   \n",
       "4  I don’t drink coffee or tea 🤭$$$ Chocolates, C...  LiquorAccessory   \n",
       "\n",
       "   Category_Num                                   Preference_Clean  \n",
       "0            16  tea person prefer herbal de caffeinated tea ch...  \n",
       "1             3  tea person prefer herbal de caffeinated tea ch...  \n",
       "2             7  drink coffee tea chocolate candy baked treat s...  \n",
       "3             1  drink coffee tea chocolate candy baked treat s...  \n",
       "4             0  drink coffee tea chocolate candy baked treat s...  "
      ]
     },
     "execution_count": 6,
     "metadata": {},
     "output_type": "execute_result"
    }
   ],
   "source": [
    "df_predict.head()"
   ]
  },
  {
   "cell_type": "markdown",
   "id": "9cbc34cb",
   "metadata": {},
   "source": [
    "# Split the data into train and test"
   ]
  },
  {
   "cell_type": "code",
   "execution_count": 7,
   "id": "b6eabb0f",
   "metadata": {},
   "outputs": [
    {
     "data": {
      "text/plain": [
       "((3711,), (3711,))"
      ]
     },
     "execution_count": 7,
     "metadata": {},
     "output_type": "execute_result"
    }
   ],
   "source": [
    "X = df_predict['Preference_Clean']\n",
    "y = df_predict['Category_Num']\n",
    "\n",
    "X.shape, y.shape"
   ]
  },
  {
   "cell_type": "code",
   "execution_count": 8,
   "id": "1beb9702",
   "metadata": {},
   "outputs": [
    {
     "data": {
      "text/plain": [
       "((2968,), (743,), (2968,), (743,))"
      ]
     },
     "execution_count": 8,
     "metadata": {},
     "output_type": "execute_result"
    }
   ],
   "source": [
    "X_train, X_test, y_train, y_test = train_test_split(X, y, test_size=0.2, random_state=42)\n",
    "\n",
    "X_train.shape, X_test.shape, y_train.shape, y_test.shape"
   ]
  },
  {
   "cell_type": "markdown",
   "id": "1135b1ca",
   "metadata": {},
   "source": [
    "# Converting feature into vectors"
   ]
  },
  {
   "cell_type": "code",
   "execution_count": 9,
   "id": "24ebfd7b",
   "metadata": {},
   "outputs": [],
   "source": [
    "tfidf = TfidfVectorizer(max_features=3000, stop_words='english')"
   ]
  },
  {
   "cell_type": "code",
   "execution_count": 10,
   "id": "05ac22b4",
   "metadata": {},
   "outputs": [],
   "source": [
    "X_train_vec = tfidf.fit_transform(X_train).toarray()\n",
    "X_test_vec = tfidf.transform(X_test).toarray()"
   ]
  },
  {
   "cell_type": "code",
   "execution_count": 11,
   "id": "c352b020",
   "metadata": {},
   "outputs": [
    {
     "data": {
      "text/plain": [
       "(2968, 584)"
      ]
     },
     "execution_count": 11,
     "metadata": {},
     "output_type": "execute_result"
    }
   ],
   "source": [
    "X_train_vec.shape"
   ]
  },
  {
   "cell_type": "markdown",
   "id": "064ce98d",
   "metadata": {},
   "source": [
    "# Creating a model"
   ]
  },
  {
   "cell_type": "code",
   "execution_count": 26,
   "id": "c4a96aa0",
   "metadata": {},
   "outputs": [],
   "source": [
    "model_perf = []"
   ]
  },
  {
   "cell_type": "code",
   "execution_count": 25,
   "id": "9edbf04d",
   "metadata": {},
   "outputs": [],
   "source": [
    "svc = SVC(kernel='sigmoid', gamma=1.0)\n",
    "knc = KNeighborsClassifier(n_neighbors=97)\n",
    "bnb = BernoulliNB()\n",
    "mnb = MultinomialNB()\n",
    "dtc = DecisionTreeClassifier(max_depth=5)\n",
    "lrc = LogisticRegression(solver='liblinear', penalty='l1')\n",
    "rfc = RandomForestClassifier(n_estimators=50, random_state=2)\n",
    "abc = AdaBoostClassifier(n_estimators=50, random_state=2)\n",
    "bc = BaggingClassifier(n_estimators=50, random_state=2)\n",
    "etc = ExtraTreesClassifier(n_estimators=50, random_state=2)\n",
    "gbdt = GradientBoostingClassifier(n_estimators=50,random_state=2)"
   ]
  },
  {
   "cell_type": "code",
   "execution_count": 12,
   "id": "9e3507e1",
   "metadata": {},
   "outputs": [],
   "source": [
    "classifiers = [svc, knc, bnb, mnb, dtc, lrc, rfc, abc, bc, etc, gbdt]\n",
    "for classifier in classifiers:\n",
    "    classifier.fit(X_train_vec, y_train)\n",
    "    y_pred = classifier.predict(X_test_vec)\n",
    "    acc = accuracy_score\n",
    "    model_perf.append({''})"
   ]
  },
  {
   "cell_type": "markdown",
   "id": "c8221398",
   "metadata": {},
   "source": [
    "### Logistic Regression"
   ]
  },
  {
   "cell_type": "code",
   "execution_count": 13,
   "id": "cd292a79",
   "metadata": {},
   "outputs": [],
   "source": [
    "lr = LogisticRegression(max_iter=1000)\n",
    "lr.fit(X_train_vec, y_train)\n",
    "\n",
    "y_pred = lr.predict(X_test_vec)\n",
    "acc = accuracy_score(y_test, y_pred)\n",
    "\n",
    "model_perf.append({'Model': 'Logistic Regression', 'Accuracy': acc})"
   ]
  },
  {
   "cell_type": "markdown",
   "id": "98af5766",
   "metadata": {},
   "source": [
    "### Tweedie Regressor"
   ]
  },
  {
   "cell_type": "code",
   "execution_count": 14,
   "id": "591ba30b",
   "metadata": {},
   "outputs": [],
   "source": [
    "tr = TweedieRegressor()\n",
    "tr.fit(X_train_vec, y_train)\n",
    "\n",
    "y_pred = tr.predict(X_test_vec)\n",
    "y_pred = [math.floor(pred) for pred in y_pred]\n",
    "acc = accuracy_score(y_test, y_pred)\n",
    "\n",
    "model_perf.append({'Model': 'Tweedie Regression', 'Accuracy': acc})"
   ]
  },
  {
   "cell_type": "markdown",
   "id": "106ab21c",
   "metadata": {},
   "source": [
    "### Random Forest Classifier"
   ]
  },
  {
   "cell_type": "code",
   "execution_count": 15,
   "id": "617888df",
   "metadata": {},
   "outputs": [],
   "source": [
    "rfc = RandomForestClassifier()\n",
    "rfc.fit(X_train_vec, y_train)\n",
    "\n",
    "y_pred = rfc.predict(X_test_vec)\n",
    "acc = accuracy_score(y_test, y_pred)\n",
    "\n",
    "model_perf.append({'Model': 'Random Forest Classifier', 'Accuracy': acc})"
   ]
  },
  {
   "cell_type": "markdown",
   "id": "93872a8a",
   "metadata": {},
   "source": [
    "### Gaussian Naive Bayes"
   ]
  },
  {
   "cell_type": "code",
   "execution_count": 16,
   "id": "7e99254a",
   "metadata": {},
   "outputs": [],
   "source": [
    "mnb = MultinomialNB()\n",
    "mnb.fit(X_train_vec, y_train)\n",
    "\n",
    "y_pred = mnb.predict(X_test_vec)\n",
    "acc = accuracy_score(y_test, y_pred)\n",
    "\n",
    "model_perf.append({'Model': 'Gaussian Naive Bayes', 'Accuracy': acc})"
   ]
  },
  {
   "cell_type": "markdown",
   "id": "c653f8ad",
   "metadata": {},
   "source": [
    "### K Nearest Neighbour"
   ]
  },
  {
   "cell_type": "code",
   "execution_count": 17,
   "id": "5d111883",
   "metadata": {},
   "outputs": [
    {
     "data": {
      "text/plain": [
       "[<matplotlib.lines.Line2D at 0x15677f460>]"
      ]
     },
     "execution_count": 17,
     "metadata": {},
     "output_type": "execute_result"
    },
    {
     "data": {
      "image/png": "[encoded data removed]",
      "text/plain": [
       "<Figure size 432x288 with 1 Axes>"
      ]
     },
     "metadata": {},
     "output_type": "display_data"
    }
   ],
   "source": [
    "acc = []\n",
    "for i in range(95,100):\n",
    "    knc = KNeighborsClassifier(n_neighbors=i)\n",
    "    knc.fit(X_train_vec, y_train)\n",
    "\n",
    "    y_pred = knc.predict(X_test_vec)\n",
    "    acc.append(accuracy_score(y_test, y_pred))\n",
    "    \n",
    "plt.plot(acc)"
   ]
  },
  {
   "cell_type": "code",
   "execution_count": 18,
   "id": "dac48cf1",
   "metadata": {},
   "outputs": [],
   "source": [
    "knc = KNeighborsClassifier(n_neighbors=97)\n",
    "knc.fit(X_train_vec, y_train)\n",
    "\n",
    "y_pred = knc.predict(X_test_vec)\n",
    "acc = accuracy_score(y_test, y_pred)\n",
    "\n",
    "model_perf.append({'Model': 'K Nearest Neighbour', 'Accuracy': acc})"
   ]
  },
  {
   "cell_type": "markdown",
   "id": "9a14cc50",
   "metadata": {},
   "source": [
    "### Model performance"
   ]
  },
  {
   "cell_type": "code",
   "execution_count": 19,
   "id": "f14fc319",
   "metadata": {},
   "outputs": [
    {
     "data": {
      "text/html": [
       "<div>\n",
       "<style scoped>\n",
       "    .dataframe tbody tr th:only-of-type {\n",
       "        vertical-align: middle;\n",
       "    }\n",
       "\n",
       "    .dataframe tbody tr th {\n",
       "        vertical-align: top;\n",
       "    }\n",
       "\n",
       "    .dataframe thead th {\n",
       "        text-align: right;\n",
       "    }\n",
       "</style>\n",
       "<table border=\"1\" class=\"dataframe\">\n",
       "  <thead>\n",
       "    <tr style=\"text-align: right;\">\n",
       "      <th></th>\n",
       "      <th>Model</th>\n",
       "      <th>Accuracy</th>\n",
       "    </tr>\n",
       "  </thead>\n",
       "  <tbody>\n",
       "    <tr>\n",
       "      <th>0</th>\n",
       "      <td>Logistic Regression</td>\n",
       "      <td>0.123822</td>\n",
       "    </tr>\n",
       "    <tr>\n",
       "      <th>1</th>\n",
       "      <td>Tweedie Regression</td>\n",
       "      <td>0.060565</td>\n",
       "    </tr>\n",
       "    <tr>\n",
       "      <th>2</th>\n",
       "      <td>Random Forest Classifier</td>\n",
       "      <td>0.008075</td>\n",
       "    </tr>\n",
       "    <tr>\n",
       "      <th>3</th>\n",
       "      <td>Gaussian Naive Bayes</td>\n",
       "      <td>0.134590</td>\n",
       "    </tr>\n",
       "    <tr>\n",
       "      <th>4</th>\n",
       "      <td>K Nearest Neighbour</td>\n",
       "      <td>0.153432</td>\n",
       "    </tr>\n",
       "  </tbody>\n",
       "</table>\n",
       "</div>"
      ],
      "text/plain": [
       "                      Model  Accuracy\n",
       "0       Logistic Regression  0.123822\n",
       "1        Tweedie Regression  0.060565\n",
       "2  Random Forest Classifier  0.008075\n",
       "3      Gaussian Naive Bayes  0.134590\n",
       "4       K Nearest Neighbour  0.153432"
      ]
     },
     "execution_count": 19,
     "metadata": {},
     "output_type": "execute_result"
    }
   ],
   "source": [
    "pd.DataFrame(model_perf)"
   ]
  },
  {
   "cell_type": "markdown",
   "id": "8d1e608c",
   "metadata": {},
   "source": [
    "# Loading the test data"
   ]
  },
  {
   "cell_type": "code",
   "execution_count": 20,
   "id": "620995af",
   "metadata": {},
   "outputs": [
    {
     "data": {
      "text/html": [
       "<div>\n",
       "<style scoped>\n",
       "    .dataframe tbody tr th:only-of-type {\n",
       "        vertical-align: middle;\n",
       "    }\n",
       "\n",
       "    .dataframe tbody tr th {\n",
       "        vertical-align: top;\n",
       "    }\n",
       "\n",
       "    .dataframe thead th {\n",
       "        text-align: right;\n",
       "    }\n",
       "</style>\n",
       "<table border=\"1\" class=\"dataframe\">\n",
       "  <thead>\n",
       "    <tr style=\"text-align: right;\">\n",
       "      <th></th>\n",
       "      <th>Unnamed: 0</th>\n",
       "      <th>OrderID</th>\n",
       "      <th>OrderPrice</th>\n",
       "      <th>Preferences</th>\n",
       "    </tr>\n",
       "  </thead>\n",
       "  <tbody>\n",
       "    <tr>\n",
       "      <th>0</th>\n",
       "      <td>1001</td>\n",
       "      <td>171888537</td>\n",
       "      <td>40</td>\n",
       "      <td>I'm a coffee person ☕️$$$I love to make pour o...</td>\n",
       "    </tr>\n",
       "    <tr>\n",
       "      <th>1</th>\n",
       "      <td>1002</td>\n",
       "      <td>171888536</td>\n",
       "      <td>40</td>\n",
       "      <td>I'm a coffee person ☕️$$$I love to make pour o...</td>\n",
       "    </tr>\n",
       "    <tr>\n",
       "      <th>2</th>\n",
       "      <td>1003</td>\n",
       "      <td>171888535</td>\n",
       "      <td>40</td>\n",
       "      <td>I don’t drink coffee or tea 🤭$$$ Chocolates, C...</td>\n",
       "    </tr>\n",
       "    <tr>\n",
       "      <th>3</th>\n",
       "      <td>1004</td>\n",
       "      <td>171888533</td>\n",
       "      <td>30</td>\n",
       "      <td>I'm a coffee person ☕️$$$I love to make pour o...</td>\n",
       "    </tr>\n",
       "    <tr>\n",
       "      <th>4</th>\n",
       "      <td>1005</td>\n",
       "      <td>171888532</td>\n",
       "      <td>50</td>\n",
       "      <td>I’m more of a tea person 🍵$$$Any specialty tea...</td>\n",
       "    </tr>\n",
       "  </tbody>\n",
       "</table>\n",
       "</div>"
      ],
      "text/plain": [
       "   Unnamed: 0    OrderID  OrderPrice  \\\n",
       "0        1001  171888537          40   \n",
       "1        1002  171888536          40   \n",
       "2        1003  171888535          40   \n",
       "3        1004  171888533          30   \n",
       "4        1005  171888532          50   \n",
       "\n",
       "                                         Preferences  \n",
       "0  I'm a coffee person ☕️$$$I love to make pour o...  \n",
       "1  I'm a coffee person ☕️$$$I love to make pour o...  \n",
       "2  I don’t drink coffee or tea 🤭$$$ Chocolates, C...  \n",
       "3  I'm a coffee person ☕️$$$I love to make pour o...  \n",
       "4  I’m more of a tea person 🍵$$$Any specialty tea...  "
      ]
     },
     "execution_count": 20,
     "metadata": {},
     "output_type": "execute_result"
    }
   ],
   "source": [
    "df_test = pd.read_csv(\"data/test_input.csv\")\n",
    "df_test.head()"
   ]
  },
  {
   "cell_type": "code",
   "execution_count": 21,
   "id": "476b8913",
   "metadata": {},
   "outputs": [
    {
     "data": {
      "text/plain": [
       "0    coffee person love make pour specialty coffee ...\n",
       "1    coffee person love make pour specialty coffee ...\n",
       "2    drink coffee tea chocolate candy baked treat h...\n",
       "3    coffee person love make pour specialty coffee ...\n",
       "4    tea person specialty tea good chocolate candy ...\n",
       "Name: Preferences, dtype: object"
      ]
     },
     "execution_count": 21,
     "metadata": {},
     "output_type": "execute_result"
    }
   ],
   "source": [
    "X_test_sample = df_test['Preferences'].apply(clean_pref)\n",
    "X_test_sample.head()"
   ]
  },
  {
   "cell_type": "code",
   "execution_count": 22,
   "id": "26c2fd20",
   "metadata": {},
   "outputs": [],
   "source": [
    "X_test_sample_vec = tfidf.transform(X_test_sample)"
   ]
  },
  {
   "cell_type": "code",
   "execution_count": null,
   "id": "576912c7",
   "metadata": {},
   "outputs": [],
   "source": []
  }
 ],
 "metadata": {
  "kernelspec": {
   "display_name": "Python 3 (ipykernel)",
   "language": "python",
   "name": "python3"
  },
  "language_info": {
   "codemirror_mode": {
    "name": "ipython",
    "version": 3
   },
   "file_extension": ".py",
   "mimetype": "text/x-python",
   "name": "python",
   "nbconvert_exporter": "python",
   "pygments_lexer": "ipython3",
   "version": "3.9.7"
  }
 },
 "nbformat": 4,
 "nbformat_minor": 5
}
