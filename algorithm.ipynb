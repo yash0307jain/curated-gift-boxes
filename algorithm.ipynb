{
 "cells": [
  {
   "cell_type": "code",
   "execution_count": 38,
   "id": "d7d2c81b",
   "metadata": {},
   "outputs": [],
   "source": [
    "# For loading the dataframe\n",
    "import pickle\n",
    "\n",
    "# For loading data and data manipulation\n",
    "import numpy as np\n",
    "import pandas as pd\n",
    "import matplotlib.pyplot as plt\n",
    "plt.style.use('fivethirtyeight')\n",
    "\n",
    "# For converting them into vectors\n",
    "from sklearn.model_selection import train_test_split\n",
    "from sklearn.feature_extraction.text import TfidfVectorizer"
   ]
  },
  {
   "cell_type": "markdown",
   "id": "9bc7862e",
   "metadata": {},
   "source": [
    "# Loading the datasets"
   ]
  },
  {
   "cell_type": "code",
   "execution_count": 39,
   "id": "913b3037",
   "metadata": {},
   "outputs": [
    {
     "data": {
      "text/html": [
       "<div>\n",
       "<style scoped>\n",
       "    .dataframe tbody tr th:only-of-type {\n",
       "        vertical-align: middle;\n",
       "    }\n",
       "\n",
       "    .dataframe tbody tr th {\n",
       "        vertical-align: top;\n",
       "    }\n",
       "\n",
       "    .dataframe thead th {\n",
       "        text-align: right;\n",
       "    }\n",
       "</style>\n",
       "<table border=\"1\" class=\"dataframe\">\n",
       "  <thead>\n",
       "    <tr style=\"text-align: right;\">\n",
       "      <th></th>\n",
       "      <th>Preferences</th>\n",
       "      <th>Category</th>\n",
       "      <th>Category_num</th>\n",
       "      <th>Preference_Clean</th>\n",
       "    </tr>\n",
       "  </thead>\n",
       "  <tbody>\n",
       "    <tr>\n",
       "      <th>0</th>\n",
       "      <td>I’m more of a tea person 🍵$$$I prefer herbal/d...</td>\n",
       "      <td>decaf</td>\n",
       "      <td>16</td>\n",
       "      <td>tea person prefer herbal de caffeinated tea ch...</td>\n",
       "    </tr>\n",
       "    <tr>\n",
       "      <th>1</th>\n",
       "      <td>I’m more of a tea person 🍵$$$I prefer herbal/d...</td>\n",
       "      <td>sweet</td>\n",
       "      <td>3</td>\n",
       "      <td>tea person prefer herbal de caffeinated tea ch...</td>\n",
       "    </tr>\n",
       "    <tr>\n",
       "      <th>2</th>\n",
       "      <td>I don’t drink coffee or tea 🤭$$$ Chocolates, C...</td>\n",
       "      <td>hard liquor</td>\n",
       "      <td>7</td>\n",
       "      <td>drink coffee tea chocolate candy baked treat s...</td>\n",
       "    </tr>\n",
       "    <tr>\n",
       "      <th>3</th>\n",
       "      <td>I don’t drink coffee or tea 🤭$$$ Chocolates, C...</td>\n",
       "      <td>accessory</td>\n",
       "      <td>1</td>\n",
       "      <td>drink coffee tea chocolate candy baked treat s...</td>\n",
       "    </tr>\n",
       "    <tr>\n",
       "      <th>4</th>\n",
       "      <td>I don’t drink coffee or tea 🤭$$$ Chocolates, C...</td>\n",
       "      <td>LiquorAccessory</td>\n",
       "      <td>0</td>\n",
       "      <td>drink coffee tea chocolate candy baked treat s...</td>\n",
       "    </tr>\n",
       "  </tbody>\n",
       "</table>\n",
       "</div>"
      ],
      "text/plain": [
       "                                         Preferences         Category  \\\n",
       "0  I’m more of a tea person 🍵$$$I prefer herbal/d...            decaf   \n",
       "1  I’m more of a tea person 🍵$$$I prefer herbal/d...            sweet   \n",
       "2  I don’t drink coffee or tea 🤭$$$ Chocolates, C...      hard liquor   \n",
       "3  I don’t drink coffee or tea 🤭$$$ Chocolates, C...        accessory   \n",
       "4  I don’t drink coffee or tea 🤭$$$ Chocolates, C...  LiquorAccessory   \n",
       "\n",
       "   Category_num                                   Preference_Clean  \n",
       "0            16  tea person prefer herbal de caffeinated tea ch...  \n",
       "1             3  tea person prefer herbal de caffeinated tea ch...  \n",
       "2             7  drink coffee tea chocolate candy baked treat s...  \n",
       "3             1  drink coffee tea chocolate candy baked treat s...  \n",
       "4             0  drink coffee tea chocolate candy baked treat s...  "
      ]
     },
     "execution_count": 39,
     "metadata": {},
     "output_type": "execute_result"
    }
   ],
   "source": [
    "df_predict = pickle.load(open(\"eda_data/predict.pkl\", \"rb\"))\n",
    "df_predict.head()"
   ]
  },
  {
   "cell_type": "markdown",
   "id": "9cbc34cb",
   "metadata": {},
   "source": [
    "# Split the data into train and test"
   ]
  },
  {
   "cell_type": "code",
   "execution_count": 40,
   "id": "b6eabb0f",
   "metadata": {},
   "outputs": [
    {
     "data": {
      "text/plain": [
       "((3711,), (3711,))"
      ]
     },
     "execution_count": 40,
     "metadata": {},
     "output_type": "execute_result"
    }
   ],
   "source": [
    "X = df_predict['Preference_Clean']\n",
    "y = df_predict['Category_num']\n",
    "\n",
    "X.shape, y.shape"
   ]
  },
  {
   "cell_type": "code",
   "execution_count": 41,
   "id": "1beb9702",
   "metadata": {},
   "outputs": [
    {
     "data": {
      "text/plain": [
       "((2968,), (743,), (2968,), (743,))"
      ]
     },
     "execution_count": 41,
     "metadata": {},
     "output_type": "execute_result"
    }
   ],
   "source": [
    "X_train, X_test, y_train, y_test = train_test_split(X, y, test_size=0.2, random_state=42)\n",
    "\n",
    "X_train.shape, X_test.shape, y_train.shape, y_test.shape"
   ]
  },
  {
   "cell_type": "markdown",
   "id": "1135b1ca",
   "metadata": {},
   "source": [
    "# Converting feature into vectors"
   ]
  },
  {
   "cell_type": "code",
   "execution_count": 42,
   "id": "24ebfd7b",
   "metadata": {},
   "outputs": [],
   "source": [
    "tfidf = TfidfVectorizer(max_features=3000, stop_words='english')"
   ]
  },
  {
   "cell_type": "code",
   "execution_count": 43,
   "id": "05ac22b4",
   "metadata": {},
   "outputs": [],
   "source": [
    "X_train_vec = tfidf.fit_transform(X_train).toarray()\n",
    "X_test_vec = tfidf.transform(X_test).toarray()"
   ]
  },
  {
   "cell_type": "code",
   "execution_count": 44,
   "id": "c352b020",
   "metadata": {},
   "outputs": [
    {
     "data": {
      "text/plain": [
       "(2968, 584)"
      ]
     },
     "execution_count": 44,
     "metadata": {},
     "output_type": "execute_result"
    }
   ],
   "source": [
    "X_train_vec.shape"
   ]
  },
  {
   "cell_type": "markdown",
   "id": "064ce98d",
   "metadata": {},
   "source": [
    "# Creating a logictic regression model"
   ]
  },
  {
   "cell_type": "code",
   "execution_count": 52,
   "id": "ac8ec0c5",
   "metadata": {},
   "outputs": [],
   "source": [
    "import tensorflow as tf\n",
    "\n",
    "model = tf.keras.Sequential()\n",
    "model.add(tf.keras.layers.Dense(10))\n",
    "model.add(tf.keras.layers.Dense(10, activation='relu'))\n",
    "model.add(tf.keras.layers.Dense(10, activation='relu'))\n",
    "model.add(tf.keras.layers.Dense(1))\n",
    "\n",
    "model.compile(loss=tf.keras.losses.CategoricalCrossentropy(),\n",
    "             optimizer=tf.keras.optimizers.Adam(),\n",
    "             metrics=['mse'])"
   ]
  },
  {
   "cell_type": "code",
   "execution_count": 53,
   "id": "4203049e",
   "metadata": {},
   "outputs": [
    {
     "name": "stdout",
     "output_type": "stream",
     "text": [
      "Epoch 1/10\n"
     ]
    },
    {
     "name": "stderr",
     "output_type": "stream",
     "text": [
      "2022-03-14 17:59:33.433497: I tensorflow/core/grappler/optimizers/custom_graph_optimizer_registry.cc:113] Plugin optimizer for device_type GPU is enabled.\n"
     ]
    },
    {
     "name": "stdout",
     "output_type": "stream",
     "text": [
      "93/93 [==============================] - 1s 7ms/step - loss: 5.0722e-07 - mse: 76.5688\n",
      "Epoch 2/10\n",
      "93/93 [==============================] - 1s 7ms/step - loss: 5.0722e-07 - mse: 76.5687\n",
      "Epoch 3/10\n",
      "93/93 [==============================] - 1s 7ms/step - loss: 5.0722e-07 - mse: 76.5687\n",
      "Epoch 4/10\n",
      "93/93 [==============================] - 1s 7ms/step - loss: 5.0722e-07 - mse: 76.5687\n",
      "Epoch 5/10\n",
      "93/93 [==============================] - 0s 5ms/step - loss: 5.0722e-07 - mse: 76.5687\n",
      "Epoch 6/10\n",
      "93/93 [==============================] - 0s 5ms/step - loss: 5.0722e-07 - mse: 76.5688\n",
      "Epoch 7/10\n",
      "93/93 [==============================] - 1s 7ms/step - loss: 5.0722e-07 - mse: 76.5687\n",
      "Epoch 8/10\n",
      "93/93 [==============================] - 1s 7ms/step - loss: 5.0722e-07 - mse: 76.5687\n",
      "Epoch 9/10\n",
      "93/93 [==============================] - 1s 8ms/step - loss: 5.0722e-07 - mse: 76.5687\n",
      "Epoch 10/10\n",
      "93/93 [==============================] - 1s 7ms/step - loss: 5.0722e-07 - mse: 76.5687\n"
     ]
    },
    {
     "data": {
      "text/plain": [
       "<AxesSubplot:>"
      ]
     },
     "execution_count": 53,
     "metadata": {},
     "output_type": "execute_result"
    },
    {
     "data": {
      "image/png": "[encoded data removed]",
      "text/plain": [
       "<Figure size 864x504 with 1 Axes>"
      ]
     },
     "metadata": {},
     "output_type": "display_data"
    }
   ],
   "source": [
    "history = model.fit(X_train_vec, y_train, epochs=10)\n",
    "\n",
    "pd.DataFrame(history.history).plot(figsize=(12,7))"
   ]
  },
  {
   "cell_type": "code",
   "execution_count": null,
   "id": "c1adaba6",
   "metadata": {},
   "outputs": [],
   "source": []
  }
 ],
 "metadata": {
  "kernelspec": {
   "display_name": "Python 3 (ipykernel)",
   "language": "python",
   "name": "python3"
  },
  "language_info": {
   "codemirror_mode": {
    "name": "ipython",
    "version": 3
   },
   "file_extension": ".py",
   "mimetype": "text/x-python",
   "name": "python",
   "nbconvert_exporter": "python",
   "pygments_lexer": "ipython3",
   "version": "3.9.7"
  }
 },
 "nbformat": 4,
 "nbformat_minor": 5
}
