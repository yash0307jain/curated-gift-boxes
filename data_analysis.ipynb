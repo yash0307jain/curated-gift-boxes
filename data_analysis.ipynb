{
 "cells": [
  {
   "cell_type": "markdown",
   "id": "739726f9",
   "metadata": {},
   "source": [
    "# Import the required libraries"
   ]
  },
  {
   "cell_type": "code",
   "execution_count": 1,
   "id": "66b89aa8",
   "metadata": {},
   "outputs": [],
   "source": [
    "import time\n",
    "import warnings\n",
    "warnings.filterwarnings('ignore')\n",
    "\n",
    "# For loading data and data manipulation\n",
    "import numpy as np\n",
    "import pandas as pd\n",
    "import matplotlib.pyplot as plt\n",
    "plt.style.use('fivethirtyeight')\n",
    "\n",
    "# For cleaning the text\n",
    "from nltk.corpus import stopwords\n",
    "from nltk import RegexpTokenizer\n",
    "from nltk.stem import WordNetLemmatizer\n",
    "\n",
    "# For export the dataframe and load\n",
    "import pickle"
   ]
  },
  {
   "cell_type": "markdown",
   "id": "05b63dd5",
   "metadata": {},
   "source": [
    "# Loading the datasets"
   ]
  },
  {
   "cell_type": "code",
   "execution_count": 2,
   "id": "59fd914d",
   "metadata": {},
   "outputs": [
    {
     "data": {
      "text/html": [
       "<div>\n",
       "<style scoped>\n",
       "    .dataframe tbody tr th:only-of-type {\n",
       "        vertical-align: middle;\n",
       "    }\n",
       "\n",
       "    .dataframe tbody tr th {\n",
       "        vertical-align: top;\n",
       "    }\n",
       "\n",
       "    .dataframe thead th {\n",
       "        text-align: right;\n",
       "    }\n",
       "</style>\n",
       "<table border=\"1\" class=\"dataframe\">\n",
       "  <thead>\n",
       "    <tr style=\"text-align: right;\">\n",
       "      <th></th>\n",
       "      <th>Unnamed: 0</th>\n",
       "      <th>OrderID</th>\n",
       "      <th>OrderPrice</th>\n",
       "      <th>Amount_Charged</th>\n",
       "      <th>GiftBox</th>\n",
       "      <th>Preferences</th>\n",
       "      <th>Rating</th>\n",
       "    </tr>\n",
       "  </thead>\n",
       "  <tbody>\n",
       "    <tr>\n",
       "      <th>0</th>\n",
       "      <td>0</td>\n",
       "      <td>171890429</td>\n",
       "      <td>30</td>\n",
       "      <td>34.0</td>\n",
       "      <td>1985,4312</td>\n",
       "      <td>I’m more of a tea person 🍵$$$I prefer herbal/d...</td>\n",
       "      <td>0</td>\n",
       "    </tr>\n",
       "    <tr>\n",
       "      <th>1</th>\n",
       "      <td>1</td>\n",
       "      <td>171890412</td>\n",
       "      <td>30</td>\n",
       "      <td>36.0</td>\n",
       "      <td>4443,5234</td>\n",
       "      <td>I don’t drink coffee or tea 🤭$$$ Chocolates, C...</td>\n",
       "      <td>0</td>\n",
       "    </tr>\n",
       "    <tr>\n",
       "      <th>2</th>\n",
       "      <td>2</td>\n",
       "      <td>171890410</td>\n",
       "      <td>50</td>\n",
       "      <td>115.0</td>\n",
       "      <td>3823,4729,1002</td>\n",
       "      <td>I'm a coffee person ☕️$$$I like coffee but I d...</td>\n",
       "      <td>0</td>\n",
       "    </tr>\n",
       "    <tr>\n",
       "      <th>3</th>\n",
       "      <td>3</td>\n",
       "      <td>171890399</td>\n",
       "      <td>50</td>\n",
       "      <td>62.0</td>\n",
       "      <td>4991,5236</td>\n",
       "      <td>I'm a coffee person ☕️$$$I like coffee but I d...</td>\n",
       "      <td>0</td>\n",
       "    </tr>\n",
       "    <tr>\n",
       "      <th>4</th>\n",
       "      <td>4</td>\n",
       "      <td>171890387</td>\n",
       "      <td>50</td>\n",
       "      <td>54.0</td>\n",
       "      <td>1859,5061,5249</td>\n",
       "      <td>I’m more of a tea person 🍵$$$Any specialty tea...</td>\n",
       "      <td>0</td>\n",
       "    </tr>\n",
       "  </tbody>\n",
       "</table>\n",
       "</div>"
      ],
      "text/plain": [
       "   Unnamed: 0    OrderID  OrderPrice  Amount_Charged         GiftBox  \\\n",
       "0           0  171890429          30            34.0       1985,4312   \n",
       "1           1  171890412          30            36.0       4443,5234   \n",
       "2           2  171890410          50           115.0  3823,4729,1002   \n",
       "3           3  171890399          50            62.0       4991,5236   \n",
       "4           4  171890387          50            54.0  1859,5061,5249   \n",
       "\n",
       "                                         Preferences  Rating  \n",
       "0  I’m more of a tea person 🍵$$$I prefer herbal/d...       0  \n",
       "1  I don’t drink coffee or tea 🤭$$$ Chocolates, C...       0  \n",
       "2  I'm a coffee person ☕️$$$I like coffee but I d...       0  \n",
       "3  I'm a coffee person ☕️$$$I like coffee but I d...       0  \n",
       "4  I’m more of a tea person 🍵$$$Any specialty tea...       0  "
      ]
     },
     "execution_count": 2,
     "metadata": {},
     "output_type": "execute_result"
    }
   ],
   "source": [
    "df_legacy = pd.read_csv('data/legacy_data.csv')\n",
    "df_legacy.head()"
   ]
  },
  {
   "cell_type": "code",
   "execution_count": 3,
   "id": "8f2c68df",
   "metadata": {},
   "outputs": [
    {
     "data": {
      "text/html": [
       "<div>\n",
       "<style scoped>\n",
       "    .dataframe tbody tr th:only-of-type {\n",
       "        vertical-align: middle;\n",
       "    }\n",
       "\n",
       "    .dataframe tbody tr th {\n",
       "        vertical-align: top;\n",
       "    }\n",
       "\n",
       "    .dataframe thead th {\n",
       "        text-align: right;\n",
       "    }\n",
       "</style>\n",
       "<table border=\"1\" class=\"dataframe\">\n",
       "  <thead>\n",
       "    <tr style=\"text-align: right;\">\n",
       "      <th></th>\n",
       "      <th>Unnamed: 0</th>\n",
       "      <th>OrderID</th>\n",
       "      <th>GiftBox</th>\n",
       "    </tr>\n",
       "  </thead>\n",
       "  <tbody>\n",
       "    <tr>\n",
       "      <th>0</th>\n",
       "      <td>0</td>\n",
       "      <td>171890429</td>\n",
       "      <td>1985,4312</td>\n",
       "    </tr>\n",
       "    <tr>\n",
       "      <th>1</th>\n",
       "      <td>1</td>\n",
       "      <td>171890412</td>\n",
       "      <td>4443,5234</td>\n",
       "    </tr>\n",
       "    <tr>\n",
       "      <th>2</th>\n",
       "      <td>2</td>\n",
       "      <td>171890410</td>\n",
       "      <td>3823,4729,1002</td>\n",
       "    </tr>\n",
       "    <tr>\n",
       "      <th>3</th>\n",
       "      <td>3</td>\n",
       "      <td>171890399</td>\n",
       "      <td>4991,5236</td>\n",
       "    </tr>\n",
       "    <tr>\n",
       "      <th>4</th>\n",
       "      <td>4</td>\n",
       "      <td>171890387</td>\n",
       "      <td>1859,5061,5249</td>\n",
       "    </tr>\n",
       "  </tbody>\n",
       "</table>\n",
       "</div>"
      ],
      "text/plain": [
       "   Unnamed: 0    OrderID         GiftBox\n",
       "0           0  171890429       1985,4312\n",
       "1           1  171890412       4443,5234\n",
       "2           2  171890410  3823,4729,1002\n",
       "3           3  171890399       4991,5236\n",
       "4           4  171890387  1859,5061,5249"
      ]
     },
     "execution_count": 3,
     "metadata": {},
     "output_type": "execute_result"
    }
   ],
   "source": [
    "df_sample = pd.read_csv('data/sample_output.csv')\n",
    "df_sample.head()"
   ]
  },
  {
   "cell_type": "code",
   "execution_count": 4,
   "id": "8b383c3a",
   "metadata": {},
   "outputs": [
    {
     "data": {
      "text/html": [
       "<div>\n",
       "<style scoped>\n",
       "    .dataframe tbody tr th:only-of-type {\n",
       "        vertical-align: middle;\n",
       "    }\n",
       "\n",
       "    .dataframe tbody tr th {\n",
       "        vertical-align: top;\n",
       "    }\n",
       "\n",
       "    .dataframe thead th {\n",
       "        text-align: right;\n",
       "    }\n",
       "</style>\n",
       "<table border=\"1\" class=\"dataframe\">\n",
       "  <thead>\n",
       "    <tr style=\"text-align: right;\">\n",
       "      <th></th>\n",
       "      <th>Unnamed: 0</th>\n",
       "      <th>ProductId</th>\n",
       "      <th>ProductName</th>\n",
       "      <th>Cost</th>\n",
       "      <th>Price</th>\n",
       "      <th>Rating</th>\n",
       "      <th>ProductTag</th>\n",
       "      <th>AvalQuantity</th>\n",
       "      <th>BoxDimensions</th>\n",
       "    </tr>\n",
       "  </thead>\n",
       "  <tbody>\n",
       "    <tr>\n",
       "      <th>0</th>\n",
       "      <td>0</td>\n",
       "      <td>245</td>\n",
       "      <td>Guatemalan Signature Roast Ground Coffee</td>\n",
       "      <td>13.78</td>\n",
       "      <td>25.99</td>\n",
       "      <td>4.4427</td>\n",
       "      <td>coffee, ground</td>\n",
       "      <td>93</td>\n",
       "      <td>8x4x3</td>\n",
       "    </tr>\n",
       "    <tr>\n",
       "      <th>1</th>\n",
       "      <td>1</td>\n",
       "      <td>278</td>\n",
       "      <td>Los Gigantes Colombia (Coffee Beans)</td>\n",
       "      <td>10.75</td>\n",
       "      <td>20.00</td>\n",
       "      <td>4.3185</td>\n",
       "      <td>coffee, artisanal</td>\n",
       "      <td>5</td>\n",
       "      <td>6x3x2</td>\n",
       "    </tr>\n",
       "    <tr>\n",
       "      <th>2</th>\n",
       "      <td>2</td>\n",
       "      <td>351</td>\n",
       "      <td>Rowkin Bit Charge Stereo (Silver)</td>\n",
       "      <td>64.00</td>\n",
       "      <td>102.99</td>\n",
       "      <td>4.0000</td>\n",
       "      <td>music</td>\n",
       "      <td>6</td>\n",
       "      <td>NaN</td>\n",
       "    </tr>\n",
       "    <tr>\n",
       "      <th>3</th>\n",
       "      <td>3</td>\n",
       "      <td>424</td>\n",
       "      <td>Chocolate Fruit and Nut Dragee Sampler</td>\n",
       "      <td>21.00</td>\n",
       "      <td>35.00</td>\n",
       "      <td>4.4643</td>\n",
       "      <td>sweet</td>\n",
       "      <td>12</td>\n",
       "      <td>NaN</td>\n",
       "    </tr>\n",
       "    <tr>\n",
       "      <th>4</th>\n",
       "      <td>4</td>\n",
       "      <td>700</td>\n",
       "      <td>Pro Lens Kit for Phone Camera</td>\n",
       "      <td>24.50</td>\n",
       "      <td>42.99</td>\n",
       "      <td>4.3588</td>\n",
       "      <td>photography</td>\n",
       "      <td>1</td>\n",
       "      <td>8x4x3</td>\n",
       "    </tr>\n",
       "  </tbody>\n",
       "</table>\n",
       "</div>"
      ],
      "text/plain": [
       "   Unnamed: 0  ProductId                               ProductName   Cost  \\\n",
       "0           0        245  Guatemalan Signature Roast Ground Coffee  13.78   \n",
       "1           1        278      Los Gigantes Colombia (Coffee Beans)  10.75   \n",
       "2           2        351         Rowkin Bit Charge Stereo (Silver)  64.00   \n",
       "3           3        424    Chocolate Fruit and Nut Dragee Sampler  21.00   \n",
       "4           4        700             Pro Lens Kit for Phone Camera  24.50   \n",
       "\n",
       "    Price  Rating         ProductTag  AvalQuantity BoxDimensions  \n",
       "0   25.99  4.4427     coffee, ground            93         8x4x3  \n",
       "1   20.00  4.3185  coffee, artisanal             5         6x3x2  \n",
       "2  102.99  4.0000              music             6           NaN  \n",
       "3   35.00  4.4643              sweet            12           NaN  \n",
       "4   42.99  4.3588        photography             1         8x4x3  "
      ]
     },
     "execution_count": 4,
     "metadata": {},
     "output_type": "execute_result"
    }
   ],
   "source": [
    "df_inventory = pd.read_csv('data/inventory.csv')\n",
    "df_inventory.head()"
   ]
  },
  {
   "cell_type": "markdown",
   "id": "e08de51d",
   "metadata": {},
   "source": [
    "# Getting one with the data"
   ]
  },
  {
   "cell_type": "markdown",
   "id": "f334229a",
   "metadata": {},
   "source": [
    "### Taking insights from Legacy data"
   ]
  },
  {
   "cell_type": "code",
   "execution_count": 5,
   "id": "f2c3c3a9",
   "metadata": {},
   "outputs": [
    {
     "data": {
      "text/html": [
       "<div>\n",
       "<style scoped>\n",
       "    .dataframe tbody tr th:only-of-type {\n",
       "        vertical-align: middle;\n",
       "    }\n",
       "\n",
       "    .dataframe tbody tr th {\n",
       "        vertical-align: top;\n",
       "    }\n",
       "\n",
       "    .dataframe thead th {\n",
       "        text-align: right;\n",
       "    }\n",
       "</style>\n",
       "<table border=\"1\" class=\"dataframe\">\n",
       "  <thead>\n",
       "    <tr style=\"text-align: right;\">\n",
       "      <th></th>\n",
       "      <th>Unnamed: 0</th>\n",
       "      <th>OrderID</th>\n",
       "      <th>OrderPrice</th>\n",
       "      <th>Amount_Charged</th>\n",
       "      <th>GiftBox</th>\n",
       "      <th>Preferences</th>\n",
       "      <th>Rating</th>\n",
       "    </tr>\n",
       "  </thead>\n",
       "  <tbody>\n",
       "    <tr>\n",
       "      <th>0</th>\n",
       "      <td>0</td>\n",
       "      <td>171890429</td>\n",
       "      <td>30</td>\n",
       "      <td>34.0</td>\n",
       "      <td>1985,4312</td>\n",
       "      <td>I’m more of a tea person 🍵$$$I prefer herbal/d...</td>\n",
       "      <td>0</td>\n",
       "    </tr>\n",
       "    <tr>\n",
       "      <th>1</th>\n",
       "      <td>1</td>\n",
       "      <td>171890412</td>\n",
       "      <td>30</td>\n",
       "      <td>36.0</td>\n",
       "      <td>4443,5234</td>\n",
       "      <td>I don’t drink coffee or tea 🤭$$$ Chocolates, C...</td>\n",
       "      <td>0</td>\n",
       "    </tr>\n",
       "    <tr>\n",
       "      <th>2</th>\n",
       "      <td>2</td>\n",
       "      <td>171890410</td>\n",
       "      <td>50</td>\n",
       "      <td>115.0</td>\n",
       "      <td>3823,4729,1002</td>\n",
       "      <td>I'm a coffee person ☕️$$$I like coffee but I d...</td>\n",
       "      <td>0</td>\n",
       "    </tr>\n",
       "    <tr>\n",
       "      <th>3</th>\n",
       "      <td>3</td>\n",
       "      <td>171890399</td>\n",
       "      <td>50</td>\n",
       "      <td>62.0</td>\n",
       "      <td>4991,5236</td>\n",
       "      <td>I'm a coffee person ☕️$$$I like coffee but I d...</td>\n",
       "      <td>0</td>\n",
       "    </tr>\n",
       "    <tr>\n",
       "      <th>4</th>\n",
       "      <td>4</td>\n",
       "      <td>171890387</td>\n",
       "      <td>50</td>\n",
       "      <td>54.0</td>\n",
       "      <td>1859,5061,5249</td>\n",
       "      <td>I’m more of a tea person 🍵$$$Any specialty tea...</td>\n",
       "      <td>0</td>\n",
       "    </tr>\n",
       "  </tbody>\n",
       "</table>\n",
       "</div>"
      ],
      "text/plain": [
       "   Unnamed: 0    OrderID  OrderPrice  Amount_Charged         GiftBox  \\\n",
       "0           0  171890429          30            34.0       1985,4312   \n",
       "1           1  171890412          30            36.0       4443,5234   \n",
       "2           2  171890410          50           115.0  3823,4729,1002   \n",
       "3           3  171890399          50            62.0       4991,5236   \n",
       "4           4  171890387          50            54.0  1859,5061,5249   \n",
       "\n",
       "                                         Preferences  Rating  \n",
       "0  I’m more of a tea person 🍵$$$I prefer herbal/d...       0  \n",
       "1  I don’t drink coffee or tea 🤭$$$ Chocolates, C...       0  \n",
       "2  I'm a coffee person ☕️$$$I like coffee but I d...       0  \n",
       "3  I'm a coffee person ☕️$$$I like coffee but I d...       0  \n",
       "4  I’m more of a tea person 🍵$$$Any specialty tea...       0  "
      ]
     },
     "execution_count": 5,
     "metadata": {},
     "output_type": "execute_result"
    }
   ],
   "source": [
    "df_legacy.head()"
   ]
  },
  {
   "cell_type": "code",
   "execution_count": 6,
   "id": "9f9c3f8e",
   "metadata": {},
   "outputs": [
    {
     "data": {
      "text/html": [
       "<div>\n",
       "<style scoped>\n",
       "    .dataframe tbody tr th:only-of-type {\n",
       "        vertical-align: middle;\n",
       "    }\n",
       "\n",
       "    .dataframe tbody tr th {\n",
       "        vertical-align: top;\n",
       "    }\n",
       "\n",
       "    .dataframe thead th {\n",
       "        text-align: right;\n",
       "    }\n",
       "</style>\n",
       "<table border=\"1\" class=\"dataframe\">\n",
       "  <thead>\n",
       "    <tr style=\"text-align: right;\">\n",
       "      <th></th>\n",
       "      <th>OrderID</th>\n",
       "      <th>OrderPrice</th>\n",
       "      <th>Amount_Charged</th>\n",
       "      <th>GiftBox</th>\n",
       "      <th>Preferences</th>\n",
       "      <th>Rating</th>\n",
       "    </tr>\n",
       "  </thead>\n",
       "  <tbody>\n",
       "    <tr>\n",
       "      <th>0</th>\n",
       "      <td>171890429</td>\n",
       "      <td>30</td>\n",
       "      <td>34.0</td>\n",
       "      <td>1985,4312</td>\n",
       "      <td>I’m more of a tea person 🍵$$$I prefer herbal/d...</td>\n",
       "      <td>0</td>\n",
       "    </tr>\n",
       "    <tr>\n",
       "      <th>1</th>\n",
       "      <td>171890412</td>\n",
       "      <td>30</td>\n",
       "      <td>36.0</td>\n",
       "      <td>4443,5234</td>\n",
       "      <td>I don’t drink coffee or tea 🤭$$$ Chocolates, C...</td>\n",
       "      <td>0</td>\n",
       "    </tr>\n",
       "    <tr>\n",
       "      <th>2</th>\n",
       "      <td>171890410</td>\n",
       "      <td>50</td>\n",
       "      <td>115.0</td>\n",
       "      <td>3823,4729,1002</td>\n",
       "      <td>I'm a coffee person ☕️$$$I like coffee but I d...</td>\n",
       "      <td>0</td>\n",
       "    </tr>\n",
       "    <tr>\n",
       "      <th>3</th>\n",
       "      <td>171890399</td>\n",
       "      <td>50</td>\n",
       "      <td>62.0</td>\n",
       "      <td>4991,5236</td>\n",
       "      <td>I'm a coffee person ☕️$$$I like coffee but I d...</td>\n",
       "      <td>0</td>\n",
       "    </tr>\n",
       "    <tr>\n",
       "      <th>4</th>\n",
       "      <td>171890387</td>\n",
       "      <td>50</td>\n",
       "      <td>54.0</td>\n",
       "      <td>1859,5061,5249</td>\n",
       "      <td>I’m more of a tea person 🍵$$$Any specialty tea...</td>\n",
       "      <td>0</td>\n",
       "    </tr>\n",
       "  </tbody>\n",
       "</table>\n",
       "</div>"
      ],
      "text/plain": [
       "     OrderID  OrderPrice  Amount_Charged         GiftBox  \\\n",
       "0  171890429          30            34.0       1985,4312   \n",
       "1  171890412          30            36.0       4443,5234   \n",
       "2  171890410          50           115.0  3823,4729,1002   \n",
       "3  171890399          50            62.0       4991,5236   \n",
       "4  171890387          50            54.0  1859,5061,5249   \n",
       "\n",
       "                                         Preferences  Rating  \n",
       "0  I’m more of a tea person 🍵$$$I prefer herbal/d...       0  \n",
       "1  I don’t drink coffee or tea 🤭$$$ Chocolates, C...       0  \n",
       "2  I'm a coffee person ☕️$$$I like coffee but I d...       0  \n",
       "3  I'm a coffee person ☕️$$$I like coffee but I d...       0  \n",
       "4  I’m more of a tea person 🍵$$$Any specialty tea...       0  "
      ]
     },
     "execution_count": 6,
     "metadata": {},
     "output_type": "execute_result"
    }
   ],
   "source": [
    "# Dropping the Unnamed columns\n",
    "df_legacy.drop(columns=['Unnamed: 0'], inplace=True)\n",
    "df_legacy.head()"
   ]
  },
  {
   "cell_type": "code",
   "execution_count": 7,
   "id": "f77663bb",
   "metadata": {},
   "outputs": [
    {
     "data": {
      "text/plain": [
       "(1000, 6)"
      ]
     },
     "execution_count": 7,
     "metadata": {},
     "output_type": "execute_result"
    }
   ],
   "source": [
    "# Shape of the legacy data\n",
    "df_legacy.shape"
   ]
  },
  {
   "cell_type": "code",
   "execution_count": 8,
   "id": "ac6ac83d",
   "metadata": {},
   "outputs": [
    {
     "data": {
      "image/png": "[encoded data removed]",
      "text/plain": [
       "<Figure size 864x504 with 1 Axes>"
      ]
     },
     "metadata": {},
     "output_type": "display_data"
    }
   ],
   "source": [
    "# Creating a plot between the 'OrderPrice' and 'Amount_Charged'\n",
    "plt.figure(figsize=(12,7))\n",
    "plt.plot(df_legacy['Amount_Charged'], c='g', label='Amount Charged')\n",
    "plt.plot(df_legacy['OrderPrice'], c='r', label='Order Price')\n",
    "plt.title('OrderPrice vs Amount_Charged')\n",
    "plt.legend()\n",
    "plt.xlabel('Order Index')\n",
    "plt.ylabel('Price')\n",
    "plt.show()"
   ]
  },
  {
   "cell_type": "code",
   "execution_count": 9,
   "id": "02ef01a0",
   "metadata": {},
   "outputs": [
    {
     "data": {
      "text/plain": [
       "OrderID           0\n",
       "OrderPrice        0\n",
       "Amount_Charged    1\n",
       "GiftBox           0\n",
       "Preferences       0\n",
       "Rating            0\n",
       "dtype: int64"
      ]
     },
     "execution_count": 9,
     "metadata": {},
     "output_type": "execute_result"
    }
   ],
   "source": [
    "# Checking for the null data\n",
    "df_legacy.isnull().sum()"
   ]
  },
  {
   "cell_type": "code",
   "execution_count": 10,
   "id": "e331a5e8",
   "metadata": {},
   "outputs": [
    {
     "data": {
      "text/html": [
       "<div>\n",
       "<style scoped>\n",
       "    .dataframe tbody tr th:only-of-type {\n",
       "        vertical-align: middle;\n",
       "    }\n",
       "\n",
       "    .dataframe tbody tr th {\n",
       "        vertical-align: top;\n",
       "    }\n",
       "\n",
       "    .dataframe thead th {\n",
       "        text-align: right;\n",
       "    }\n",
       "</style>\n",
       "<table border=\"1\" class=\"dataframe\">\n",
       "  <thead>\n",
       "    <tr style=\"text-align: right;\">\n",
       "      <th></th>\n",
       "      <th>OrderID</th>\n",
       "      <th>OrderPrice</th>\n",
       "      <th>Amount_Charged</th>\n",
       "      <th>GiftBox</th>\n",
       "      <th>Preferences</th>\n",
       "      <th>Rating</th>\n",
       "    </tr>\n",
       "  </thead>\n",
       "  <tbody>\n",
       "    <tr>\n",
       "      <th>595</th>\n",
       "      <td>171888616</td>\n",
       "      <td>40</td>\n",
       "      <td>NaN</td>\n",
       "      <td>1859,5061</td>\n",
       "      <td>I’m more of a tea person 🍵$$$Any specialty tea...</td>\n",
       "      <td>0</td>\n",
       "    </tr>\n",
       "  </tbody>\n",
       "</table>\n",
       "</div>"
      ],
      "text/plain": [
       "       OrderID  OrderPrice  Amount_Charged    GiftBox  \\\n",
       "595  171888616          40             NaN  1859,5061   \n",
       "\n",
       "                                           Preferences  Rating  \n",
       "595  I’m more of a tea person 🍵$$$Any specialty tea...       0  "
      ]
     },
     "execution_count": 10,
     "metadata": {},
     "output_type": "execute_result"
    }
   ],
   "source": [
    "# Fetching the null row\n",
    "df_legacy[df_legacy.isnull().any(axis=1)]"
   ]
  },
  {
   "cell_type": "code",
   "execution_count": 11,
   "id": "12ed1753",
   "metadata": {},
   "outputs": [],
   "source": [
    "# Drop the null value row\n",
    "df_legacy.dropna(inplace=True)"
   ]
  },
  {
   "cell_type": "code",
   "execution_count": 12,
   "id": "6fa36bd5",
   "metadata": {},
   "outputs": [
    {
     "data": {
      "text/html": [
       "<div>\n",
       "<style scoped>\n",
       "    .dataframe tbody tr th:only-of-type {\n",
       "        vertical-align: middle;\n",
       "    }\n",
       "\n",
       "    .dataframe tbody tr th {\n",
       "        vertical-align: top;\n",
       "    }\n",
       "\n",
       "    .dataframe thead th {\n",
       "        text-align: right;\n",
       "    }\n",
       "</style>\n",
       "<table border=\"1\" class=\"dataframe\">\n",
       "  <thead>\n",
       "    <tr style=\"text-align: right;\">\n",
       "      <th></th>\n",
       "      <th>OrderID</th>\n",
       "      <th>OrderPrice</th>\n",
       "      <th>Amount_Charged</th>\n",
       "      <th>GiftBox</th>\n",
       "      <th>Preferences</th>\n",
       "      <th>Rating</th>\n",
       "    </tr>\n",
       "  </thead>\n",
       "  <tbody>\n",
       "    <tr>\n",
       "      <th>626</th>\n",
       "      <td>171889514</td>\n",
       "      <td>75</td>\n",
       "      <td>78.0</td>\n",
       "      <td>4729,4831,4271,4700</td>\n",
       "      <td>I don’t drink coffee or tea 🤭$$$ Healthy Sweet...</td>\n",
       "      <td>0</td>\n",
       "    </tr>\n",
       "    <tr>\n",
       "      <th>627</th>\n",
       "      <td>171889449</td>\n",
       "      <td>50</td>\n",
       "      <td>62.0</td>\n",
       "      <td>4865,5043,2241</td>\n",
       "      <td>I'm a coffee person ☕️$$$I like coffee but I d...</td>\n",
       "      <td>0</td>\n",
       "    </tr>\n",
       "    <tr>\n",
       "      <th>628</th>\n",
       "      <td>171889327</td>\n",
       "      <td>30</td>\n",
       "      <td>48.0</td>\n",
       "      <td>4607,4879</td>\n",
       "      <td>I don’t drink coffee or tea 🤭$$$ Savories and ...</td>\n",
       "      <td>0</td>\n",
       "    </tr>\n",
       "  </tbody>\n",
       "</table>\n",
       "</div>"
      ],
      "text/plain": [
       "       OrderID  OrderPrice  Amount_Charged              GiftBox  \\\n",
       "626  171889514          75            78.0  4729,4831,4271,4700   \n",
       "627  171889449          50            62.0       4865,5043,2241   \n",
       "628  171889327          30            48.0            4607,4879   \n",
       "\n",
       "                                           Preferences  Rating  \n",
       "626  I don’t drink coffee or tea 🤭$$$ Healthy Sweet...       0  \n",
       "627  I'm a coffee person ☕️$$$I like coffee but I d...       0  \n",
       "628  I don’t drink coffee or tea 🤭$$$ Savories and ...       0  "
      ]
     },
     "execution_count": 12,
     "metadata": {},
     "output_type": "execute_result"
    }
   ],
   "source": [
    "# Check for duplicated\n",
    "df_legacy[df_legacy.duplicated()]"
   ]
  },
  {
   "cell_type": "code",
   "execution_count": 13,
   "id": "24ba7d4b",
   "metadata": {},
   "outputs": [
    {
     "data": {
      "text/plain": [
       "(996, 6)"
      ]
     },
     "execution_count": 13,
     "metadata": {},
     "output_type": "execute_result"
    }
   ],
   "source": [
    "# Drop duplicates\n",
    "df_legacy.drop_duplicates(inplace=True)\n",
    "df_legacy.shape"
   ]
  },
  {
   "cell_type": "code",
   "execution_count": 14,
   "id": "8708283b",
   "metadata": {},
   "outputs": [],
   "source": [
    "# Removing the outliers i.e. all the records which has 'OrderPrice less than 25 and more than 120'\n",
    "df_legacy = df_legacy[df_legacy['OrderPrice'] < 120]\n",
    "df_legacy = df_legacy[df_legacy['OrderPrice'] > 25]"
   ]
  },
  {
   "cell_type": "code",
   "execution_count": 15,
   "id": "ff610447",
   "metadata": {},
   "outputs": [
    {
     "data": {
      "text/plain": [
       "(969, 6)"
      ]
     },
     "execution_count": 15,
     "metadata": {},
     "output_type": "execute_result"
    }
   ],
   "source": [
    "# New shape of the legacy data\n",
    "df_legacy.shape"
   ]
  },
  {
   "cell_type": "code",
   "execution_count": 16,
   "id": "6e96edb5",
   "metadata": {},
   "outputs": [
    {
     "data": {
      "image/png": "[encoded data removed]",
      "text/plain": [
       "<Figure size 864x504 with 1 Axes>"
      ]
     },
     "metadata": {},
     "output_type": "display_data"
    }
   ],
   "source": [
    "# Plot between the 'OrderPrice' and 'Amount_Charged'\n",
    "plt.figure(figsize=(12,7))\n",
    "plt.plot(df_legacy['Amount_Charged'], c='g', label='Amount Charged')\n",
    "plt.plot(df_legacy['OrderPrice'], c='r', label='Order Price')\n",
    "plt.title('OrderPrice vs Amount_Charged')\n",
    "plt.legend()\n",
    "plt.xlabel('Order Index')\n",
    "plt.ylabel('Price')\n",
    "plt.show()"
   ]
  },
  {
   "cell_type": "code",
   "execution_count": 17,
   "id": "a4928081",
   "metadata": {},
   "outputs": [
    {
     "data": {
      "image/png": "[encoded data removed]",
      "text/plain": [
       "<Figure size 864x504 with 1 Axes>"
      ]
     },
     "metadata": {},
     "output_type": "display_data"
    }
   ],
   "source": [
    "# Plot for the ratings\n",
    "plt.figure(figsize=(12,7))\n",
    "plt.plot(df_legacy['Rating'], label='Rating')\n",
    "plt.title('Rating')\n",
    "plt.legend()\n",
    "plt.xlabel('Order Index')\n",
    "plt.ylabel('Rating')\n",
    "plt.show()"
   ]
  },
  {
   "cell_type": "code",
   "execution_count": 18,
   "id": "4cabf190",
   "metadata": {},
   "outputs": [
    {
     "data": {
      "text/plain": [
       "(967, 6)"
      ]
     },
     "execution_count": 18,
     "metadata": {},
     "output_type": "execute_result"
    }
   ],
   "source": [
    "# Removing legacy data of products which has rating greater than 0 (behaves like outlier)\n",
    "df_legacy = df_legacy[df_legacy['Rating'] == 0]\n",
    "df_legacy.shape"
   ]
  },
  {
   "cell_type": "code",
   "execution_count": 19,
   "id": "eef8aecd",
   "metadata": {},
   "outputs": [],
   "source": [
    "# Reset the index after removing some rows\n",
    "df_legacy.reset_index(inplace=True, drop=True)"
   ]
  },
  {
   "cell_type": "markdown",
   "id": "f99d4aa5",
   "metadata": {},
   "source": [
    "### Taking insights from Sample data"
   ]
  },
  {
   "cell_type": "code",
   "execution_count": 20,
   "id": "f9e96bdf",
   "metadata": {},
   "outputs": [
    {
     "data": {
      "text/html": [
       "<div>\n",
       "<style scoped>\n",
       "    .dataframe tbody tr th:only-of-type {\n",
       "        vertical-align: middle;\n",
       "    }\n",
       "\n",
       "    .dataframe tbody tr th {\n",
       "        vertical-align: top;\n",
       "    }\n",
       "\n",
       "    .dataframe thead th {\n",
       "        text-align: right;\n",
       "    }\n",
       "</style>\n",
       "<table border=\"1\" class=\"dataframe\">\n",
       "  <thead>\n",
       "    <tr style=\"text-align: right;\">\n",
       "      <th></th>\n",
       "      <th>Unnamed: 0</th>\n",
       "      <th>OrderID</th>\n",
       "      <th>GiftBox</th>\n",
       "    </tr>\n",
       "  </thead>\n",
       "  <tbody>\n",
       "    <tr>\n",
       "      <th>0</th>\n",
       "      <td>0</td>\n",
       "      <td>171890429</td>\n",
       "      <td>1985,4312</td>\n",
       "    </tr>\n",
       "    <tr>\n",
       "      <th>1</th>\n",
       "      <td>1</td>\n",
       "      <td>171890412</td>\n",
       "      <td>4443,5234</td>\n",
       "    </tr>\n",
       "    <tr>\n",
       "      <th>2</th>\n",
       "      <td>2</td>\n",
       "      <td>171890410</td>\n",
       "      <td>3823,4729,1002</td>\n",
       "    </tr>\n",
       "    <tr>\n",
       "      <th>3</th>\n",
       "      <td>3</td>\n",
       "      <td>171890399</td>\n",
       "      <td>4991,5236</td>\n",
       "    </tr>\n",
       "    <tr>\n",
       "      <th>4</th>\n",
       "      <td>4</td>\n",
       "      <td>171890387</td>\n",
       "      <td>1859,5061,5249</td>\n",
       "    </tr>\n",
       "  </tbody>\n",
       "</table>\n",
       "</div>"
      ],
      "text/plain": [
       "   Unnamed: 0    OrderID         GiftBox\n",
       "0           0  171890429       1985,4312\n",
       "1           1  171890412       4443,5234\n",
       "2           2  171890410  3823,4729,1002\n",
       "3           3  171890399       4991,5236\n",
       "4           4  171890387  1859,5061,5249"
      ]
     },
     "execution_count": 20,
     "metadata": {},
     "output_type": "execute_result"
    }
   ],
   "source": [
    "df_sample.head()"
   ]
  },
  {
   "cell_type": "code",
   "execution_count": 21,
   "id": "c4cdae24",
   "metadata": {},
   "outputs": [
    {
     "data": {
      "text/html": [
       "<div>\n",
       "<style scoped>\n",
       "    .dataframe tbody tr th:only-of-type {\n",
       "        vertical-align: middle;\n",
       "    }\n",
       "\n",
       "    .dataframe tbody tr th {\n",
       "        vertical-align: top;\n",
       "    }\n",
       "\n",
       "    .dataframe thead th {\n",
       "        text-align: right;\n",
       "    }\n",
       "</style>\n",
       "<table border=\"1\" class=\"dataframe\">\n",
       "  <thead>\n",
       "    <tr style=\"text-align: right;\">\n",
       "      <th></th>\n",
       "      <th>OrderID</th>\n",
       "      <th>GiftBox</th>\n",
       "    </tr>\n",
       "  </thead>\n",
       "  <tbody>\n",
       "    <tr>\n",
       "      <th>0</th>\n",
       "      <td>171890429</td>\n",
       "      <td>1985,4312</td>\n",
       "    </tr>\n",
       "    <tr>\n",
       "      <th>1</th>\n",
       "      <td>171890412</td>\n",
       "      <td>4443,5234</td>\n",
       "    </tr>\n",
       "    <tr>\n",
       "      <th>2</th>\n",
       "      <td>171890410</td>\n",
       "      <td>3823,4729,1002</td>\n",
       "    </tr>\n",
       "    <tr>\n",
       "      <th>3</th>\n",
       "      <td>171890399</td>\n",
       "      <td>4991,5236</td>\n",
       "    </tr>\n",
       "    <tr>\n",
       "      <th>4</th>\n",
       "      <td>171890387</td>\n",
       "      <td>1859,5061,5249</td>\n",
       "    </tr>\n",
       "  </tbody>\n",
       "</table>\n",
       "</div>"
      ],
      "text/plain": [
       "     OrderID         GiftBox\n",
       "0  171890429       1985,4312\n",
       "1  171890412       4443,5234\n",
       "2  171890410  3823,4729,1002\n",
       "3  171890399       4991,5236\n",
       "4  171890387  1859,5061,5249"
      ]
     },
     "execution_count": 21,
     "metadata": {},
     "output_type": "execute_result"
    }
   ],
   "source": [
    "# Dropping the Unnamed columns\n",
    "df_sample.drop(columns=['Unnamed: 0'], inplace=True)\n",
    "df_sample.head()"
   ]
  },
  {
   "cell_type": "code",
   "execution_count": 22,
   "id": "9450d62b",
   "metadata": {},
   "outputs": [
    {
     "data": {
      "text/plain": [
       "(1000, 2)"
      ]
     },
     "execution_count": 22,
     "metadata": {},
     "output_type": "execute_result"
    }
   ],
   "source": [
    "# Shape of the sample data\n",
    "df_sample.shape"
   ]
  },
  {
   "cell_type": "code",
   "execution_count": 23,
   "id": "f39d7532",
   "metadata": {},
   "outputs": [
    {
     "data": {
      "text/plain": [
       "OrderID    0\n",
       "GiftBox    0\n",
       "dtype: int64"
      ]
     },
     "execution_count": 23,
     "metadata": {},
     "output_type": "execute_result"
    }
   ],
   "source": [
    "# Check for the null value row\n",
    "df_sample.isnull().sum()"
   ]
  },
  {
   "cell_type": "code",
   "execution_count": 24,
   "id": "1056677f",
   "metadata": {},
   "outputs": [
    {
     "data": {
      "text/html": [
       "<div>\n",
       "<style scoped>\n",
       "    .dataframe tbody tr th:only-of-type {\n",
       "        vertical-align: middle;\n",
       "    }\n",
       "\n",
       "    .dataframe tbody tr th {\n",
       "        vertical-align: top;\n",
       "    }\n",
       "\n",
       "    .dataframe thead th {\n",
       "        text-align: right;\n",
       "    }\n",
       "</style>\n",
       "<table border=\"1\" class=\"dataframe\">\n",
       "  <thead>\n",
       "    <tr style=\"text-align: right;\">\n",
       "      <th></th>\n",
       "      <th>OrderID</th>\n",
       "      <th>GiftBox</th>\n",
       "    </tr>\n",
       "  </thead>\n",
       "  <tbody>\n",
       "    <tr>\n",
       "      <th>626</th>\n",
       "      <td>171889514</td>\n",
       "      <td>4729,4831,4271,4700</td>\n",
       "    </tr>\n",
       "    <tr>\n",
       "      <th>627</th>\n",
       "      <td>171889449</td>\n",
       "      <td>4865,5043,2241</td>\n",
       "    </tr>\n",
       "    <tr>\n",
       "      <th>628</th>\n",
       "      <td>171889327</td>\n",
       "      <td>4607,4879</td>\n",
       "    </tr>\n",
       "  </tbody>\n",
       "</table>\n",
       "</div>"
      ],
      "text/plain": [
       "       OrderID              GiftBox\n",
       "626  171889514  4729,4831,4271,4700\n",
       "627  171889449       4865,5043,2241\n",
       "628  171889327            4607,4879"
      ]
     },
     "execution_count": 24,
     "metadata": {},
     "output_type": "execute_result"
    }
   ],
   "source": [
    "# Check for duplicated\n",
    "df_sample[df_sample.duplicated()]"
   ]
  },
  {
   "cell_type": "code",
   "execution_count": 25,
   "id": "18d69c77",
   "metadata": {},
   "outputs": [
    {
     "data": {
      "text/plain": [
       "(997, 2)"
      ]
     },
     "execution_count": 25,
     "metadata": {},
     "output_type": "execute_result"
    }
   ],
   "source": [
    "# Drop duplicates\n",
    "df_sample.drop_duplicates(inplace=True)\n",
    "df_sample.shape"
   ]
  },
  {
   "cell_type": "code",
   "execution_count": 26,
   "id": "b4cff4a0",
   "metadata": {},
   "outputs": [],
   "source": [
    "# Reset the index after removing some rows\n",
    "df_sample.reset_index(inplace=True, drop=True)"
   ]
  },
  {
   "cell_type": "markdown",
   "id": "5aca145f",
   "metadata": {},
   "source": [
    "### Taking insights from Inventory data"
   ]
  },
  {
   "cell_type": "code",
   "execution_count": 27,
   "id": "c44af7c3",
   "metadata": {},
   "outputs": [
    {
     "data": {
      "text/html": [
       "<div>\n",
       "<style scoped>\n",
       "    .dataframe tbody tr th:only-of-type {\n",
       "        vertical-align: middle;\n",
       "    }\n",
       "\n",
       "    .dataframe tbody tr th {\n",
       "        vertical-align: top;\n",
       "    }\n",
       "\n",
       "    .dataframe thead th {\n",
       "        text-align: right;\n",
       "    }\n",
       "</style>\n",
       "<table border=\"1\" class=\"dataframe\">\n",
       "  <thead>\n",
       "    <tr style=\"text-align: right;\">\n",
       "      <th></th>\n",
       "      <th>Unnamed: 0</th>\n",
       "      <th>ProductId</th>\n",
       "      <th>ProductName</th>\n",
       "      <th>Cost</th>\n",
       "      <th>Price</th>\n",
       "      <th>Rating</th>\n",
       "      <th>ProductTag</th>\n",
       "      <th>AvalQuantity</th>\n",
       "      <th>BoxDimensions</th>\n",
       "    </tr>\n",
       "  </thead>\n",
       "  <tbody>\n",
       "    <tr>\n",
       "      <th>0</th>\n",
       "      <td>0</td>\n",
       "      <td>245</td>\n",
       "      <td>Guatemalan Signature Roast Ground Coffee</td>\n",
       "      <td>13.78</td>\n",
       "      <td>25.99</td>\n",
       "      <td>4.4427</td>\n",
       "      <td>coffee, ground</td>\n",
       "      <td>93</td>\n",
       "      <td>8x4x3</td>\n",
       "    </tr>\n",
       "    <tr>\n",
       "      <th>1</th>\n",
       "      <td>1</td>\n",
       "      <td>278</td>\n",
       "      <td>Los Gigantes Colombia (Coffee Beans)</td>\n",
       "      <td>10.75</td>\n",
       "      <td>20.00</td>\n",
       "      <td>4.3185</td>\n",
       "      <td>coffee, artisanal</td>\n",
       "      <td>5</td>\n",
       "      <td>6x3x2</td>\n",
       "    </tr>\n",
       "    <tr>\n",
       "      <th>2</th>\n",
       "      <td>2</td>\n",
       "      <td>351</td>\n",
       "      <td>Rowkin Bit Charge Stereo (Silver)</td>\n",
       "      <td>64.00</td>\n",
       "      <td>102.99</td>\n",
       "      <td>4.0000</td>\n",
       "      <td>music</td>\n",
       "      <td>6</td>\n",
       "      <td>NaN</td>\n",
       "    </tr>\n",
       "    <tr>\n",
       "      <th>3</th>\n",
       "      <td>3</td>\n",
       "      <td>424</td>\n",
       "      <td>Chocolate Fruit and Nut Dragee Sampler</td>\n",
       "      <td>21.00</td>\n",
       "      <td>35.00</td>\n",
       "      <td>4.4643</td>\n",
       "      <td>sweet</td>\n",
       "      <td>12</td>\n",
       "      <td>NaN</td>\n",
       "    </tr>\n",
       "    <tr>\n",
       "      <th>4</th>\n",
       "      <td>4</td>\n",
       "      <td>700</td>\n",
       "      <td>Pro Lens Kit for Phone Camera</td>\n",
       "      <td>24.50</td>\n",
       "      <td>42.99</td>\n",
       "      <td>4.3588</td>\n",
       "      <td>photography</td>\n",
       "      <td>1</td>\n",
       "      <td>8x4x3</td>\n",
       "    </tr>\n",
       "  </tbody>\n",
       "</table>\n",
       "</div>"
      ],
      "text/plain": [
       "   Unnamed: 0  ProductId                               ProductName   Cost  \\\n",
       "0           0        245  Guatemalan Signature Roast Ground Coffee  13.78   \n",
       "1           1        278      Los Gigantes Colombia (Coffee Beans)  10.75   \n",
       "2           2        351         Rowkin Bit Charge Stereo (Silver)  64.00   \n",
       "3           3        424    Chocolate Fruit and Nut Dragee Sampler  21.00   \n",
       "4           4        700             Pro Lens Kit for Phone Camera  24.50   \n",
       "\n",
       "    Price  Rating         ProductTag  AvalQuantity BoxDimensions  \n",
       "0   25.99  4.4427     coffee, ground            93         8x4x3  \n",
       "1   20.00  4.3185  coffee, artisanal             5         6x3x2  \n",
       "2  102.99  4.0000              music             6           NaN  \n",
       "3   35.00  4.4643              sweet            12           NaN  \n",
       "4   42.99  4.3588        photography             1         8x4x3  "
      ]
     },
     "execution_count": 27,
     "metadata": {},
     "output_type": "execute_result"
    }
   ],
   "source": [
    "df_inventory.head()"
   ]
  },
  {
   "cell_type": "code",
   "execution_count": 28,
   "id": "7b396e70",
   "metadata": {},
   "outputs": [
    {
     "data": {
      "text/html": [
       "<div>\n",
       "<style scoped>\n",
       "    .dataframe tbody tr th:only-of-type {\n",
       "        vertical-align: middle;\n",
       "    }\n",
       "\n",
       "    .dataframe tbody tr th {\n",
       "        vertical-align: top;\n",
       "    }\n",
       "\n",
       "    .dataframe thead th {\n",
       "        text-align: right;\n",
       "    }\n",
       "</style>\n",
       "<table border=\"1\" class=\"dataframe\">\n",
       "  <thead>\n",
       "    <tr style=\"text-align: right;\">\n",
       "      <th></th>\n",
       "      <th>ProductId</th>\n",
       "      <th>ProductName</th>\n",
       "      <th>Cost</th>\n",
       "      <th>Price</th>\n",
       "      <th>Rating</th>\n",
       "      <th>ProductTag</th>\n",
       "      <th>AvalQuantity</th>\n",
       "      <th>BoxDimensions</th>\n",
       "    </tr>\n",
       "  </thead>\n",
       "  <tbody>\n",
       "    <tr>\n",
       "      <th>0</th>\n",
       "      <td>245</td>\n",
       "      <td>Guatemalan Signature Roast Ground Coffee</td>\n",
       "      <td>13.78</td>\n",
       "      <td>25.99</td>\n",
       "      <td>4.4427</td>\n",
       "      <td>coffee, ground</td>\n",
       "      <td>93</td>\n",
       "      <td>8x4x3</td>\n",
       "    </tr>\n",
       "    <tr>\n",
       "      <th>1</th>\n",
       "      <td>278</td>\n",
       "      <td>Los Gigantes Colombia (Coffee Beans)</td>\n",
       "      <td>10.75</td>\n",
       "      <td>20.00</td>\n",
       "      <td>4.3185</td>\n",
       "      <td>coffee, artisanal</td>\n",
       "      <td>5</td>\n",
       "      <td>6x3x2</td>\n",
       "    </tr>\n",
       "    <tr>\n",
       "      <th>2</th>\n",
       "      <td>351</td>\n",
       "      <td>Rowkin Bit Charge Stereo (Silver)</td>\n",
       "      <td>64.00</td>\n",
       "      <td>102.99</td>\n",
       "      <td>4.0000</td>\n",
       "      <td>music</td>\n",
       "      <td>6</td>\n",
       "      <td>NaN</td>\n",
       "    </tr>\n",
       "    <tr>\n",
       "      <th>3</th>\n",
       "      <td>424</td>\n",
       "      <td>Chocolate Fruit and Nut Dragee Sampler</td>\n",
       "      <td>21.00</td>\n",
       "      <td>35.00</td>\n",
       "      <td>4.4643</td>\n",
       "      <td>sweet</td>\n",
       "      <td>12</td>\n",
       "      <td>NaN</td>\n",
       "    </tr>\n",
       "    <tr>\n",
       "      <th>4</th>\n",
       "      <td>700</td>\n",
       "      <td>Pro Lens Kit for Phone Camera</td>\n",
       "      <td>24.50</td>\n",
       "      <td>42.99</td>\n",
       "      <td>4.3588</td>\n",
       "      <td>photography</td>\n",
       "      <td>1</td>\n",
       "      <td>8x4x3</td>\n",
       "    </tr>\n",
       "  </tbody>\n",
       "</table>\n",
       "</div>"
      ],
      "text/plain": [
       "   ProductId                               ProductName   Cost   Price  Rating  \\\n",
       "0        245  Guatemalan Signature Roast Ground Coffee  13.78   25.99  4.4427   \n",
       "1        278      Los Gigantes Colombia (Coffee Beans)  10.75   20.00  4.3185   \n",
       "2        351         Rowkin Bit Charge Stereo (Silver)  64.00  102.99  4.0000   \n",
       "3        424    Chocolate Fruit and Nut Dragee Sampler  21.00   35.00  4.4643   \n",
       "4        700             Pro Lens Kit for Phone Camera  24.50   42.99  4.3588   \n",
       "\n",
       "          ProductTag  AvalQuantity BoxDimensions  \n",
       "0     coffee, ground            93         8x4x3  \n",
       "1  coffee, artisanal             5         6x3x2  \n",
       "2              music             6           NaN  \n",
       "3              sweet            12           NaN  \n",
       "4        photography             1         8x4x3  "
      ]
     },
     "execution_count": 28,
     "metadata": {},
     "output_type": "execute_result"
    }
   ],
   "source": [
    "# Dropping the Unnamed columns\n",
    "df_inventory.drop(columns=['Unnamed: 0'], inplace=True)\n",
    "df_inventory.head()"
   ]
  },
  {
   "cell_type": "code",
   "execution_count": 29,
   "id": "1eb6153f",
   "metadata": {},
   "outputs": [
    {
     "data": {
      "text/plain": [
       "(342, 8)"
      ]
     },
     "execution_count": 29,
     "metadata": {},
     "output_type": "execute_result"
    }
   ],
   "source": [
    "# Shape of the inventory data\n",
    "df_inventory.shape"
   ]
  },
  {
   "cell_type": "code",
   "execution_count": 30,
   "id": "8daafa33",
   "metadata": {},
   "outputs": [
    {
     "data": {
      "text/plain": [
       "ProductId          0\n",
       "ProductName        0\n",
       "Cost               0\n",
       "Price              0\n",
       "Rating             0\n",
       "ProductTag         0\n",
       "AvalQuantity       0\n",
       "BoxDimensions    125\n",
       "dtype: int64"
      ]
     },
     "execution_count": 30,
     "metadata": {},
     "output_type": "execute_result"
    }
   ],
   "source": [
    "# Check for the null value rows\n",
    "df_inventory.isnull().sum()"
   ]
  },
  {
   "cell_type": "code",
   "execution_count": 31,
   "id": "88564051",
   "metadata": {},
   "outputs": [
    {
     "data": {
      "text/html": [
       "<div>\n",
       "<style scoped>\n",
       "    .dataframe tbody tr th:only-of-type {\n",
       "        vertical-align: middle;\n",
       "    }\n",
       "\n",
       "    .dataframe tbody tr th {\n",
       "        vertical-align: top;\n",
       "    }\n",
       "\n",
       "    .dataframe thead th {\n",
       "        text-align: right;\n",
       "    }\n",
       "</style>\n",
       "<table border=\"1\" class=\"dataframe\">\n",
       "  <thead>\n",
       "    <tr style=\"text-align: right;\">\n",
       "      <th></th>\n",
       "      <th>ProductId</th>\n",
       "      <th>ProductName</th>\n",
       "      <th>Cost</th>\n",
       "      <th>Price</th>\n",
       "      <th>Rating</th>\n",
       "      <th>ProductTag</th>\n",
       "      <th>AvalQuantity</th>\n",
       "      <th>BoxDimensions</th>\n",
       "    </tr>\n",
       "  </thead>\n",
       "  <tbody>\n",
       "  </tbody>\n",
       "</table>\n",
       "</div>"
      ],
      "text/plain": [
       "Empty DataFrame\n",
       "Columns: [ProductId, ProductName, Cost, Price, Rating, ProductTag, AvalQuantity, BoxDimensions]\n",
       "Index: []"
      ]
     },
     "execution_count": 31,
     "metadata": {},
     "output_type": "execute_result"
    }
   ],
   "source": [
    "# Check for duplicated\n",
    "df_inventory[df_inventory.duplicated()]"
   ]
  },
  {
   "cell_type": "code",
   "execution_count": 32,
   "id": "2ab66fa8",
   "metadata": {},
   "outputs": [
    {
     "data": {
      "image/png": "[encoded data removed]",
      "text/plain": [
       "<Figure size 864x504 with 1 Axes>"
      ]
     },
     "metadata": {},
     "output_type": "display_data"
    }
   ],
   "source": [
    "# Plot for number of products which has rating between 0 to 1, 1 to 2 and so on\n",
    "plt.figure(figsize=(12,7))\n",
    "plt.hist(df_inventory['Rating'], range(6))\n",
    "plt.title('Product count of Rating i to i+1')\n",
    "plt.xlabel('Rating')\n",
    "plt.ylabel('Product count')\n",
    "plt.show()"
   ]
  },
  {
   "cell_type": "code",
   "execution_count": 33,
   "id": "ec90a99e",
   "metadata": {},
   "outputs": [],
   "source": [
    "# Reset the index after removing some rows\n",
    "df_inventory.reset_index(inplace=True, drop=True)"
   ]
  },
  {
   "cell_type": "markdown",
   "id": "98e4bcff",
   "metadata": {},
   "source": [
    "### Remove data from Legacy on the basis of gift product id which is not available in Inventory"
   ]
  },
  {
   "cell_type": "code",
   "execution_count": 34,
   "id": "4a177817",
   "metadata": {},
   "outputs": [
    {
     "data": {
      "text/plain": [
       "(array([ 245,  278,  351,  424,  700,  744, 1002, 1014, 1090, 1091, 1101,\n",
       "        1102, 1107, 1179, 1183, 1189, 1195, 1200, 1201, 1205, 1220, 1260,\n",
       "        1308, 1319, 1323, 1636, 1768, 1769, 1786, 1800, 1804, 1826, 1840,\n",
       "        1848, 1858, 1859, 1863, 1902, 1903, 1904, 1909, 1910, 1985, 1988,\n",
       "        1995, 1996, 1997, 1998, 2000, 2001, 2038, 2076, 2080, 2088, 2132,\n",
       "        2169, 2192, 2233, 2240, 2241, 2251, 2253, 2268, 2296, 2307, 2311,\n",
       "        2313, 2318, 2345, 2352, 2378, 2390, 2426, 2457, 2506, 2507, 2536,\n",
       "        2594, 2817, 2825, 2838, 2839, 2840, 2841, 2887, 2934, 2935, 2936,\n",
       "        2992, 2994, 2996, 2999, 3002, 3008, 3041, 3045, 3073, 3077, 3080,\n",
       "        3081, 3084, 3085, 3163, 3168, 3184, 3186, 3187, 3190, 3200, 3204,\n",
       "        3207, 3208, 3209, 3211, 3212, 3213, 3223, 3240, 3255, 3278, 3301,\n",
       "        3328, 3395, 3396, 3490, 3491, 3493, 3519, 3520, 3546, 3571, 3587,\n",
       "        3591, 3592, 3595, 3596, 3597, 3598, 3599, 3600, 3610, 3625, 3628,\n",
       "        3629, 3630, 3631, 3635, 3641, 3660, 3661, 3662, 3663, 3675, 3677,\n",
       "        3684, 3691, 3694, 3696, 3698, 3700, 3704, 3716, 3717, 3724, 3736,\n",
       "        3770, 3773, 3774, 3775, 3798, 3799, 3800, 3807, 3808, 3809, 3810,\n",
       "        3812, 3823, 3848, 3899, 3911, 3927, 3931, 3932, 3933, 3943, 4037,\n",
       "        4038, 4040, 4098, 4099, 4108, 4111, 4132, 4142, 4195, 4204, 4205,\n",
       "        4227, 4228, 4229, 4233, 4235, 4242, 4245, 4254, 4255, 4271, 4273,\n",
       "        4274, 4275, 4277, 4279, 4282, 4311, 4312, 4314, 4316, 4319, 4320,\n",
       "        4333, 4441, 4443, 4444, 4445, 4486, 4488, 4498, 4499, 4500, 4519,\n",
       "        4520, 4528, 4529, 4536, 4560, 4561, 4562, 4607, 4608, 4609, 4610,\n",
       "        4619, 4620, 4621, 4622, 4626, 4627, 4628, 4629, 4638, 4641, 4642,\n",
       "        4643, 4647, 4678, 4693, 4700, 4711, 4717, 4722, 4724, 4725, 4726,\n",
       "        4727, 4728, 4729, 4730, 4759, 4763, 4766, 4782, 4783, 4784, 4825,\n",
       "        4829, 4830, 4831, 4862, 4865, 4868, 4873, 4875, 4876, 4877, 4878,\n",
       "        4879, 4884, 4885, 4886, 4888, 4889, 4897, 4898, 4899, 4900, 4901,\n",
       "        4902, 4904, 4905, 4909, 4910, 4912, 4913, 4914, 4915, 4916, 4917,\n",
       "        4918, 4920, 4921, 4929, 4948, 4949, 4959, 4960, 4961, 4962, 4978,\n",
       "        4988, 4991, 4992, 4994, 5007, 5032, 5043, 5059, 5060, 5061, 5067,\n",
       "        5068, 5069, 5088, 5089, 5186, 5187, 5202, 5234, 5235, 5236, 5249,\n",
       "        5250]),\n",
       " 342)"
      ]
     },
     "execution_count": 34,
     "metadata": {},
     "output_type": "execute_result"
    }
   ],
   "source": [
    "# Taking all the product id's available in Inventory\n",
    "product_ids = df_inventory['ProductId'].values\n",
    "product_ids, len(product_ids)"
   ]
  },
  {
   "cell_type": "code",
   "execution_count": 35,
   "id": "33c29536",
   "metadata": {},
   "outputs": [],
   "source": [
    "# Helper function to know whether product id exist in inventory or not\n",
    "def available_inventory(gift_box):\n",
    "    ids = list(map(int, gift_box.split(',')))\n",
    "    for id in ids:\n",
    "        if id not in product_ids:\n",
    "            return False\n",
    "    return True"
   ]
  },
  {
   "cell_type": "code",
   "execution_count": 36,
   "id": "52b094b2",
   "metadata": {},
   "outputs": [
    {
     "data": {
      "text/html": [
       "<div>\n",
       "<style scoped>\n",
       "    .dataframe tbody tr th:only-of-type {\n",
       "        vertical-align: middle;\n",
       "    }\n",
       "\n",
       "    .dataframe tbody tr th {\n",
       "        vertical-align: top;\n",
       "    }\n",
       "\n",
       "    .dataframe thead th {\n",
       "        text-align: right;\n",
       "    }\n",
       "</style>\n",
       "<table border=\"1\" class=\"dataframe\">\n",
       "  <thead>\n",
       "    <tr style=\"text-align: right;\">\n",
       "      <th></th>\n",
       "      <th>OrderID</th>\n",
       "      <th>OrderPrice</th>\n",
       "      <th>Amount_Charged</th>\n",
       "      <th>GiftBox</th>\n",
       "      <th>Preferences</th>\n",
       "      <th>Rating</th>\n",
       "      <th>Available_Inventory</th>\n",
       "    </tr>\n",
       "  </thead>\n",
       "  <tbody>\n",
       "    <tr>\n",
       "      <th>0</th>\n",
       "      <td>171890429</td>\n",
       "      <td>30</td>\n",
       "      <td>34.0</td>\n",
       "      <td>1985,4312</td>\n",
       "      <td>I’m more of a tea person 🍵$$$I prefer herbal/d...</td>\n",
       "      <td>0</td>\n",
       "      <td>True</td>\n",
       "    </tr>\n",
       "    <tr>\n",
       "      <th>1</th>\n",
       "      <td>171890412</td>\n",
       "      <td>30</td>\n",
       "      <td>36.0</td>\n",
       "      <td>4443,5234</td>\n",
       "      <td>I don’t drink coffee or tea 🤭$$$ Chocolates, C...</td>\n",
       "      <td>0</td>\n",
       "      <td>True</td>\n",
       "    </tr>\n",
       "    <tr>\n",
       "      <th>2</th>\n",
       "      <td>171890410</td>\n",
       "      <td>50</td>\n",
       "      <td>115.0</td>\n",
       "      <td>3823,4729,1002</td>\n",
       "      <td>I'm a coffee person ☕️$$$I like coffee but I d...</td>\n",
       "      <td>0</td>\n",
       "      <td>True</td>\n",
       "    </tr>\n",
       "    <tr>\n",
       "      <th>3</th>\n",
       "      <td>171890399</td>\n",
       "      <td>50</td>\n",
       "      <td>62.0</td>\n",
       "      <td>4991,5236</td>\n",
       "      <td>I'm a coffee person ☕️$$$I like coffee but I d...</td>\n",
       "      <td>0</td>\n",
       "      <td>True</td>\n",
       "    </tr>\n",
       "    <tr>\n",
       "      <th>4</th>\n",
       "      <td>171890387</td>\n",
       "      <td>50</td>\n",
       "      <td>54.0</td>\n",
       "      <td>1859,5061,5249</td>\n",
       "      <td>I’m more of a tea person 🍵$$$Any specialty tea...</td>\n",
       "      <td>0</td>\n",
       "      <td>True</td>\n",
       "    </tr>\n",
       "  </tbody>\n",
       "</table>\n",
       "</div>"
      ],
      "text/plain": [
       "     OrderID  OrderPrice  Amount_Charged         GiftBox  \\\n",
       "0  171890429          30            34.0       1985,4312   \n",
       "1  171890412          30            36.0       4443,5234   \n",
       "2  171890410          50           115.0  3823,4729,1002   \n",
       "3  171890399          50            62.0       4991,5236   \n",
       "4  171890387          50            54.0  1859,5061,5249   \n",
       "\n",
       "                                         Preferences  Rating  \\\n",
       "0  I’m more of a tea person 🍵$$$I prefer herbal/d...       0   \n",
       "1  I don’t drink coffee or tea 🤭$$$ Chocolates, C...       0   \n",
       "2  I'm a coffee person ☕️$$$I like coffee but I d...       0   \n",
       "3  I'm a coffee person ☕️$$$I like coffee but I d...       0   \n",
       "4  I’m more of a tea person 🍵$$$Any specialty tea...       0   \n",
       "\n",
       "   Available_Inventory  \n",
       "0                 True  \n",
       "1                 True  \n",
       "2                 True  \n",
       "3                 True  \n",
       "4                 True  "
      ]
     },
     "execution_count": 36,
     "metadata": {},
     "output_type": "execute_result"
    }
   ],
   "source": [
    "# Taking intersection from the product id available in GiftBox and store it availability status as a new column\n",
    "df_legacy['Available_Inventory'] = df_legacy['GiftBox'].apply(available_inventory)\n",
    "df_legacy.head()"
   ]
  },
  {
   "cell_type": "code",
   "execution_count": 37,
   "id": "b757a9de",
   "metadata": {},
   "outputs": [
    {
     "data": {
      "text/plain": [
       "(967, 7)"
      ]
     },
     "execution_count": 37,
     "metadata": {},
     "output_type": "execute_result"
    }
   ],
   "source": [
    "df_legacy.shape"
   ]
  },
  {
   "cell_type": "code",
   "execution_count": 38,
   "id": "9b01dd6a",
   "metadata": {},
   "outputs": [
    {
     "data": {
      "text/plain": [
       "(966, 7)"
      ]
     },
     "execution_count": 38,
     "metadata": {},
     "output_type": "execute_result"
    }
   ],
   "source": [
    "# All Product id in Legacy data are available in inventory\n",
    "df_legacy = df_legacy[df_legacy['Available_Inventory'] == True]\n",
    "df_legacy.shape"
   ]
  },
  {
   "cell_type": "code",
   "execution_count": 39,
   "id": "932d60d6",
   "metadata": {},
   "outputs": [],
   "source": [
    "# Reset the index after removing some rows\n",
    "df_legacy.reset_index(inplace=True, drop=True)"
   ]
  },
  {
   "cell_type": "markdown",
   "id": "e2cf5d38",
   "metadata": {},
   "source": [
    "# Create a dataset for the content based filtering"
   ]
  },
  {
   "cell_type": "code",
   "execution_count": 40,
   "id": "5ba59fe3",
   "metadata": {},
   "outputs": [
    {
     "data": {
      "text/html": [
       "<div>\n",
       "<style scoped>\n",
       "    .dataframe tbody tr th:only-of-type {\n",
       "        vertical-align: middle;\n",
       "    }\n",
       "\n",
       "    .dataframe tbody tr th {\n",
       "        vertical-align: top;\n",
       "    }\n",
       "\n",
       "    .dataframe thead th {\n",
       "        text-align: right;\n",
       "    }\n",
       "</style>\n",
       "<table border=\"1\" class=\"dataframe\">\n",
       "  <thead>\n",
       "    <tr style=\"text-align: right;\">\n",
       "      <th></th>\n",
       "      <th>ProductId</th>\n",
       "      <th>ProductName</th>\n",
       "      <th>Cost</th>\n",
       "      <th>Price</th>\n",
       "      <th>Rating</th>\n",
       "      <th>ProductTag</th>\n",
       "      <th>AvalQuantity</th>\n",
       "      <th>BoxDimensions</th>\n",
       "    </tr>\n",
       "  </thead>\n",
       "  <tbody>\n",
       "    <tr>\n",
       "      <th>0</th>\n",
       "      <td>245</td>\n",
       "      <td>Guatemalan Signature Roast Ground Coffee</td>\n",
       "      <td>13.78</td>\n",
       "      <td>25.99</td>\n",
       "      <td>4.4427</td>\n",
       "      <td>coffee, ground</td>\n",
       "      <td>93</td>\n",
       "      <td>8x4x3</td>\n",
       "    </tr>\n",
       "    <tr>\n",
       "      <th>1</th>\n",
       "      <td>278</td>\n",
       "      <td>Los Gigantes Colombia (Coffee Beans)</td>\n",
       "      <td>10.75</td>\n",
       "      <td>20.00</td>\n",
       "      <td>4.3185</td>\n",
       "      <td>coffee, artisanal</td>\n",
       "      <td>5</td>\n",
       "      <td>6x3x2</td>\n",
       "    </tr>\n",
       "    <tr>\n",
       "      <th>2</th>\n",
       "      <td>351</td>\n",
       "      <td>Rowkin Bit Charge Stereo (Silver)</td>\n",
       "      <td>64.00</td>\n",
       "      <td>102.99</td>\n",
       "      <td>4.0000</td>\n",
       "      <td>music</td>\n",
       "      <td>6</td>\n",
       "      <td>NaN</td>\n",
       "    </tr>\n",
       "    <tr>\n",
       "      <th>3</th>\n",
       "      <td>424</td>\n",
       "      <td>Chocolate Fruit and Nut Dragee Sampler</td>\n",
       "      <td>21.00</td>\n",
       "      <td>35.00</td>\n",
       "      <td>4.4643</td>\n",
       "      <td>sweet</td>\n",
       "      <td>12</td>\n",
       "      <td>NaN</td>\n",
       "    </tr>\n",
       "    <tr>\n",
       "      <th>4</th>\n",
       "      <td>700</td>\n",
       "      <td>Pro Lens Kit for Phone Camera</td>\n",
       "      <td>24.50</td>\n",
       "      <td>42.99</td>\n",
       "      <td>4.3588</td>\n",
       "      <td>photography</td>\n",
       "      <td>1</td>\n",
       "      <td>8x4x3</td>\n",
       "    </tr>\n",
       "  </tbody>\n",
       "</table>\n",
       "</div>"
      ],
      "text/plain": [
       "   ProductId                               ProductName   Cost   Price  Rating  \\\n",
       "0        245  Guatemalan Signature Roast Ground Coffee  13.78   25.99  4.4427   \n",
       "1        278      Los Gigantes Colombia (Coffee Beans)  10.75   20.00  4.3185   \n",
       "2        351         Rowkin Bit Charge Stereo (Silver)  64.00  102.99  4.0000   \n",
       "3        424    Chocolate Fruit and Nut Dragee Sampler  21.00   35.00  4.4643   \n",
       "4        700             Pro Lens Kit for Phone Camera  24.50   42.99  4.3588   \n",
       "\n",
       "          ProductTag  AvalQuantity BoxDimensions  \n",
       "0     coffee, ground            93         8x4x3  \n",
       "1  coffee, artisanal             5         6x3x2  \n",
       "2              music             6           NaN  \n",
       "3              sweet            12           NaN  \n",
       "4        photography             1         8x4x3  "
      ]
     },
     "execution_count": 40,
     "metadata": {},
     "output_type": "execute_result"
    }
   ],
   "source": [
    "df_inventory.head()"
   ]
  },
  {
   "cell_type": "code",
   "execution_count": 41,
   "id": "f89afcf5",
   "metadata": {},
   "outputs": [],
   "source": [
    "# Adding a new column tag\n",
    "df_inventory['Tag'] = df_inventory['ProductName'] + ' ' + df_inventory['ProductTag']"
   ]
  },
  {
   "cell_type": "code",
   "execution_count": 42,
   "id": "01ef7c23",
   "metadata": {},
   "outputs": [
    {
     "data": {
      "text/html": [
       "<div>\n",
       "<style scoped>\n",
       "    .dataframe tbody tr th:only-of-type {\n",
       "        vertical-align: middle;\n",
       "    }\n",
       "\n",
       "    .dataframe tbody tr th {\n",
       "        vertical-align: top;\n",
       "    }\n",
       "\n",
       "    .dataframe thead th {\n",
       "        text-align: right;\n",
       "    }\n",
       "</style>\n",
       "<table border=\"1\" class=\"dataframe\">\n",
       "  <thead>\n",
       "    <tr style=\"text-align: right;\">\n",
       "      <th></th>\n",
       "      <th>ProductId</th>\n",
       "      <th>ProductName</th>\n",
       "      <th>Cost</th>\n",
       "      <th>Price</th>\n",
       "      <th>Rating</th>\n",
       "      <th>ProductTag</th>\n",
       "      <th>AvalQuantity</th>\n",
       "      <th>BoxDimensions</th>\n",
       "      <th>Tag</th>\n",
       "    </tr>\n",
       "  </thead>\n",
       "  <tbody>\n",
       "    <tr>\n",
       "      <th>0</th>\n",
       "      <td>245</td>\n",
       "      <td>Guatemalan Signature Roast Ground Coffee</td>\n",
       "      <td>13.78</td>\n",
       "      <td>25.99</td>\n",
       "      <td>4.4427</td>\n",
       "      <td>coffee, ground</td>\n",
       "      <td>93</td>\n",
       "      <td>8x4x3</td>\n",
       "      <td>Guatemalan Signature Roast Ground Coffee coffe...</td>\n",
       "    </tr>\n",
       "    <tr>\n",
       "      <th>1</th>\n",
       "      <td>278</td>\n",
       "      <td>Los Gigantes Colombia (Coffee Beans)</td>\n",
       "      <td>10.75</td>\n",
       "      <td>20.00</td>\n",
       "      <td>4.3185</td>\n",
       "      <td>coffee, artisanal</td>\n",
       "      <td>5</td>\n",
       "      <td>6x3x2</td>\n",
       "      <td>Los Gigantes Colombia (Coffee Beans) coffee, a...</td>\n",
       "    </tr>\n",
       "    <tr>\n",
       "      <th>2</th>\n",
       "      <td>351</td>\n",
       "      <td>Rowkin Bit Charge Stereo (Silver)</td>\n",
       "      <td>64.00</td>\n",
       "      <td>102.99</td>\n",
       "      <td>4.0000</td>\n",
       "      <td>music</td>\n",
       "      <td>6</td>\n",
       "      <td>NaN</td>\n",
       "      <td>Rowkin Bit Charge Stereo (Silver) music</td>\n",
       "    </tr>\n",
       "    <tr>\n",
       "      <th>3</th>\n",
       "      <td>424</td>\n",
       "      <td>Chocolate Fruit and Nut Dragee Sampler</td>\n",
       "      <td>21.00</td>\n",
       "      <td>35.00</td>\n",
       "      <td>4.4643</td>\n",
       "      <td>sweet</td>\n",
       "      <td>12</td>\n",
       "      <td>NaN</td>\n",
       "      <td>Chocolate Fruit and Nut Dragee Sampler sweet</td>\n",
       "    </tr>\n",
       "    <tr>\n",
       "      <th>4</th>\n",
       "      <td>700</td>\n",
       "      <td>Pro Lens Kit for Phone Camera</td>\n",
       "      <td>24.50</td>\n",
       "      <td>42.99</td>\n",
       "      <td>4.3588</td>\n",
       "      <td>photography</td>\n",
       "      <td>1</td>\n",
       "      <td>8x4x3</td>\n",
       "      <td>Pro Lens Kit for Phone Camera photography</td>\n",
       "    </tr>\n",
       "  </tbody>\n",
       "</table>\n",
       "</div>"
      ],
      "text/plain": [
       "   ProductId                               ProductName   Cost   Price  Rating  \\\n",
       "0        245  Guatemalan Signature Roast Ground Coffee  13.78   25.99  4.4427   \n",
       "1        278      Los Gigantes Colombia (Coffee Beans)  10.75   20.00  4.3185   \n",
       "2        351         Rowkin Bit Charge Stereo (Silver)  64.00  102.99  4.0000   \n",
       "3        424    Chocolate Fruit and Nut Dragee Sampler  21.00   35.00  4.4643   \n",
       "4        700             Pro Lens Kit for Phone Camera  24.50   42.99  4.3588   \n",
       "\n",
       "          ProductTag  AvalQuantity BoxDimensions  \\\n",
       "0     coffee, ground            93         8x4x3   \n",
       "1  coffee, artisanal             5         6x3x2   \n",
       "2              music             6           NaN   \n",
       "3              sweet            12           NaN   \n",
       "4        photography             1         8x4x3   \n",
       "\n",
       "                                                 Tag  \n",
       "0  Guatemalan Signature Roast Ground Coffee coffe...  \n",
       "1  Los Gigantes Colombia (Coffee Beans) coffee, a...  \n",
       "2            Rowkin Bit Charge Stereo (Silver) music  \n",
       "3       Chocolate Fruit and Nut Dragee Sampler sweet  \n",
       "4          Pro Lens Kit for Phone Camera photography  "
      ]
     },
     "execution_count": 42,
     "metadata": {},
     "output_type": "execute_result"
    }
   ],
   "source": [
    "df_inventory.head()"
   ]
  },
  {
   "cell_type": "code",
   "execution_count": 43,
   "id": "663ff878",
   "metadata": {},
   "outputs": [],
   "source": [
    "# Creating object of tokenizer and lemmatizer\n",
    "tokenizer = RegexpTokenizer(r\"\\w+\")\n",
    "lemmatizer = WordNetLemmatizer()"
   ]
  },
  {
   "cell_type": "code",
   "execution_count": 44,
   "id": "fffce1de",
   "metadata": {},
   "outputs": [],
   "source": [
    "# Function to clean the Tag column in inventory\n",
    "def clean_tag(row):\n",
    "    # convert into lower character\n",
    "    row = row.lower()\n",
    "    # split string into words\n",
    "    words = tokenizer.tokenize(row)\n",
    "    # remove stop words and apply lemmatization\n",
    "    words = [lemmatizer.lemmatize(word.strip()) for word in words if word not in stopwords.words('english')]\n",
    "    return ' '.join(words)"
   ]
  },
  {
   "cell_type": "code",
   "execution_count": 45,
   "id": "cb8b0dc4",
   "metadata": {},
   "outputs": [],
   "source": [
    "# Applying clean tag function to transform the text\n",
    "df_inventory['Tag'] = df_inventory['Tag'].apply(clean_tag)"
   ]
  },
  {
   "cell_type": "code",
   "execution_count": 46,
   "id": "b06bc25a",
   "metadata": {},
   "outputs": [
    {
     "data": {
      "text/html": [
       "<div>\n",
       "<style scoped>\n",
       "    .dataframe tbody tr th:only-of-type {\n",
       "        vertical-align: middle;\n",
       "    }\n",
       "\n",
       "    .dataframe tbody tr th {\n",
       "        vertical-align: top;\n",
       "    }\n",
       "\n",
       "    .dataframe thead th {\n",
       "        text-align: right;\n",
       "    }\n",
       "</style>\n",
       "<table border=\"1\" class=\"dataframe\">\n",
       "  <thead>\n",
       "    <tr style=\"text-align: right;\">\n",
       "      <th></th>\n",
       "      <th>ProductId</th>\n",
       "      <th>ProductName</th>\n",
       "      <th>Cost</th>\n",
       "      <th>Price</th>\n",
       "      <th>Rating</th>\n",
       "      <th>ProductTag</th>\n",
       "      <th>AvalQuantity</th>\n",
       "      <th>BoxDimensions</th>\n",
       "      <th>Tag</th>\n",
       "    </tr>\n",
       "  </thead>\n",
       "  <tbody>\n",
       "    <tr>\n",
       "      <th>0</th>\n",
       "      <td>245</td>\n",
       "      <td>Guatemalan Signature Roast Ground Coffee</td>\n",
       "      <td>13.78</td>\n",
       "      <td>25.99</td>\n",
       "      <td>4.4427</td>\n",
       "      <td>coffee, ground</td>\n",
       "      <td>93</td>\n",
       "      <td>8x4x3</td>\n",
       "      <td>guatemalan signature roast ground coffee coffe...</td>\n",
       "    </tr>\n",
       "    <tr>\n",
       "      <th>1</th>\n",
       "      <td>278</td>\n",
       "      <td>Los Gigantes Colombia (Coffee Beans)</td>\n",
       "      <td>10.75</td>\n",
       "      <td>20.00</td>\n",
       "      <td>4.3185</td>\n",
       "      <td>coffee, artisanal</td>\n",
       "      <td>5</td>\n",
       "      <td>6x3x2</td>\n",
       "      <td>los gigantes colombia coffee bean coffee artis...</td>\n",
       "    </tr>\n",
       "    <tr>\n",
       "      <th>2</th>\n",
       "      <td>351</td>\n",
       "      <td>Rowkin Bit Charge Stereo (Silver)</td>\n",
       "      <td>64.00</td>\n",
       "      <td>102.99</td>\n",
       "      <td>4.0000</td>\n",
       "      <td>music</td>\n",
       "      <td>6</td>\n",
       "      <td>NaN</td>\n",
       "      <td>rowkin bit charge stereo silver music</td>\n",
       "    </tr>\n",
       "    <tr>\n",
       "      <th>3</th>\n",
       "      <td>424</td>\n",
       "      <td>Chocolate Fruit and Nut Dragee Sampler</td>\n",
       "      <td>21.00</td>\n",
       "      <td>35.00</td>\n",
       "      <td>4.4643</td>\n",
       "      <td>sweet</td>\n",
       "      <td>12</td>\n",
       "      <td>NaN</td>\n",
       "      <td>chocolate fruit nut dragee sampler sweet</td>\n",
       "    </tr>\n",
       "    <tr>\n",
       "      <th>4</th>\n",
       "      <td>700</td>\n",
       "      <td>Pro Lens Kit for Phone Camera</td>\n",
       "      <td>24.50</td>\n",
       "      <td>42.99</td>\n",
       "      <td>4.3588</td>\n",
       "      <td>photography</td>\n",
       "      <td>1</td>\n",
       "      <td>8x4x3</td>\n",
       "      <td>pro lens kit phone camera photography</td>\n",
       "    </tr>\n",
       "  </tbody>\n",
       "</table>\n",
       "</div>"
      ],
      "text/plain": [
       "   ProductId                               ProductName   Cost   Price  Rating  \\\n",
       "0        245  Guatemalan Signature Roast Ground Coffee  13.78   25.99  4.4427   \n",
       "1        278      Los Gigantes Colombia (Coffee Beans)  10.75   20.00  4.3185   \n",
       "2        351         Rowkin Bit Charge Stereo (Silver)  64.00  102.99  4.0000   \n",
       "3        424    Chocolate Fruit and Nut Dragee Sampler  21.00   35.00  4.4643   \n",
       "4        700             Pro Lens Kit for Phone Camera  24.50   42.99  4.3588   \n",
       "\n",
       "          ProductTag  AvalQuantity BoxDimensions  \\\n",
       "0     coffee, ground            93         8x4x3   \n",
       "1  coffee, artisanal             5         6x3x2   \n",
       "2              music             6           NaN   \n",
       "3              sweet            12           NaN   \n",
       "4        photography             1         8x4x3   \n",
       "\n",
       "                                                 Tag  \n",
       "0  guatemalan signature roast ground coffee coffe...  \n",
       "1  los gigantes colombia coffee bean coffee artis...  \n",
       "2              rowkin bit charge stereo silver music  \n",
       "3           chocolate fruit nut dragee sampler sweet  \n",
       "4              pro lens kit phone camera photography  "
      ]
     },
     "execution_count": 46,
     "metadata": {},
     "output_type": "execute_result"
    }
   ],
   "source": [
    "df_inventory.head()"
   ]
  },
  {
   "cell_type": "code",
   "execution_count": 47,
   "id": "31ed7dba",
   "metadata": {},
   "outputs": [
    {
     "data": {
      "text/html": [
       "<div>\n",
       "<style scoped>\n",
       "    .dataframe tbody tr th:only-of-type {\n",
       "        vertical-align: middle;\n",
       "    }\n",
       "\n",
       "    .dataframe tbody tr th {\n",
       "        vertical-align: top;\n",
       "    }\n",
       "\n",
       "    .dataframe thead th {\n",
       "        text-align: right;\n",
       "    }\n",
       "</style>\n",
       "<table border=\"1\" class=\"dataframe\">\n",
       "  <thead>\n",
       "    <tr style=\"text-align: right;\">\n",
       "      <th></th>\n",
       "      <th>ProductId</th>\n",
       "      <th>ProductName</th>\n",
       "      <th>ProductTag</th>\n",
       "      <th>Rating</th>\n",
       "      <th>Cost</th>\n",
       "      <th>Price</th>\n",
       "      <th>Tag</th>\n",
       "    </tr>\n",
       "  </thead>\n",
       "  <tbody>\n",
       "    <tr>\n",
       "      <th>0</th>\n",
       "      <td>245</td>\n",
       "      <td>Guatemalan Signature Roast Ground Coffee</td>\n",
       "      <td>coffee, ground</td>\n",
       "      <td>4.4427</td>\n",
       "      <td>13.78</td>\n",
       "      <td>25.99</td>\n",
       "      <td>guatemalan signature roast ground coffee coffe...</td>\n",
       "    </tr>\n",
       "    <tr>\n",
       "      <th>1</th>\n",
       "      <td>278</td>\n",
       "      <td>Los Gigantes Colombia (Coffee Beans)</td>\n",
       "      <td>coffee, artisanal</td>\n",
       "      <td>4.3185</td>\n",
       "      <td>10.75</td>\n",
       "      <td>20.00</td>\n",
       "      <td>los gigantes colombia coffee bean coffee artis...</td>\n",
       "    </tr>\n",
       "    <tr>\n",
       "      <th>2</th>\n",
       "      <td>351</td>\n",
       "      <td>Rowkin Bit Charge Stereo (Silver)</td>\n",
       "      <td>music</td>\n",
       "      <td>4.0000</td>\n",
       "      <td>64.00</td>\n",
       "      <td>102.99</td>\n",
       "      <td>rowkin bit charge stereo silver music</td>\n",
       "    </tr>\n",
       "    <tr>\n",
       "      <th>3</th>\n",
       "      <td>424</td>\n",
       "      <td>Chocolate Fruit and Nut Dragee Sampler</td>\n",
       "      <td>sweet</td>\n",
       "      <td>4.4643</td>\n",
       "      <td>21.00</td>\n",
       "      <td>35.00</td>\n",
       "      <td>chocolate fruit nut dragee sampler sweet</td>\n",
       "    </tr>\n",
       "    <tr>\n",
       "      <th>4</th>\n",
       "      <td>700</td>\n",
       "      <td>Pro Lens Kit for Phone Camera</td>\n",
       "      <td>photography</td>\n",
       "      <td>4.3588</td>\n",
       "      <td>24.50</td>\n",
       "      <td>42.99</td>\n",
       "      <td>pro lens kit phone camera photography</td>\n",
       "    </tr>\n",
       "  </tbody>\n",
       "</table>\n",
       "</div>"
      ],
      "text/plain": [
       "   ProductId                               ProductName         ProductTag  \\\n",
       "0        245  Guatemalan Signature Roast Ground Coffee     coffee, ground   \n",
       "1        278      Los Gigantes Colombia (Coffee Beans)  coffee, artisanal   \n",
       "2        351         Rowkin Bit Charge Stereo (Silver)              music   \n",
       "3        424    Chocolate Fruit and Nut Dragee Sampler              sweet   \n",
       "4        700             Pro Lens Kit for Phone Camera        photography   \n",
       "\n",
       "   Rating   Cost   Price                                                Tag  \n",
       "0  4.4427  13.78   25.99  guatemalan signature roast ground coffee coffe...  \n",
       "1  4.3185  10.75   20.00  los gigantes colombia coffee bean coffee artis...  \n",
       "2  4.0000  64.00  102.99              rowkin bit charge stereo silver music  \n",
       "3  4.4643  21.00   35.00           chocolate fruit nut dragee sampler sweet  \n",
       "4  4.3588  24.50   42.99              pro lens kit phone camera photography  "
      ]
     },
     "execution_count": 47,
     "metadata": {},
     "output_type": "execute_result"
    }
   ],
   "source": [
    "# Taking required columns for recommendation into new dataframe\n",
    "df_inventory_final = df_inventory[['ProductId', 'ProductName', 'ProductTag', 'Rating', 'Cost', 'Price', 'Tag']]\n",
    "df_inventory_final.head()"
   ]
  },
  {
   "cell_type": "code",
   "execution_count": 48,
   "id": "3deda928",
   "metadata": {},
   "outputs": [
    {
     "data": {
      "text/plain": [
       "(342, 7)"
      ]
     },
     "execution_count": 48,
     "metadata": {},
     "output_type": "execute_result"
    }
   ],
   "source": [
    "# Shape of the final inventory data\n",
    "df_inventory_final.shape"
   ]
  },
  {
   "cell_type": "markdown",
   "id": "6d818688",
   "metadata": {},
   "source": [
    "# Create a dataset for predictive modeling"
   ]
  },
  {
   "cell_type": "code",
   "execution_count": 49,
   "id": "c1932c61",
   "metadata": {},
   "outputs": [
    {
     "data": {
      "text/html": [
       "<div>\n",
       "<style scoped>\n",
       "    .dataframe tbody tr th:only-of-type {\n",
       "        vertical-align: middle;\n",
       "    }\n",
       "\n",
       "    .dataframe tbody tr th {\n",
       "        vertical-align: top;\n",
       "    }\n",
       "\n",
       "    .dataframe thead th {\n",
       "        text-align: right;\n",
       "    }\n",
       "</style>\n",
       "<table border=\"1\" class=\"dataframe\">\n",
       "  <thead>\n",
       "    <tr style=\"text-align: right;\">\n",
       "      <th></th>\n",
       "      <th>OrderID</th>\n",
       "      <th>OrderPrice</th>\n",
       "      <th>Amount_Charged</th>\n",
       "      <th>GiftBox</th>\n",
       "      <th>Preferences</th>\n",
       "      <th>Rating</th>\n",
       "      <th>Available_Inventory</th>\n",
       "    </tr>\n",
       "  </thead>\n",
       "  <tbody>\n",
       "    <tr>\n",
       "      <th>0</th>\n",
       "      <td>171890429</td>\n",
       "      <td>30</td>\n",
       "      <td>34.0</td>\n",
       "      <td>1985,4312</td>\n",
       "      <td>I’m more of a tea person 🍵$$$I prefer herbal/d...</td>\n",
       "      <td>0</td>\n",
       "      <td>True</td>\n",
       "    </tr>\n",
       "    <tr>\n",
       "      <th>1</th>\n",
       "      <td>171890412</td>\n",
       "      <td>30</td>\n",
       "      <td>36.0</td>\n",
       "      <td>4443,5234</td>\n",
       "      <td>I don’t drink coffee or tea 🤭$$$ Chocolates, C...</td>\n",
       "      <td>0</td>\n",
       "      <td>True</td>\n",
       "    </tr>\n",
       "    <tr>\n",
       "      <th>2</th>\n",
       "      <td>171890410</td>\n",
       "      <td>50</td>\n",
       "      <td>115.0</td>\n",
       "      <td>3823,4729,1002</td>\n",
       "      <td>I'm a coffee person ☕️$$$I like coffee but I d...</td>\n",
       "      <td>0</td>\n",
       "      <td>True</td>\n",
       "    </tr>\n",
       "    <tr>\n",
       "      <th>3</th>\n",
       "      <td>171890399</td>\n",
       "      <td>50</td>\n",
       "      <td>62.0</td>\n",
       "      <td>4991,5236</td>\n",
       "      <td>I'm a coffee person ☕️$$$I like coffee but I d...</td>\n",
       "      <td>0</td>\n",
       "      <td>True</td>\n",
       "    </tr>\n",
       "    <tr>\n",
       "      <th>4</th>\n",
       "      <td>171890387</td>\n",
       "      <td>50</td>\n",
       "      <td>54.0</td>\n",
       "      <td>1859,5061,5249</td>\n",
       "      <td>I’m more of a tea person 🍵$$$Any specialty tea...</td>\n",
       "      <td>0</td>\n",
       "      <td>True</td>\n",
       "    </tr>\n",
       "  </tbody>\n",
       "</table>\n",
       "</div>"
      ],
      "text/plain": [
       "     OrderID  OrderPrice  Amount_Charged         GiftBox  \\\n",
       "0  171890429          30            34.0       1985,4312   \n",
       "1  171890412          30            36.0       4443,5234   \n",
       "2  171890410          50           115.0  3823,4729,1002   \n",
       "3  171890399          50            62.0       4991,5236   \n",
       "4  171890387          50            54.0  1859,5061,5249   \n",
       "\n",
       "                                         Preferences  Rating  \\\n",
       "0  I’m more of a tea person 🍵$$$I prefer herbal/d...       0   \n",
       "1  I don’t drink coffee or tea 🤭$$$ Chocolates, C...       0   \n",
       "2  I'm a coffee person ☕️$$$I like coffee but I d...       0   \n",
       "3  I'm a coffee person ☕️$$$I like coffee but I d...       0   \n",
       "4  I’m more of a tea person 🍵$$$Any specialty tea...       0   \n",
       "\n",
       "   Available_Inventory  \n",
       "0                 True  \n",
       "1                 True  \n",
       "2                 True  \n",
       "3                 True  \n",
       "4                 True  "
      ]
     },
     "execution_count": 49,
     "metadata": {},
     "output_type": "execute_result"
    }
   ],
   "source": [
    "df_legacy.head()"
   ]
  },
  {
   "cell_type": "code",
   "execution_count": 50,
   "id": "c6b657e7",
   "metadata": {},
   "outputs": [],
   "source": [
    "# Create a new dataframe of legacy data\n",
    "df_legacy_final = pd.DataFrame(columns=['Preferences', 'Category'])\n",
    "\n",
    "for i in range(df_legacy.shape[0]):\n",
    "    ids = list(map(int, df_legacy['GiftBox'][i].split(',')))\n",
    "    preference = df_legacy['Preferences'][i]\n",
    "    for id in ids:\n",
    "        categories = df_inventory[df_inventory['ProductId'] == id]['ProductTag'].values[0].split(',')\n",
    "        for category in categories:\n",
    "            if category not in ['', '1', '2']:\n",
    "                df_legacy_final.loc[len(df_legacy_final.index)] = [preference, category.strip()]"
   ]
  },
  {
   "cell_type": "code",
   "execution_count": 51,
   "id": "d33a3391",
   "metadata": {},
   "outputs": [
    {
     "data": {
      "text/plain": [
       "(3883, 2)"
      ]
     },
     "execution_count": 51,
     "metadata": {},
     "output_type": "execute_result"
    }
   ],
   "source": [
    "# Shape of the final legacy data\n",
    "df_legacy_final.shape"
   ]
  },
  {
   "cell_type": "code",
   "execution_count": 52,
   "id": "cc83e5d7",
   "metadata": {},
   "outputs": [
    {
     "data": {
      "text/html": [
       "<div>\n",
       "<style scoped>\n",
       "    .dataframe tbody tr th:only-of-type {\n",
       "        vertical-align: middle;\n",
       "    }\n",
       "\n",
       "    .dataframe tbody tr th {\n",
       "        vertical-align: top;\n",
       "    }\n",
       "\n",
       "    .dataframe thead th {\n",
       "        text-align: right;\n",
       "    }\n",
       "</style>\n",
       "<table border=\"1\" class=\"dataframe\">\n",
       "  <thead>\n",
       "    <tr style=\"text-align: right;\">\n",
       "      <th></th>\n",
       "      <th>Preferences</th>\n",
       "      <th>Category</th>\n",
       "    </tr>\n",
       "  </thead>\n",
       "  <tbody>\n",
       "    <tr>\n",
       "      <th>170</th>\n",
       "      <td>I don’t drink coffee or tea 🤭$$$ Savories and ...</td>\n",
       "      <td>hard liquor</td>\n",
       "    </tr>\n",
       "    <tr>\n",
       "      <th>200</th>\n",
       "      <td>I'm a coffee person ☕️$$$I like coffee but I d...</td>\n",
       "      <td>wine</td>\n",
       "    </tr>\n",
       "    <tr>\n",
       "      <th>201</th>\n",
       "      <td>I'm a coffee person ☕️$$$I like coffee but I d...</td>\n",
       "      <td>accessory</td>\n",
       "    </tr>\n",
       "    <tr>\n",
       "      <th>202</th>\n",
       "      <td>I'm a coffee person ☕️$$$I like coffee but I d...</td>\n",
       "      <td>LiquorAccessory</td>\n",
       "    </tr>\n",
       "    <tr>\n",
       "      <th>254</th>\n",
       "      <td>I'm a coffee person ☕️$$$I like coffee but I d...</td>\n",
       "      <td>health and fitness</td>\n",
       "    </tr>\n",
       "    <tr>\n",
       "      <th>...</th>\n",
       "      <td>...</td>\n",
       "      <td>...</td>\n",
       "    </tr>\n",
       "    <tr>\n",
       "      <th>3626</th>\n",
       "      <td>I'm a coffee person ☕️$$$I like to brew regula...</td>\n",
       "      <td>hard liquor</td>\n",
       "    </tr>\n",
       "    <tr>\n",
       "      <th>3748</th>\n",
       "      <td>I'm a coffee person ☕️$$$I like to brew regula...</td>\n",
       "      <td>coffee</td>\n",
       "    </tr>\n",
       "    <tr>\n",
       "      <th>3848</th>\n",
       "      <td>I'm a coffee person ☕️$$$I love to make pour o...</td>\n",
       "      <td>sweet</td>\n",
       "    </tr>\n",
       "    <tr>\n",
       "      <th>3849</th>\n",
       "      <td>I'm a coffee person ☕️$$$I love to make pour o...</td>\n",
       "      <td>coffee</td>\n",
       "    </tr>\n",
       "    <tr>\n",
       "      <th>3850</th>\n",
       "      <td>I'm a coffee person ☕️$$$I love to make pour o...</td>\n",
       "      <td>artisanal</td>\n",
       "    </tr>\n",
       "  </tbody>\n",
       "</table>\n",
       "<p>172 rows × 2 columns</p>\n",
       "</div>"
      ],
      "text/plain": [
       "                                            Preferences            Category\n",
       "170   I don’t drink coffee or tea 🤭$$$ Savories and ...         hard liquor\n",
       "200   I'm a coffee person ☕️$$$I like coffee but I d...                wine\n",
       "201   I'm a coffee person ☕️$$$I like coffee but I d...           accessory\n",
       "202   I'm a coffee person ☕️$$$I like coffee but I d...     LiquorAccessory\n",
       "254   I'm a coffee person ☕️$$$I like coffee but I d...  health and fitness\n",
       "...                                                 ...                 ...\n",
       "3626  I'm a coffee person ☕️$$$I like to brew regula...         hard liquor\n",
       "3748  I'm a coffee person ☕️$$$I like to brew regula...              coffee\n",
       "3848  I'm a coffee person ☕️$$$I love to make pour o...               sweet\n",
       "3849  I'm a coffee person ☕️$$$I love to make pour o...              coffee\n",
       "3850  I'm a coffee person ☕️$$$I love to make pour o...           artisanal\n",
       "\n",
       "[172 rows x 2 columns]"
      ]
     },
     "execution_count": 52,
     "metadata": {},
     "output_type": "execute_result"
    }
   ],
   "source": [
    "# Check for the duplicate column\n",
    "df_legacy_final[df_legacy_final.duplicated()]"
   ]
  },
  {
   "cell_type": "code",
   "execution_count": 53,
   "id": "17d8d17e",
   "metadata": {},
   "outputs": [],
   "source": [
    "# Drop duplicated\n",
    "df_legacy_final.drop_duplicates(inplace=True)"
   ]
  },
  {
   "cell_type": "code",
   "execution_count": 54,
   "id": "4b9cbf7b",
   "metadata": {},
   "outputs": [
    {
     "data": {
      "text/plain": [
       "(3711, 2)"
      ]
     },
     "execution_count": 54,
     "metadata": {},
     "output_type": "execute_result"
    }
   ],
   "source": [
    "# Shape of the final legacy data\n",
    "df_legacy_final.shape"
   ]
  },
  {
   "cell_type": "code",
   "execution_count": 55,
   "id": "5da70422",
   "metadata": {},
   "outputs": [],
   "source": [
    "# Reset the index after removing some rows\n",
    "df_legacy_final.reset_index(inplace=True, drop=True)"
   ]
  },
  {
   "cell_type": "code",
   "execution_count": 56,
   "id": "a7e5e779",
   "metadata": {},
   "outputs": [
    {
     "data": {
      "text/plain": [
       "array(['decaf', 'sweet', 'hard liquor', 'accessory', 'LiquorAccessory',\n",
       "       'wine', 'gadget', 'tea', 'savoury', 'coffee', 'artisanal',\n",
       "       'health and fitness', 'outdoor', 'smart product', 'healthy treat',\n",
       "       'ground', 'Savoury', 'photography', 'Sweet', 'tea bags',\n",
       "       'gluten free', 'non gmo', 'kosher', 'vegan', 'Smart Product',\n",
       "       'homeware', 'music', 'Tea', 'Instant', 'instant', 'Hard Liquor',\n",
       "       'Accessory', 'Photography', 'Health and fitness', 'kids', 'snacks',\n",
       "       'healthy', 'poleo', 'keto'], dtype=object)"
      ]
     },
     "execution_count": 56,
     "metadata": {},
     "output_type": "execute_result"
    }
   ],
   "source": [
    "# Unique Category in final legacy data\n",
    "df_legacy_final['Category'].unique()"
   ]
  },
  {
   "cell_type": "code",
   "execution_count": 57,
   "id": "f2c3b92d",
   "metadata": {},
   "outputs": [
    {
     "data": {
      "text/plain": [
       "39"
      ]
     },
     "execution_count": 57,
     "metadata": {},
     "output_type": "execute_result"
    }
   ],
   "source": [
    "# Number of unique Category in final legacy data\n",
    "df_legacy_final['Category'].nunique()"
   ]
  },
  {
   "cell_type": "code",
   "execution_count": 58,
   "id": "b30957ac",
   "metadata": {},
   "outputs": [
    {
     "data": {
      "text/plain": [
       "[]"
      ]
     },
     "execution_count": 58,
     "metadata": {},
     "output_type": "execute_result"
    },
    {
     "data": {
      "image/png": "[encoded data removed]",
      "text/plain": [
       "<Figure size 864x504 with 1 Axes>"
      ]
     },
     "metadata": {},
     "output_type": "display_data"
    }
   ],
   "source": [
    "# Plot for the count of number of uniques 'Category' values\n",
    "plt.figure(figsize=(12, 7))\n",
    "plt.bar(df_legacy_final['Category'].value_counts().index, df_legacy_final['Category'].value_counts().values)\n",
    "plt.xticks(rotation='vertical')\n",
    "plt.xlabel('Category')\n",
    "plt.ylabel('Number of records')\n",
    "plt.plot()"
   ]
  },
  {
   "cell_type": "markdown",
   "id": "560a1e52",
   "metadata": {},
   "source": [
    "# Export the data frame"
   ]
  },
  {
   "cell_type": "code",
   "execution_count": 59,
   "id": "05e427a7",
   "metadata": {},
   "outputs": [],
   "source": [
    "pickle.dump(df_inventory_final, open('eda_data/recommendation.pkl', 'wb'))\n",
    "pickle.dump(df_legacy_final, open('eda_data/predict.pkl', 'wb'))"
   ]
  }
 ],
 "metadata": {
  "kernelspec": {
   "display_name": "Python 3 (ipykernel)",
   "language": "python",
   "name": "python3"
  },
  "language_info": {
   "codemirror_mode": {
    "name": "ipython",
    "version": 3
   },
   "file_extension": ".py",
   "mimetype": "text/x-python",
   "name": "python",
   "nbconvert_exporter": "python",
   "pygments_lexer": "ipython3",
   "version": "3.9.7"
  }
 },
 "nbformat": 4,
 "nbformat_minor": 5
}
